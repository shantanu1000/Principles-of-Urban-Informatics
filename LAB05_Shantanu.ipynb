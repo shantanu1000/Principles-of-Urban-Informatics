{
 "cells": [
  {
   "cell_type": "markdown",
   "metadata": {},
   "source": [
    "# LAB 5. Hypothesis testing. Green taxi case"
   ]
  },
  {
   "cell_type": "markdown",
   "metadata": {},
   "source": [
    "Test varios hypothesis about ridership volume and trip characteristics for green taxi trips in 2018-2020. \n",
    "\n",
    "Does the ridership decline over time? Does it depend on the day of the week and time of the day? Does the distribution of the trip parameters (distance, time, speed) depend on the day of the week and borough?"
   ]
  },
  {
   "cell_type": "code",
   "execution_count": 1,
   "metadata": {},
   "outputs": [],
   "source": [
    "#import the modules\n",
    "import pandas as pd\n",
    "import geopandas as gpd\n",
    "import urllib.request\n",
    "import os\n",
    "import numpy as np\n",
    "from scipy import stats\n",
    "import matplotlib.pyplot as plt\n",
    "import warnings\n",
    "warnings.filterwarnings('ignore')"
   ]
  },
  {
   "cell_type": "code",
   "execution_count": 2,
   "metadata": {},
   "outputs": [],
   "source": [
    "if os.path.exists('green_taxi/'):\n",
    "    pass\n",
    "else:\n",
    "    os.makedirs('green_taxi')\n",
    "\n",
    "for year in [2019,2020]:\n",
    "    for month in range(1,13):\n",
    "        urllib.request.urlretrieve (\"https://d37ci6vzurychx.cloudfront.net/trip-data/green_tripdata_%s-%s.parquet\"%(str(year),str(month).rjust(2, '0')), \n",
    "                                    \"green_taxi/green_tripdata_%s-%s.parquet\"%(str(year),str(month).rjust(2, '0')))"
   ]
  },
  {
   "cell_type": "code",
   "execution_count": 3,
   "metadata": {
    "tags": []
   },
   "outputs": [
    {
     "data": {
      "text/html": [
       "<div>\n",
       "<style scoped>\n",
       "    .dataframe tbody tr th:only-of-type {\n",
       "        vertical-align: middle;\n",
       "    }\n",
       "\n",
       "    .dataframe tbody tr th {\n",
       "        vertical-align: top;\n",
       "    }\n",
       "\n",
       "    .dataframe thead th {\n",
       "        text-align: right;\n",
       "    }\n",
       "</style>\n",
       "<table border=\"1\" class=\"dataframe\">\n",
       "  <thead>\n",
       "    <tr style=\"text-align: right;\">\n",
       "      <th></th>\n",
       "      <th>VendorID</th>\n",
       "      <th>lpep_pickup_datetime</th>\n",
       "      <th>lpep_dropoff_datetime</th>\n",
       "      <th>store_and_fwd_flag</th>\n",
       "      <th>RatecodeID</th>\n",
       "      <th>PULocationID</th>\n",
       "      <th>DOLocationID</th>\n",
       "      <th>passenger_count</th>\n",
       "      <th>trip_distance</th>\n",
       "      <th>fare_amount</th>\n",
       "      <th>extra</th>\n",
       "      <th>mta_tax</th>\n",
       "      <th>tip_amount</th>\n",
       "      <th>tolls_amount</th>\n",
       "      <th>ehail_fee</th>\n",
       "      <th>improvement_surcharge</th>\n",
       "      <th>total_amount</th>\n",
       "      <th>payment_type</th>\n",
       "      <th>trip_type</th>\n",
       "      <th>congestion_surcharge</th>\n",
       "    </tr>\n",
       "  </thead>\n",
       "  <tbody>\n",
       "    <tr>\n",
       "      <th>0</th>\n",
       "      <td>2</td>\n",
       "      <td>2018-12-21 15:17:29</td>\n",
       "      <td>2018-12-21 15:18:57</td>\n",
       "      <td>N</td>\n",
       "      <td>1.0</td>\n",
       "      <td>264</td>\n",
       "      <td>264</td>\n",
       "      <td>5.0</td>\n",
       "      <td>0.00</td>\n",
       "      <td>3.0</td>\n",
       "      <td>0.5</td>\n",
       "      <td>0.5</td>\n",
       "      <td>0.00</td>\n",
       "      <td>0.0</td>\n",
       "      <td>NaN</td>\n",
       "      <td>0.3</td>\n",
       "      <td>4.30</td>\n",
       "      <td>2.0</td>\n",
       "      <td>1.0</td>\n",
       "      <td>NaN</td>\n",
       "    </tr>\n",
       "    <tr>\n",
       "      <th>1</th>\n",
       "      <td>2</td>\n",
       "      <td>2019-01-01 00:10:16</td>\n",
       "      <td>2019-01-01 00:16:32</td>\n",
       "      <td>N</td>\n",
       "      <td>1.0</td>\n",
       "      <td>97</td>\n",
       "      <td>49</td>\n",
       "      <td>2.0</td>\n",
       "      <td>0.86</td>\n",
       "      <td>6.0</td>\n",
       "      <td>0.5</td>\n",
       "      <td>0.5</td>\n",
       "      <td>0.00</td>\n",
       "      <td>0.0</td>\n",
       "      <td>NaN</td>\n",
       "      <td>0.3</td>\n",
       "      <td>7.30</td>\n",
       "      <td>2.0</td>\n",
       "      <td>1.0</td>\n",
       "      <td>NaN</td>\n",
       "    </tr>\n",
       "    <tr>\n",
       "      <th>2</th>\n",
       "      <td>2</td>\n",
       "      <td>2019-01-01 00:27:11</td>\n",
       "      <td>2019-01-01 00:31:38</td>\n",
       "      <td>N</td>\n",
       "      <td>1.0</td>\n",
       "      <td>49</td>\n",
       "      <td>189</td>\n",
       "      <td>2.0</td>\n",
       "      <td>0.66</td>\n",
       "      <td>4.5</td>\n",
       "      <td>0.5</td>\n",
       "      <td>0.5</td>\n",
       "      <td>0.00</td>\n",
       "      <td>0.0</td>\n",
       "      <td>NaN</td>\n",
       "      <td>0.3</td>\n",
       "      <td>5.80</td>\n",
       "      <td>1.0</td>\n",
       "      <td>1.0</td>\n",
       "      <td>NaN</td>\n",
       "    </tr>\n",
       "    <tr>\n",
       "      <th>3</th>\n",
       "      <td>2</td>\n",
       "      <td>2019-01-01 00:46:20</td>\n",
       "      <td>2019-01-01 01:04:54</td>\n",
       "      <td>N</td>\n",
       "      <td>1.0</td>\n",
       "      <td>189</td>\n",
       "      <td>17</td>\n",
       "      <td>2.0</td>\n",
       "      <td>2.68</td>\n",
       "      <td>13.5</td>\n",
       "      <td>0.5</td>\n",
       "      <td>0.5</td>\n",
       "      <td>2.96</td>\n",
       "      <td>0.0</td>\n",
       "      <td>NaN</td>\n",
       "      <td>0.3</td>\n",
       "      <td>19.71</td>\n",
       "      <td>1.0</td>\n",
       "      <td>1.0</td>\n",
       "      <td>NaN</td>\n",
       "    </tr>\n",
       "    <tr>\n",
       "      <th>4</th>\n",
       "      <td>2</td>\n",
       "      <td>2019-01-01 00:19:06</td>\n",
       "      <td>2019-01-01 00:39:43</td>\n",
       "      <td>N</td>\n",
       "      <td>1.0</td>\n",
       "      <td>82</td>\n",
       "      <td>258</td>\n",
       "      <td>1.0</td>\n",
       "      <td>4.53</td>\n",
       "      <td>18.0</td>\n",
       "      <td>0.5</td>\n",
       "      <td>0.5</td>\n",
       "      <td>0.00</td>\n",
       "      <td>0.0</td>\n",
       "      <td>NaN</td>\n",
       "      <td>0.3</td>\n",
       "      <td>19.30</td>\n",
       "      <td>2.0</td>\n",
       "      <td>1.0</td>\n",
       "      <td>NaN</td>\n",
       "    </tr>\n",
       "  </tbody>\n",
       "</table>\n",
       "</div>"
      ],
      "text/plain": [
       "   VendorID lpep_pickup_datetime lpep_dropoff_datetime store_and_fwd_flag  \\\n",
       "0         2  2018-12-21 15:17:29   2018-12-21 15:18:57                  N   \n",
       "1         2  2019-01-01 00:10:16   2019-01-01 00:16:32                  N   \n",
       "2         2  2019-01-01 00:27:11   2019-01-01 00:31:38                  N   \n",
       "3         2  2019-01-01 00:46:20   2019-01-01 01:04:54                  N   \n",
       "4         2  2019-01-01 00:19:06   2019-01-01 00:39:43                  N   \n",
       "\n",
       "   RatecodeID  PULocationID  DOLocationID  passenger_count  trip_distance  \\\n",
       "0         1.0           264           264              5.0           0.00   \n",
       "1         1.0            97            49              2.0           0.86   \n",
       "2         1.0            49           189              2.0           0.66   \n",
       "3         1.0           189            17              2.0           2.68   \n",
       "4         1.0            82           258              1.0           4.53   \n",
       "\n",
       "   fare_amount  extra  mta_tax  tip_amount  tolls_amount  ehail_fee  \\\n",
       "0          3.0    0.5      0.5        0.00           0.0        NaN   \n",
       "1          6.0    0.5      0.5        0.00           0.0        NaN   \n",
       "2          4.5    0.5      0.5        0.00           0.0        NaN   \n",
       "3         13.5    0.5      0.5        2.96           0.0        NaN   \n",
       "4         18.0    0.5      0.5        0.00           0.0        NaN   \n",
       "\n",
       "   improvement_surcharge  total_amount  payment_type  trip_type  \\\n",
       "0                    0.3          4.30           2.0        1.0   \n",
       "1                    0.3          7.30           2.0        1.0   \n",
       "2                    0.3          5.80           1.0        1.0   \n",
       "3                    0.3         19.71           1.0        1.0   \n",
       "4                    0.3         19.30           2.0        1.0   \n",
       "\n",
       "   congestion_surcharge  \n",
       "0                   NaN  \n",
       "1                   NaN  \n",
       "2                   NaN  \n",
       "3                   NaN  \n",
       "4                   NaN  "
      ]
     },
     "execution_count": 3,
     "metadata": {},
     "output_type": "execute_result"
    }
   ],
   "source": [
    "dfTaxi = pd.read_parquet('green_taxi/')\n",
    "dfTaxi.head()"
   ]
  },
  {
   "cell_type": "code",
   "execution_count": 4,
   "metadata": {},
   "outputs": [],
   "source": [
    "#take care of the timestamp types\n",
    "dfTaxi['lpep_pickup_datetime'] = pd.to_datetime(dfTaxi['lpep_pickup_datetime'])\n",
    "dfTaxi['lpep_dropoff_datetime'] = pd.to_datetime(dfTaxi['lpep_dropoff_datetime'])"
   ]
  },
  {
   "cell_type": "code",
   "execution_count": 5,
   "metadata": {},
   "outputs": [],
   "source": [
    "#extract date, year, day of the week and hour (takes some time around half a minute)\n",
    "dfTaxi['Date'] = dfTaxi['lpep_pickup_datetime'].dt.date\n",
    "dfTaxi['Month'] = dfTaxi['lpep_pickup_datetime'].dt.month\n",
    "dfTaxi['Year'] = dfTaxi['lpep_pickup_datetime'].dt.year\n",
    "dfTaxi['DOW'] = dfTaxi['lpep_pickup_datetime'].dt.dayofweek\n",
    "dfTaxi['Hour'] = dfTaxi['lpep_pickup_datetime'].dt.hour\n",
    "dfTaxi = dfTaxi.loc[dfTaxi['Year'].isin([2018,2019,2020])]"
   ]
  },
  {
   "cell_type": "code",
   "execution_count": 6,
   "metadata": {
    "tags": []
   },
   "outputs": [],
   "source": [
    "#calculate trip duration in minutes\n",
    "dfTaxi['trip_duration'] = (dfTaxi['lpep_dropoff_datetime'] - dfTaxi['lpep_pickup_datetime'])\n",
    "dfTaxi['trip_duration'] = dfTaxi['trip_duration'].dt.total_seconds() / 60"
   ]
  },
  {
   "cell_type": "code",
   "execution_count": 7,
   "metadata": {
    "tags": []
   },
   "outputs": [],
   "source": [
    "dfTaxi['speed'] = dfTaxi['trip_distance'] / (dfTaxi['trip_duration'] / 60) #avg trip speed in miles per hoiur"
   ]
  },
  {
   "cell_type": "code",
   "execution_count": 8,
   "metadata": {},
   "outputs": [
    {
     "data": {
      "text/plain": [
       "8034961"
      ]
     },
     "execution_count": 8,
     "metadata": {},
     "output_type": "execute_result"
    }
   ],
   "source": [
    "len(dfTaxi) #original number of records"
   ]
  },
  {
   "cell_type": "code",
   "execution_count": 9,
   "metadata": {},
   "outputs": [
    {
     "data": {
      "text/plain": [
       "7215288"
      ]
     },
     "execution_count": 9,
     "metadata": {},
     "output_type": "execute_result"
    }
   ],
   "source": [
    "#sanity filtering\n",
    "dfTaxi = dfTaxi[(dfTaxi['Date']<=pd.to_datetime('6/30/2020')) & (dfTaxi.trip_distance < 100)\n",
    "           & (dfTaxi.speed <= 80) & (dfTaxi.speed >= 1) & (dfTaxi.trip_duration <= 100) & (dfTaxi.trip_duration >= 1)]\n",
    "len(dfTaxi) #remaining records"
   ]
  },
  {
   "cell_type": "code",
   "execution_count": 10,
   "metadata": {},
   "outputs": [],
   "source": [
    "#daily total trip counts and cumulative duration and distance traveled\n",
    "dfTaxiDaily = dfTaxi.groupby(['Year','Month','DOW','Date']).\\\n",
    "            agg({'lpep_pickup_datetime':'count','trip_duration':'sum','trip_distance':'sum'}).\\\n",
    "            rename(columns={'lpep_pickup_datetime':'trip_count'}).reset_index()\n",
    "dfTaxiDaily = dfTaxiDaily.sort_values(by='Date')"
   ]
  },
  {
   "cell_type": "code",
   "execution_count": 11,
   "metadata": {},
   "outputs": [],
   "source": [
    "dfTaxiDaily['speed'] = dfTaxiDaily['trip_distance'] / dfTaxiDaily['trip_duration'] * 60"
   ]
  },
  {
   "cell_type": "code",
   "execution_count": 12,
   "metadata": {},
   "outputs": [
    {
     "data": {
      "text/html": [
       "<div>\n",
       "<style scoped>\n",
       "    .dataframe tbody tr th:only-of-type {\n",
       "        vertical-align: middle;\n",
       "    }\n",
       "\n",
       "    .dataframe tbody tr th {\n",
       "        vertical-align: top;\n",
       "    }\n",
       "\n",
       "    .dataframe thead th {\n",
       "        text-align: right;\n",
       "    }\n",
       "</style>\n",
       "<table border=\"1\" class=\"dataframe\">\n",
       "  <thead>\n",
       "    <tr style=\"text-align: right;\">\n",
       "      <th></th>\n",
       "      <th>Year</th>\n",
       "      <th>Month</th>\n",
       "      <th>DOW</th>\n",
       "      <th>Date</th>\n",
       "      <th>trip_count</th>\n",
       "      <th>trip_duration</th>\n",
       "      <th>trip_distance</th>\n",
       "      <th>speed</th>\n",
       "    </tr>\n",
       "  </thead>\n",
       "  <tbody>\n",
       "    <tr>\n",
       "      <th>0</th>\n",
       "      <td>2018</td>\n",
       "      <td>12</td>\n",
       "      <td>0</td>\n",
       "      <td>2018-12-31</td>\n",
       "      <td>26</td>\n",
       "      <td>258.316667</td>\n",
       "      <td>60.45</td>\n",
       "      <td>14.040906</td>\n",
       "    </tr>\n",
       "    <tr>\n",
       "      <th>5</th>\n",
       "      <td>2019</td>\n",
       "      <td>1</td>\n",
       "      <td>1</td>\n",
       "      <td>2019-01-01</td>\n",
       "      <td>14806</td>\n",
       "      <td>204573.783333</td>\n",
       "      <td>58685.45</td>\n",
       "      <td>17.212015</td>\n",
       "    </tr>\n",
       "    <tr>\n",
       "      <th>10</th>\n",
       "      <td>2019</td>\n",
       "      <td>1</td>\n",
       "      <td>2</td>\n",
       "      <td>2019-01-02</td>\n",
       "      <td>19337</td>\n",
       "      <td>313291.066667</td>\n",
       "      <td>78826.38</td>\n",
       "      <td>15.096450</td>\n",
       "    </tr>\n",
       "    <tr>\n",
       "      <th>15</th>\n",
       "      <td>2019</td>\n",
       "      <td>1</td>\n",
       "      <td>3</td>\n",
       "      <td>2019-01-03</td>\n",
       "      <td>21199</td>\n",
       "      <td>354189.416667</td>\n",
       "      <td>85026.18</td>\n",
       "      <td>14.403510</td>\n",
       "    </tr>\n",
       "    <tr>\n",
       "      <th>20</th>\n",
       "      <td>2019</td>\n",
       "      <td>1</td>\n",
       "      <td>4</td>\n",
       "      <td>2019-01-04</td>\n",
       "      <td>22445</td>\n",
       "      <td>365281.183333</td>\n",
       "      <td>87954.88</td>\n",
       "      <td>14.447207</td>\n",
       "    </tr>\n",
       "  </tbody>\n",
       "</table>\n",
       "</div>"
      ],
      "text/plain": [
       "    Year  Month  DOW        Date  trip_count  trip_duration  trip_distance  \\\n",
       "0   2018     12    0  2018-12-31          26     258.316667          60.45   \n",
       "5   2019      1    1  2019-01-01       14806  204573.783333       58685.45   \n",
       "10  2019      1    2  2019-01-02       19337  313291.066667       78826.38   \n",
       "15  2019      1    3  2019-01-03       21199  354189.416667       85026.18   \n",
       "20  2019      1    4  2019-01-04       22445  365281.183333       87954.88   \n",
       "\n",
       "        speed  \n",
       "0   14.040906  \n",
       "5   17.212015  \n",
       "10  15.096450  \n",
       "15  14.403510  \n",
       "20  14.447207  "
      ]
     },
     "execution_count": 12,
     "metadata": {},
     "output_type": "execute_result"
    }
   ],
   "source": [
    "dfTaxiDaily.head()"
   ]
  },
  {
   "cell_type": "code",
   "execution_count": 13,
   "metadata": {},
   "outputs": [
    {
     "data": {
      "image/png": "[encoded data removed]",
      "text/plain": [
       "<Figure size 640x480 with 1 Axes>"
      ]
     },
     "metadata": {},
     "output_type": "display_data"
    }
   ],
   "source": [
    "#ridership timeline - daily trip counts; seem to decline and particularly during the pandemics lockdown\n",
    "plt.plot(dfTaxiDaily['Date'], dfTaxiDaily['trip_count'])\n",
    "plt.xticks(rotation=70);\n",
    "plt.show()"
   ]
  },
  {
   "cell_type": "code",
   "execution_count": 14,
   "metadata": {},
   "outputs": [
    {
     "data": {
      "image/png": "[encoded data removed]",
      "text/plain": [
       "<Figure size 640x480 with 1 Axes>"
      ]
     },
     "metadata": {},
     "output_type": "display_data"
    }
   ],
   "source": [
    "#histograms of daily counts in 2019 and 2018 - distributions look different\n",
    "plt.hist(dfTaxiDaily.loc[dfTaxiDaily['Year']==2019]['trip_count'].values,bins=30,label='2019')\n",
    "plt.hist(dfTaxiDaily.loc[dfTaxiDaily['Year']==2020]['trip_count'].values,bins=30,alpha=0.9,label='2020')\n",
    "#plt.hist(dfTaxiDaily.loc[dfTaxiDaily['Year']==2020]['trip_count'].values,bins=30,alpha=0.5,label='2020')\n",
    "plt.legend()\n",
    "plt.show()"
   ]
  },
  {
   "cell_type": "code",
   "execution_count": 15,
   "metadata": {},
   "outputs": [
    {
     "data": {
      "text/plain": [
       "Ttest_indResult(statistic=0.0, pvalue=1.0)"
      ]
     },
     "execution_count": 15,
     "metadata": {},
     "output_type": "execute_result"
    }
   ],
   "source": [
    "## t-test between the 2019 and 2018 distributions\n",
    "stats.ttest_ind(dfTaxiDaily.loc[dfTaxiDaily['Year']==2019]['trip_count'],dfTaxiDaily.loc[dfTaxiDaily['Year']==2019]['trip_count'])"
   ]
  },
  {
   "cell_type": "code",
   "execution_count": 16,
   "metadata": {},
   "outputs": [
    {
     "data": {
      "text/plain": [
       "KstestResult(statistic=0.0, pvalue=1.0)"
      ]
     },
     "execution_count": 16,
     "metadata": {},
     "output_type": "execute_result"
    }
   ],
   "source": [
    "## K-S test\n",
    "stats.ks_2samp(dfTaxiDaily.loc[dfTaxiDaily['Year']==2019]['trip_count'],dfTaxiDaily.loc[dfTaxiDaily['Year']==2019]['trip_count'])"
   ]
  },
  {
   "cell_type": "markdown",
   "metadata": {},
   "source": [
    "So the hypothesis that 2018 and 2019 daily trip counts follow the same distributions can be rejected beyond any reasonable doubt"
   ]
  },
  {
   "cell_type": "code",
   "execution_count": 17,
   "metadata": {},
   "outputs": [
    {
     "data": {
      "text/plain": [
       "(6050571, 6050571)"
      ]
     },
     "execution_count": 17,
     "metadata": {},
     "output_type": "execute_result"
    }
   ],
   "source": [
    "#For further analysis select the year 2019\n",
    "dfTaxiDaily2019 = dfTaxiDaily.loc[dfTaxiDaily['Year']==2019] #daily aggregates\n",
    "dfTaxi2019 = dfTaxi.loc[dfTaxi['Year']==2019] #individual trips\n",
    "(dfTaxiDaily2019['trip_count'].sum(),len(dfTaxi2019)) #total trip counts in either dataset"
   ]
  },
  {
   "cell_type": "markdown",
   "metadata": {},
   "source": [
    "## Example 1. Test if weekend ridership is different from weekday"
   ]
  },
  {
   "cell_type": "code",
   "execution_count": 18,
   "metadata": {},
   "outputs": [
    {
     "data": {
      "text/plain": [
       "Ttest_indResult(statistic=-3.4042707657462894, pvalue=0.0007375120140568516)"
      ]
     },
     "execution_count": 18,
     "metadata": {},
     "output_type": "execute_result"
    }
   ],
   "source": [
    "# Monday is 0, Sunday is 6; weekends: DOW>4, weekdays: DOW<=4\n",
    "# t-test\n",
    "stats.ttest_ind(dfTaxiDaily2019.loc[dfTaxiDaily2019['DOW']>4]['trip_count'],\n",
    "                dfTaxiDaily2019.loc[dfTaxiDaily2019['DOW']<=4]['trip_count'])"
   ]
  },
  {
   "cell_type": "code",
   "execution_count": 19,
   "metadata": {},
   "outputs": [
    {
     "data": {
      "text/plain": [
       "KstestResult(statistic=0.21198054818744475, pvalue=0.0020180944149611403)"
      ]
     },
     "execution_count": 19,
     "metadata": {},
     "output_type": "execute_result"
    }
   ],
   "source": [
    "# Monday is 0, Sunday is 6; weekends: DOW>4, weekdays: DOW<=4\n",
    "# KS-test\n",
    "stats.ks_2samp(dfTaxiDaily2019.loc[dfTaxiDaily2019['DOW']>4]['trip_count'],\n",
    "                dfTaxiDaily2019.loc[dfTaxiDaily2019['DOW']<=4]['trip_count'])"
   ]
  },
  {
   "cell_type": "markdown",
   "metadata": {},
   "source": [
    "Reject the hypothesis that weekends and weekdays follow the same ridership distribution at 95\\% significance level"
   ]
  },
  {
   "cell_type": "markdown",
   "metadata": {},
   "source": [
    "## Example 2. Test if trip speed, duration or distance follow log-normal distributions"
   ]
  },
  {
   "cell_type": "code",
   "execution_count": 20,
   "metadata": {},
   "outputs": [
    {
     "data": {
      "text/plain": [
       "<AxesSubplot:>"
      ]
     },
     "execution_count": 20,
     "metadata": {},
     "output_type": "execute_result"
    },
    {
     "data": {
      "image/png": "[encoded data removed]",
      "text/plain": [
       "<Figure size 640x480 with 1 Axes>"
      ]
     },
     "metadata": {},
     "output_type": "display_data"
    }
   ],
   "source": [
    "#analyze the overall speed distribution (plot on log-scale)\n",
    "np.log(dfTaxi2019['speed']).hist(bins=100)"
   ]
  },
  {
   "cell_type": "code",
   "execution_count": 21,
   "metadata": {},
   "outputs": [
    {
     "data": {
      "text/plain": [
       "<AxesSubplot:>"
      ]
     },
     "execution_count": 21,
     "metadata": {},
     "output_type": "execute_result"
    },
    {
     "data": {
      "image/png": "[encoded data removed]",
      "text/plain": [
       "<Figure size 640x480 with 1 Axes>"
      ]
     },
     "metadata": {},
     "output_type": "display_data"
    }
   ],
   "source": [
    "#analyze the overall duration distribution (plot on log-scale)\n",
    "np.log(dfTaxi2019['trip_duration']).hist(bins=100)"
   ]
  },
  {
   "cell_type": "code",
   "execution_count": 22,
   "metadata": {},
   "outputs": [
    {
     "data": {
      "text/plain": [
       "<AxesSubplot:>"
      ]
     },
     "execution_count": 22,
     "metadata": {},
     "output_type": "execute_result"
    },
    {
     "data": {
      "image/png": "[encoded data removed]",
      "text/plain": [
       "<Figure size 640x480 with 1 Axes>"
      ]
     },
     "metadata": {},
     "output_type": "display_data"
    }
   ],
   "source": [
    "#analyze the overall duration distribution (plot on log-scale)\n",
    "np.log(dfTaxi2019['trip_distance']).hist(bins=100)"
   ]
  },
  {
   "cell_type": "code",
   "execution_count": 23,
   "metadata": {},
   "outputs": [],
   "source": [
    "def is_normal(x): #check is the distribution is normal using one-sample KS test and sample mean-std\n",
    "    return stats.kstest(x,'norm',args=(x.mean(),x.std()))"
   ]
  },
  {
   "cell_type": "code",
   "execution_count": 24,
   "metadata": {},
   "outputs": [
    {
     "data": {
      "text/plain": [
       "KstestResult(statistic=0.041125044444147774, pvalue=0.0)"
      ]
     },
     "execution_count": 24,
     "metadata": {},
     "output_type": "execute_result"
    }
   ],
   "source": [
    "# is log-speed normally distributed?\n",
    "is_normal(np.log(dfTaxi2019['speed']))"
   ]
  },
  {
   "cell_type": "code",
   "execution_count": 25,
   "metadata": {},
   "outputs": [
    {
     "data": {
      "text/plain": [
       "KstestResult(statistic=0.009910669525470817, pvalue=0.0)"
      ]
     },
     "execution_count": 25,
     "metadata": {},
     "output_type": "execute_result"
    }
   ],
   "source": [
    "# is log-duration normally distributed?\n",
    "is_normal(np.log(dfTaxi2019['trip_duration']))"
   ]
  },
  {
   "cell_type": "code",
   "execution_count": 26,
   "metadata": {},
   "outputs": [
    {
     "data": {
      "text/plain": [
       "KstestResult(statistic=0.038052087226787656, pvalue=0.0)"
      ]
     },
     "execution_count": 26,
     "metadata": {},
     "output_type": "execute_result"
    }
   ],
   "source": [
    "# is log-distance normally distributed?\n",
    "is_normal(np.log(dfTaxi2019['trip_distance']))"
   ]
  },
  {
   "cell_type": "code",
   "execution_count": 27,
   "metadata": {},
   "outputs": [],
   "source": [
    "#so none of those quantities have log-normal distribution (rejecting with 99.9999...% confidence)"
   ]
  },
  {
   "cell_type": "code",
   "execution_count": 28,
   "metadata": {},
   "outputs": [],
   "source": [
    "#what about daily average trip_count, duration, distance, speed?"
   ]
  },
  {
   "cell_type": "code",
   "execution_count": 29,
   "metadata": {},
   "outputs": [
    {
     "data": {
      "text/plain": [
       "KstestResult(statistic=0.08976513787910678, pvalue=0.0052161800054339475)"
      ]
     },
     "execution_count": 29,
     "metadata": {},
     "output_type": "execute_result"
    }
   ],
   "source": [
    "is_normal(dfTaxiDaily2019['trip_count']) #does not look normal"
   ]
  },
  {
   "cell_type": "code",
   "execution_count": 30,
   "metadata": {},
   "outputs": [
    {
     "data": {
      "text/plain": [
       "<matplotlib.legend.Legend at 0x1ac0c824f10>"
      ]
     },
     "execution_count": 30,
     "metadata": {},
     "output_type": "execute_result"
    },
    {
     "data": {
      "image/png": "[encoded data removed]",
      "text/plain": [
       "<Figure size 640x480 with 1 Axes>"
      ]
     },
     "metadata": {},
     "output_type": "display_data"
    }
   ],
   "source": [
    "#visualize empiric CDF's for trip-counts\n",
    "plt.hist(dfTaxiDaily2019['trip_count'].values, 50, density=True, \n",
    "         histtype='step',cumulative=True,label='trip count')\n",
    "plt.hist(np.random.normal(dfTaxiDaily2019['trip_count'].mean(), dfTaxiDaily2019['trip_count'].std(),\n",
    "                          len(dfTaxiDaily2019)), 50, density=True, \n",
    "         histtype='step',cumulative=True,label='same mean and std in gaussian distribution')\n",
    "plt.legend(loc='upper left')"
   ]
  },
  {
   "cell_type": "code",
   "execution_count": 31,
   "metadata": {},
   "outputs": [
    {
     "data": {
      "text/plain": [
       "KstestResult(statistic=0.05178617029731858, pvalue=0.27209665553065987)"
      ]
     },
     "execution_count": 31,
     "metadata": {},
     "output_type": "execute_result"
    }
   ],
   "source": [
    "is_normal(np.log(dfTaxiDaily2019['trip_count'])) #but might be log-normal"
   ]
  },
  {
   "cell_type": "code",
   "execution_count": 32,
   "metadata": {},
   "outputs": [
    {
     "data": {
      "text/plain": [
       "<matplotlib.legend.Legend at 0x1ac0b8119f0>"
      ]
     },
     "execution_count": 32,
     "metadata": {},
     "output_type": "execute_result"
    },
    {
     "data": {
      "image/png": "[encoded data removed]",
      "text/plain": [
       "<Figure size 640x480 with 1 Axes>"
      ]
     },
     "metadata": {},
     "output_type": "display_data"
    }
   ],
   "source": [
    "#visualize empiric CDF's for log trip-counts\n",
    "plt.hist(np.log(dfTaxiDaily2019['trip_count'].values), 50, density=True, \n",
    "         histtype='step',cumulative=True,label='log trip count')\n",
    "plt.hist(np.random.normal(np.log(dfTaxiDaily2019['trip_count']).mean(), np.log(dfTaxiDaily2019['trip_count']).std(),\n",
    "                          len(dfTaxiDaily2019)), 50, density=True, \n",
    "         histtype='step',cumulative=True,label='same mean and std in gaussian distribution')\n",
    "plt.legend(loc='upper left')"
   ]
  },
  {
   "cell_type": "code",
   "execution_count": 33,
   "metadata": {},
   "outputs": [
    {
     "data": {
      "text/plain": [
       "KstestResult(statistic=0.08627672246372531, pvalue=0.00819631097004777)"
      ]
     },
     "execution_count": 33,
     "metadata": {},
     "output_type": "execute_result"
    }
   ],
   "source": [
    "is_normal(dfTaxiDaily2019['trip_duration']) #could be normal"
   ]
  },
  {
   "cell_type": "code",
   "execution_count": 34,
   "metadata": {},
   "outputs": [
    {
     "data": {
      "text/plain": [
       "<AxesSubplot:>"
      ]
     },
     "execution_count": 34,
     "metadata": {},
     "output_type": "execute_result"
    },
    {
     "data": {
      "image/png": "[encoded data removed]",
      "text/plain": [
       "<Figure size 640x480 with 1 Axes>"
      ]
     },
     "metadata": {},
     "output_type": "display_data"
    }
   ],
   "source": [
    "dfTaxiDaily2019['trip_duration'].hist(bins=8)"
   ]
  },
  {
   "cell_type": "code",
   "execution_count": 35,
   "metadata": {},
   "outputs": [
    {
     "data": {
      "text/plain": [
       "<matplotlib.legend.Legend at 0x1ac0bc5b310>"
      ]
     },
     "execution_count": 35,
     "metadata": {},
     "output_type": "execute_result"
    },
    {
     "data": {
      "image/png": "[encoded data removed]",
      "text/plain": [
       "<Figure size 640x480 with 1 Axes>"
      ]
     },
     "metadata": {},
     "output_type": "display_data"
    }
   ],
   "source": [
    "_ = plt.hist(dfTaxiDaily2019['trip_duration'].values, 50, density=True, \n",
    "         histtype='step',cumulative=True,label='trip duration')\n",
    "_ = plt.hist(np.random.normal(dfTaxiDaily2019['trip_duration'].mean(), \n",
    "                              dfTaxiDaily2019['trip_duration'].std(),\n",
    "                          len(dfTaxiDaily2019)), 50, density=True, \n",
    "         histtype='step',cumulative=True,label='same mean and std \\nin gaussian distribution')\n",
    "plt.legend(loc='upper left')"
   ]
  },
  {
   "cell_type": "code",
   "execution_count": 36,
   "metadata": {},
   "outputs": [
    {
     "data": {
      "text/plain": [
       "KstestResult(statistic=0.17162133299223226, pvalue=7.188960711147288e-10)"
      ]
     },
     "execution_count": 36,
     "metadata": {},
     "output_type": "execute_result"
    }
   ],
   "source": [
    "is_normal(dfTaxiDaily2019['trip_distance']) #does not look normal"
   ]
  },
  {
   "cell_type": "code",
   "execution_count": 37,
   "metadata": {},
   "outputs": [
    {
     "data": {
      "text/plain": [
       "KstestResult(statistic=0.12270218424241863, pvalue=3.0126880620963445e-05)"
      ]
     },
     "execution_count": 37,
     "metadata": {},
     "output_type": "execute_result"
    }
   ],
   "source": [
    "is_normal(np.log(dfTaxiDaily2019['trip_distance'])) #but might be log-normal"
   ]
  },
  {
   "cell_type": "code",
   "execution_count": 38,
   "metadata": {},
   "outputs": [
    {
     "data": {
      "text/plain": [
       "KstestResult(statistic=0.0762848602607274, pvalue=0.02708299718490248)"
      ]
     },
     "execution_count": 38,
     "metadata": {},
     "output_type": "execute_result"
    }
   ],
   "source": [
    "is_normal(dfTaxiDaily2019['speed']) #might be normal"
   ]
  },
  {
   "cell_type": "code",
   "execution_count": 39,
   "metadata": {},
   "outputs": [
    {
     "data": {
      "text/plain": [
       "KstestResult(statistic=0.06791069917206083, pvalue=0.0658566226345636)"
      ]
     },
     "execution_count": 39,
     "metadata": {},
     "output_type": "execute_result"
    }
   ],
   "source": [
    "is_normal(np.log(dfTaxiDaily2019['speed'])) #log-normal even more likely"
   ]
  },
  {
   "cell_type": "markdown",
   "metadata": {},
   "source": [
    "## Homework assignment"
   ]
  },
  {
   "cell_type": "markdown",
   "metadata": {},
   "source": [
    "## Task 1. Travel speed - hours of the day\n",
    "Traffic and travel speed might vary throughout the day. Select the trips happening on Oct, 1, 2019. a) Compute average travel speed per each hour of the day and visuale as a bar plot. Compare the speed distributions for: b) trip samples within an hour of 9am (Hour=9) and an hour of 10am, c) morning rush hour (two hours of 8 and 9am) and evening rush hour (two hours of 5pm(17) and 6pm(18)). Can you reject the hypothesis that the compared speed samples have the same mean(use t-test) and distribution (use ks-test) at a 95\\% significance level?"
   ]
  },
  {
   "cell_type": "code",
   "execution_count": 40,
   "metadata": {},
   "outputs": [
    {
     "data": {
      "text/html": [
       "<div>\n",
       "<style scoped>\n",
       "    .dataframe tbody tr th:only-of-type {\n",
       "        vertical-align: middle;\n",
       "    }\n",
       "\n",
       "    .dataframe tbody tr th {\n",
       "        vertical-align: top;\n",
       "    }\n",
       "\n",
       "    .dataframe thead th {\n",
       "        text-align: right;\n",
       "    }\n",
       "</style>\n",
       "<table border=\"1\" class=\"dataframe\">\n",
       "  <thead>\n",
       "    <tr style=\"text-align: right;\">\n",
       "      <th></th>\n",
       "      <th>VendorID</th>\n",
       "      <th>lpep_pickup_datetime</th>\n",
       "      <th>lpep_dropoff_datetime</th>\n",
       "      <th>store_and_fwd_flag</th>\n",
       "      <th>RatecodeID</th>\n",
       "      <th>PULocationID</th>\n",
       "      <th>DOLocationID</th>\n",
       "      <th>passenger_count</th>\n",
       "      <th>trip_distance</th>\n",
       "      <th>fare_amount</th>\n",
       "      <th>...</th>\n",
       "      <th>payment_type</th>\n",
       "      <th>trip_type</th>\n",
       "      <th>congestion_surcharge</th>\n",
       "      <th>Date</th>\n",
       "      <th>Month</th>\n",
       "      <th>Year</th>\n",
       "      <th>DOW</th>\n",
       "      <th>Hour</th>\n",
       "      <th>trip_duration</th>\n",
       "      <th>speed</th>\n",
       "    </tr>\n",
       "  </thead>\n",
       "  <tbody>\n",
       "    <tr>\n",
       "      <th>4860421</th>\n",
       "      <td>2</td>\n",
       "      <td>2019-10-01 00:02:03</td>\n",
       "      <td>2019-10-01 00:03:34</td>\n",
       "      <td>N</td>\n",
       "      <td>1.0</td>\n",
       "      <td>166</td>\n",
       "      <td>166</td>\n",
       "      <td>1.0</td>\n",
       "      <td>0.36</td>\n",
       "      <td>3.5</td>\n",
       "      <td>...</td>\n",
       "      <td>2.0</td>\n",
       "      <td>1.0</td>\n",
       "      <td>0.0</td>\n",
       "      <td>2019-10-01</td>\n",
       "      <td>10</td>\n",
       "      <td>2019</td>\n",
       "      <td>1</td>\n",
       "      <td>0</td>\n",
       "      <td>1.516667</td>\n",
       "      <td>14.241758</td>\n",
       "    </tr>\n",
       "    <tr>\n",
       "      <th>4860623</th>\n",
       "      <td>2</td>\n",
       "      <td>2019-10-01 00:02:07</td>\n",
       "      <td>2019-10-01 00:12:34</td>\n",
       "      <td>N</td>\n",
       "      <td>1.0</td>\n",
       "      <td>130</td>\n",
       "      <td>205</td>\n",
       "      <td>1.0</td>\n",
       "      <td>2.85</td>\n",
       "      <td>11.0</td>\n",
       "      <td>...</td>\n",
       "      <td>1.0</td>\n",
       "      <td>1.0</td>\n",
       "      <td>0.0</td>\n",
       "      <td>2019-10-01</td>\n",
       "      <td>10</td>\n",
       "      <td>2019</td>\n",
       "      <td>1</td>\n",
       "      <td>0</td>\n",
       "      <td>10.450000</td>\n",
       "      <td>16.363636</td>\n",
       "    </tr>\n",
       "    <tr>\n",
       "      <th>4860661</th>\n",
       "      <td>2</td>\n",
       "      <td>2019-10-01 00:00:05</td>\n",
       "      <td>2019-10-01 00:05:50</td>\n",
       "      <td>N</td>\n",
       "      <td>1.0</td>\n",
       "      <td>256</td>\n",
       "      <td>37</td>\n",
       "      <td>1.0</td>\n",
       "      <td>1.21</td>\n",
       "      <td>6.5</td>\n",
       "      <td>...</td>\n",
       "      <td>1.0</td>\n",
       "      <td>1.0</td>\n",
       "      <td>0.0</td>\n",
       "      <td>2019-10-01</td>\n",
       "      <td>10</td>\n",
       "      <td>2019</td>\n",
       "      <td>1</td>\n",
       "      <td>0</td>\n",
       "      <td>5.750000</td>\n",
       "      <td>12.626087</td>\n",
       "    </tr>\n",
       "    <tr>\n",
       "      <th>4919805</th>\n",
       "      <td>2</td>\n",
       "      <td>2019-10-01 00:26:02</td>\n",
       "      <td>2019-10-01 00:39:58</td>\n",
       "      <td>N</td>\n",
       "      <td>1.0</td>\n",
       "      <td>112</td>\n",
       "      <td>196</td>\n",
       "      <td>1.0</td>\n",
       "      <td>5.88</td>\n",
       "      <td>18.0</td>\n",
       "      <td>...</td>\n",
       "      <td>2.0</td>\n",
       "      <td>1.0</td>\n",
       "      <td>0.0</td>\n",
       "      <td>2019-10-01</td>\n",
       "      <td>10</td>\n",
       "      <td>2019</td>\n",
       "      <td>1</td>\n",
       "      <td>0</td>\n",
       "      <td>13.933333</td>\n",
       "      <td>25.320574</td>\n",
       "    </tr>\n",
       "    <tr>\n",
       "      <th>4919806</th>\n",
       "      <td>1</td>\n",
       "      <td>2019-10-01 00:18:11</td>\n",
       "      <td>2019-10-01 00:22:38</td>\n",
       "      <td>N</td>\n",
       "      <td>1.0</td>\n",
       "      <td>43</td>\n",
       "      <td>263</td>\n",
       "      <td>1.0</td>\n",
       "      <td>0.80</td>\n",
       "      <td>5.0</td>\n",
       "      <td>...</td>\n",
       "      <td>2.0</td>\n",
       "      <td>1.0</td>\n",
       "      <td>0.0</td>\n",
       "      <td>2019-10-01</td>\n",
       "      <td>10</td>\n",
       "      <td>2019</td>\n",
       "      <td>1</td>\n",
       "      <td>0</td>\n",
       "      <td>4.450000</td>\n",
       "      <td>10.786517</td>\n",
       "    </tr>\n",
       "  </tbody>\n",
       "</table>\n",
       "<p>5 rows × 27 columns</p>\n",
       "</div>"
      ],
      "text/plain": [
       "         VendorID lpep_pickup_datetime lpep_dropoff_datetime  \\\n",
       "4860421         2  2019-10-01 00:02:03   2019-10-01 00:03:34   \n",
       "4860623         2  2019-10-01 00:02:07   2019-10-01 00:12:34   \n",
       "4860661         2  2019-10-01 00:00:05   2019-10-01 00:05:50   \n",
       "4919805         2  2019-10-01 00:26:02   2019-10-01 00:39:58   \n",
       "4919806         1  2019-10-01 00:18:11   2019-10-01 00:22:38   \n",
       "\n",
       "        store_and_fwd_flag  RatecodeID  PULocationID  DOLocationID  \\\n",
       "4860421                  N         1.0           166           166   \n",
       "4860623                  N         1.0           130           205   \n",
       "4860661                  N         1.0           256            37   \n",
       "4919805                  N         1.0           112           196   \n",
       "4919806                  N         1.0            43           263   \n",
       "\n",
       "         passenger_count  trip_distance  fare_amount  ...  payment_type  \\\n",
       "4860421              1.0           0.36          3.5  ...           2.0   \n",
       "4860623              1.0           2.85         11.0  ...           1.0   \n",
       "4860661              1.0           1.21          6.5  ...           1.0   \n",
       "4919805              1.0           5.88         18.0  ...           2.0   \n",
       "4919806              1.0           0.80          5.0  ...           2.0   \n",
       "\n",
       "         trip_type  congestion_surcharge        Date  Month  Year  DOW  Hour  \\\n",
       "4860421        1.0                   0.0  2019-10-01     10  2019    1     0   \n",
       "4860623        1.0                   0.0  2019-10-01     10  2019    1     0   \n",
       "4860661        1.0                   0.0  2019-10-01     10  2019    1     0   \n",
       "4919805        1.0                   0.0  2019-10-01     10  2019    1     0   \n",
       "4919806        1.0                   0.0  2019-10-01     10  2019    1     0   \n",
       "\n",
       "         trip_duration      speed  \n",
       "4860421       1.516667  14.241758  \n",
       "4860623      10.450000  16.363636  \n",
       "4860661       5.750000  12.626087  \n",
       "4919805      13.933333  25.320574  \n",
       "4919806       4.450000  10.786517  \n",
       "\n",
       "[5 rows x 27 columns]"
      ]
     },
     "execution_count": 40,
     "metadata": {},
     "output_type": "execute_result"
    }
   ],
   "source": [
    "dfTaxi_1 = dfTaxi[(dfTaxi['Date']==pd.to_datetime('10/01/2019'))]\n",
    "len(dfTaxi_1)\n",
    "dfTaxi_1.head()"
   ]
  },
  {
   "cell_type": "code",
   "execution_count": 41,
   "metadata": {},
   "outputs": [
    {
     "data": {
      "text/plain": [
       "array([ 0,  1,  2,  6,  7,  3,  4,  8,  5, 16, 10, 17, 11, 18, 12, 19, 13,\n",
       "        9, 20, 14, 15, 21, 22, 23], dtype=int64)"
      ]
     },
     "execution_count": 41,
     "metadata": {},
     "output_type": "execute_result"
    }
   ],
   "source": [
    "dfTaxi_1['Hour'].unique()"
   ]
  },
  {
   "cell_type": "code",
   "execution_count": 42,
   "metadata": {},
   "outputs": [
    {
     "data": {
      "text/html": [
       "<div>\n",
       "<style scoped>\n",
       "    .dataframe tbody tr th:only-of-type {\n",
       "        vertical-align: middle;\n",
       "    }\n",
       "\n",
       "    .dataframe tbody tr th {\n",
       "        vertical-align: top;\n",
       "    }\n",
       "\n",
       "    .dataframe thead th {\n",
       "        text-align: right;\n",
       "    }\n",
       "</style>\n",
       "<table border=\"1\" class=\"dataframe\">\n",
       "  <thead>\n",
       "    <tr style=\"text-align: right;\">\n",
       "      <th></th>\n",
       "      <th>Hour</th>\n",
       "      <th>Date</th>\n",
       "      <th>Avg_speed</th>\n",
       "      <th>count</th>\n",
       "      <th>trip_duration</th>\n",
       "      <th>trip_distance</th>\n",
       "    </tr>\n",
       "  </thead>\n",
       "  <tbody>\n",
       "    <tr>\n",
       "      <th>0</th>\n",
       "      <td>0</td>\n",
       "      <td>2019-10-01</td>\n",
       "      <td>15.462158</td>\n",
       "      <td>214</td>\n",
       "      <td>2334.350000</td>\n",
       "      <td>668.85</td>\n",
       "    </tr>\n",
       "    <tr>\n",
       "      <th>1</th>\n",
       "      <td>1</td>\n",
       "      <td>2019-10-01</td>\n",
       "      <td>15.006791</td>\n",
       "      <td>127</td>\n",
       "      <td>1381.233333</td>\n",
       "      <td>385.41</td>\n",
       "    </tr>\n",
       "    <tr>\n",
       "      <th>2</th>\n",
       "      <td>2</td>\n",
       "      <td>2019-10-01</td>\n",
       "      <td>15.089092</td>\n",
       "      <td>72</td>\n",
       "      <td>782.450000</td>\n",
       "      <td>215.77</td>\n",
       "    </tr>\n",
       "    <tr>\n",
       "      <th>3</th>\n",
       "      <td>3</td>\n",
       "      <td>2019-10-01</td>\n",
       "      <td>16.959088</td>\n",
       "      <td>79</td>\n",
       "      <td>923.000000</td>\n",
       "      <td>318.19</td>\n",
       "    </tr>\n",
       "    <tr>\n",
       "      <th>4</th>\n",
       "      <td>4</td>\n",
       "      <td>2019-10-01</td>\n",
       "      <td>20.315675</td>\n",
       "      <td>86</td>\n",
       "      <td>1285.066667</td>\n",
       "      <td>507.86</td>\n",
       "    </tr>\n",
       "    <tr>\n",
       "      <th>5</th>\n",
       "      <td>5</td>\n",
       "      <td>2019-10-01</td>\n",
       "      <td>21.163462</td>\n",
       "      <td>126</td>\n",
       "      <td>2175.283333</td>\n",
       "      <td>849.78</td>\n",
       "    </tr>\n",
       "    <tr>\n",
       "      <th>6</th>\n",
       "      <td>6</td>\n",
       "      <td>2019-10-01</td>\n",
       "      <td>16.589186</td>\n",
       "      <td>250</td>\n",
       "      <td>5009.300000</td>\n",
       "      <td>1538.61</td>\n",
       "    </tr>\n",
       "    <tr>\n",
       "      <th>7</th>\n",
       "      <td>7</td>\n",
       "      <td>2019-10-01</td>\n",
       "      <td>13.306396</td>\n",
       "      <td>503</td>\n",
       "      <td>8854.566667</td>\n",
       "      <td>2105.64</td>\n",
       "    </tr>\n",
       "    <tr>\n",
       "      <th>8</th>\n",
       "      <td>8</td>\n",
       "      <td>2019-10-01</td>\n",
       "      <td>12.561804</td>\n",
       "      <td>733</td>\n",
       "      <td>12250.116667</td>\n",
       "      <td>2836.71</td>\n",
       "    </tr>\n",
       "    <tr>\n",
       "      <th>9</th>\n",
       "      <td>9</td>\n",
       "      <td>2019-10-01</td>\n",
       "      <td>12.717549</td>\n",
       "      <td>840</td>\n",
       "      <td>12839.400000</td>\n",
       "      <td>2979.73</td>\n",
       "    </tr>\n",
       "    <tr>\n",
       "      <th>10</th>\n",
       "      <td>10</td>\n",
       "      <td>2019-10-01</td>\n",
       "      <td>13.091677</td>\n",
       "      <td>785</td>\n",
       "      <td>12842.750000</td>\n",
       "      <td>3129.96</td>\n",
       "    </tr>\n",
       "    <tr>\n",
       "      <th>11</th>\n",
       "      <td>11</td>\n",
       "      <td>2019-10-01</td>\n",
       "      <td>12.593252</td>\n",
       "      <td>779</td>\n",
       "      <td>13171.533333</td>\n",
       "      <td>3096.38</td>\n",
       "    </tr>\n",
       "    <tr>\n",
       "      <th>12</th>\n",
       "      <td>12</td>\n",
       "      <td>2019-10-01</td>\n",
       "      <td>12.379006</td>\n",
       "      <td>847</td>\n",
       "      <td>13712.450000</td>\n",
       "      <td>3125.97</td>\n",
       "    </tr>\n",
       "    <tr>\n",
       "      <th>13</th>\n",
       "      <td>13</td>\n",
       "      <td>2019-10-01</td>\n",
       "      <td>12.274375</td>\n",
       "      <td>726</td>\n",
       "      <td>12381.550000</td>\n",
       "      <td>2886.10</td>\n",
       "    </tr>\n",
       "    <tr>\n",
       "      <th>14</th>\n",
       "      <td>14</td>\n",
       "      <td>2019-10-01</td>\n",
       "      <td>11.541213</td>\n",
       "      <td>821</td>\n",
       "      <td>13465.900000</td>\n",
       "      <td>2828.84</td>\n",
       "    </tr>\n",
       "    <tr>\n",
       "      <th>15</th>\n",
       "      <td>15</td>\n",
       "      <td>2019-10-01</td>\n",
       "      <td>11.476858</td>\n",
       "      <td>865</td>\n",
       "      <td>15041.316667</td>\n",
       "      <td>3232.41</td>\n",
       "    </tr>\n",
       "    <tr>\n",
       "      <th>16</th>\n",
       "      <td>16</td>\n",
       "      <td>2019-10-01</td>\n",
       "      <td>11.443773</td>\n",
       "      <td>877</td>\n",
       "      <td>15076.950000</td>\n",
       "      <td>3198.51</td>\n",
       "    </tr>\n",
       "    <tr>\n",
       "      <th>17</th>\n",
       "      <td>17</td>\n",
       "      <td>2019-10-01</td>\n",
       "      <td>11.420667</td>\n",
       "      <td>967</td>\n",
       "      <td>15092.183333</td>\n",
       "      <td>3178.71</td>\n",
       "    </tr>\n",
       "    <tr>\n",
       "      <th>18</th>\n",
       "      <td>18</td>\n",
       "      <td>2019-10-01</td>\n",
       "      <td>11.896052</td>\n",
       "      <td>984</td>\n",
       "      <td>13453.200000</td>\n",
       "      <td>2916.81</td>\n",
       "    </tr>\n",
       "    <tr>\n",
       "      <th>19</th>\n",
       "      <td>19</td>\n",
       "      <td>2019-10-01</td>\n",
       "      <td>12.425314</td>\n",
       "      <td>843</td>\n",
       "      <td>10590.700000</td>\n",
       "      <td>2410.01</td>\n",
       "    </tr>\n",
       "    <tr>\n",
       "      <th>20</th>\n",
       "      <td>20</td>\n",
       "      <td>2019-10-01</td>\n",
       "      <td>13.228077</td>\n",
       "      <td>660</td>\n",
       "      <td>8819.183333</td>\n",
       "      <td>2211.06</td>\n",
       "    </tr>\n",
       "    <tr>\n",
       "      <th>21</th>\n",
       "      <td>21</td>\n",
       "      <td>2019-10-01</td>\n",
       "      <td>13.435931</td>\n",
       "      <td>614</td>\n",
       "      <td>8365.900000</td>\n",
       "      <td>2113.28</td>\n",
       "    </tr>\n",
       "    <tr>\n",
       "      <th>22</th>\n",
       "      <td>22</td>\n",
       "      <td>2019-10-01</td>\n",
       "      <td>14.178889</td>\n",
       "      <td>420</td>\n",
       "      <td>5324.183333</td>\n",
       "      <td>1408.37</td>\n",
       "    </tr>\n",
       "    <tr>\n",
       "      <th>23</th>\n",
       "      <td>23</td>\n",
       "      <td>2019-10-01</td>\n",
       "      <td>15.490702</td>\n",
       "      <td>361</td>\n",
       "      <td>4446.500000</td>\n",
       "      <td>1314.75</td>\n",
       "    </tr>\n",
       "  </tbody>\n",
       "</table>\n",
       "</div>"
      ],
      "text/plain": [
       "    Hour        Date  Avg_speed  count  trip_duration  trip_distance\n",
       "0      0  2019-10-01  15.462158    214    2334.350000         668.85\n",
       "1      1  2019-10-01  15.006791    127    1381.233333         385.41\n",
       "2      2  2019-10-01  15.089092     72     782.450000         215.77\n",
       "3      3  2019-10-01  16.959088     79     923.000000         318.19\n",
       "4      4  2019-10-01  20.315675     86    1285.066667         507.86\n",
       "5      5  2019-10-01  21.163462    126    2175.283333         849.78\n",
       "6      6  2019-10-01  16.589186    250    5009.300000        1538.61\n",
       "7      7  2019-10-01  13.306396    503    8854.566667        2105.64\n",
       "8      8  2019-10-01  12.561804    733   12250.116667        2836.71\n",
       "9      9  2019-10-01  12.717549    840   12839.400000        2979.73\n",
       "10    10  2019-10-01  13.091677    785   12842.750000        3129.96\n",
       "11    11  2019-10-01  12.593252    779   13171.533333        3096.38\n",
       "12    12  2019-10-01  12.379006    847   13712.450000        3125.97\n",
       "13    13  2019-10-01  12.274375    726   12381.550000        2886.10\n",
       "14    14  2019-10-01  11.541213    821   13465.900000        2828.84\n",
       "15    15  2019-10-01  11.476858    865   15041.316667        3232.41\n",
       "16    16  2019-10-01  11.443773    877   15076.950000        3198.51\n",
       "17    17  2019-10-01  11.420667    967   15092.183333        3178.71\n",
       "18    18  2019-10-01  11.896052    984   13453.200000        2916.81\n",
       "19    19  2019-10-01  12.425314    843   10590.700000        2410.01\n",
       "20    20  2019-10-01  13.228077    660    8819.183333        2211.06\n",
       "21    21  2019-10-01  13.435931    614    8365.900000        2113.28\n",
       "22    22  2019-10-01  14.178889    420    5324.183333        1408.37\n",
       "23    23  2019-10-01  15.490702    361    4446.500000        1314.75"
      ]
     },
     "execution_count": 42,
     "metadata": {},
     "output_type": "execute_result"
    }
   ],
   "source": [
    "dfTaxi_oct1 = dfTaxi_1.groupby(['Hour','Date']).\\\n",
    "            agg({'speed':'mean','lpep_pickup_datetime':'count','trip_duration':'sum','trip_distance':'sum'}).\\\n",
    "            rename(columns={'speed':'Avg_speed','lpep_pickup_datetime':'count'}).reset_index()\n",
    "\n",
    "dfTaxi_oct1          \n"
   ]
  },
  {
   "cell_type": "code",
   "execution_count": 43,
   "metadata": {},
   "outputs": [
    {
     "data": {
      "text/plain": [
       "Text(0, 0.5, 'Avg Speed')"
      ]
     },
     "execution_count": 43,
     "metadata": {},
     "output_type": "execute_result"
    },
    {
     "data": {
      "image/png": "[encoded data removed]",
      "text/plain": [
       "<Figure size 640x480 with 1 Axes>"
      ]
     },
     "metadata": {},
     "output_type": "display_data"
    }
   ],
   "source": [
    "dfTaxi_oct1['Avg_speed'].plot.bar()\n",
    "plt.xlabel('Time of the day')\n",
    "plt.ylabel('Avg Speed')"
   ]
  },
  {
   "cell_type": "code",
   "execution_count": 44,
   "metadata": {},
   "outputs": [
    {
     "data": {
      "image/png": "[encoded data removed]",
      "text/plain": [
       "<Figure size 640x480 with 1 Axes>"
      ]
     },
     "metadata": {},
     "output_type": "display_data"
    }
   ],
   "source": [
    "plt.hist(dfTaxi_1.loc[dfTaxi_1['Hour']==9]['speed'].values,bins=50,label='9 AM')\n",
    "plt.hist(dfTaxi_1.loc[dfTaxi_1['Hour']==10]['speed'].values,bins=50,alpha = 0.75,label='10 AM')\n",
    "plt.legend()\n",
    "plt.show()"
   ]
  },
  {
   "cell_type": "code",
   "execution_count": 45,
   "metadata": {},
   "outputs": [
    {
     "data": {
      "image/png": "[encoded data removed]",
      "text/plain": [
       "<Figure size 640x480 with 1 Axes>"
      ]
     },
     "metadata": {},
     "output_type": "display_data"
    }
   ],
   "source": [
    "plt.hist(dfTaxi_1.loc[dfTaxi_1['Hour'].isin([8,9])]['speed'].values,bins=50,label='8 AM and 9 AM')\n",
    "plt.hist(dfTaxi_1.loc[dfTaxi_1['Hour'].isin([17,18])]['speed'].values,bins=50,alpha= 0.75,label='5 PM and 6 PM')\n",
    "plt.legend()\n",
    "plt.show()"
   ]
  },
  {
   "cell_type": "code",
   "execution_count": 46,
   "metadata": {},
   "outputs": [
    {
     "data": {
      "text/plain": [
       "Ttest_indResult(statistic=5.316218844376528, pvalue=1.1253493376433041e-07)"
      ]
     },
     "execution_count": 46,
     "metadata": {},
     "output_type": "execute_result"
    }
   ],
   "source": [
    "stats.ttest_ind(dfTaxi_1.loc[dfTaxi_1['Hour'].isin([8,9])]['speed'].values,dfTaxi_1.loc[dfTaxi_1['Hour'].isin([17,18])]['speed'].values)"
   ]
  },
  {
   "cell_type": "code",
   "execution_count": 47,
   "metadata": {},
   "outputs": [
    {
     "data": {
      "text/plain": [
       "KstestResult(statistic=0.06860517517057287, pvalue=0.0005164093592967348)"
      ]
     },
     "execution_count": 47,
     "metadata": {},
     "output_type": "execute_result"
    }
   ],
   "source": [
    "stats.ks_2samp(dfTaxi_1.loc[dfTaxi_1['Hour'].isin([8,9])]['speed'].values,dfTaxi_1.loc[dfTaxi_1['Hour'].isin([17,18])]['speed'].values)"
   ]
  },
  {
   "cell_type": "code",
   "execution_count": 48,
   "metadata": {},
   "outputs": [
    {
     "name": "stdout",
     "output_type": "stream",
     "text": [
      "Ttest_indResult(statistic=-1.173277394807621, pvalue=0.24085674028299217)\n",
      "KstestResult(statistic=0.04866545344252351, pvalue=0.2793212653142789)\n"
     ]
    }
   ],
   "source": [
    "print(stats.ttest_ind(dfTaxi_1.loc[dfTaxi_1['Hour']==9]['speed'].values,dfTaxi_1.loc[dfTaxi_1['Hour']==10]['speed'].values))\n",
    "print(stats.ks_2samp(dfTaxi_1.loc[dfTaxi_1['Hour']==9]['speed'].values,dfTaxi_1.loc[dfTaxi_1['Hour']==10]['speed'].values))"
   ]
  },
  {
   "cell_type": "code",
   "execution_count": 49,
   "metadata": {},
   "outputs": [],
   "source": [
    "## For a) we fail to reject our null hypothesis and for b) we reject our null hypothesis\n"
   ]
  },
  {
   "cell_type": "markdown",
   "metadata": {},
   "source": [
    "## Task 2. Travel speed - days of the week\n",
    "Traffic and travel speed also vary during different weekdays. a) Compute average travel speed per each of the 7 days of the week (among all the individual trips happening on Mondays, Tuesdays, Wednesdays etc); visualize those as a bar plot. Then compute average travel speed per each day of the year and perform a pairwise comparison between the distributions of the daily speed averages within different days of the week (i.e. distribution of all Mondays vs all Tuesdays etc). Compute p-value of the ks-test for each pair of the different weekdays and compare with 5\\%. As a results we are expecting a 7*7 pandas dataframe filled with \"reject\" (if p-value below 5\\%), \"keep\" (if p-value above 5\\%) and \"-\" on the diagonal."
   ]
  },
  {
   "cell_type": "code",
   "execution_count": 50,
   "metadata": {},
   "outputs": [
    {
     "data": {
      "text/html": [
       "<div>\n",
       "<style scoped>\n",
       "    .dataframe tbody tr th:only-of-type {\n",
       "        vertical-align: middle;\n",
       "    }\n",
       "\n",
       "    .dataframe tbody tr th {\n",
       "        vertical-align: top;\n",
       "    }\n",
       "\n",
       "    .dataframe thead th {\n",
       "        text-align: right;\n",
       "    }\n",
       "</style>\n",
       "<table border=\"1\" class=\"dataframe\">\n",
       "  <thead>\n",
       "    <tr style=\"text-align: right;\">\n",
       "      <th></th>\n",
       "      <th>DOW</th>\n",
       "      <th>Avg_speed</th>\n",
       "      <th>count</th>\n",
       "      <th>trip_duration</th>\n",
       "      <th>trip_distance</th>\n",
       "    </tr>\n",
       "  </thead>\n",
       "  <tbody>\n",
       "    <tr>\n",
       "      <th>0</th>\n",
       "      <td>Monday</td>\n",
       "      <td>12.652143</td>\n",
       "      <td>949142</td>\n",
       "      <td>1.546594e+07</td>\n",
       "      <td>3532488.88</td>\n",
       "    </tr>\n",
       "    <tr>\n",
       "      <th>1</th>\n",
       "      <td>Tuesday</td>\n",
       "      <td>12.361563</td>\n",
       "      <td>1026847</td>\n",
       "      <td>1.738974e+07</td>\n",
       "      <td>3869718.06</td>\n",
       "    </tr>\n",
       "    <tr>\n",
       "      <th>2</th>\n",
       "      <td>Wednesday</td>\n",
       "      <td>12.260450</td>\n",
       "      <td>1069009</td>\n",
       "      <td>1.819012e+07</td>\n",
       "      <td>4001042.72</td>\n",
       "    </tr>\n",
       "    <tr>\n",
       "      <th>3</th>\n",
       "      <td>Thursday</td>\n",
       "      <td>12.036005</td>\n",
       "      <td>1103858</td>\n",
       "      <td>1.905807e+07</td>\n",
       "      <td>4090320.07</td>\n",
       "    </tr>\n",
       "    <tr>\n",
       "      <th>4</th>\n",
       "      <td>Friday</td>\n",
       "      <td>11.945202</td>\n",
       "      <td>1150169</td>\n",
       "      <td>1.933259e+07</td>\n",
       "      <td>4138708.92</td>\n",
       "    </tr>\n",
       "    <tr>\n",
       "      <th>5</th>\n",
       "      <td>Saturday</td>\n",
       "      <td>12.975047</td>\n",
       "      <td>1045864</td>\n",
       "      <td>1.553675e+07</td>\n",
       "      <td>3707535.24</td>\n",
       "    </tr>\n",
       "    <tr>\n",
       "      <th>6</th>\n",
       "      <td>Sunday</td>\n",
       "      <td>13.775123</td>\n",
       "      <td>870399</td>\n",
       "      <td>1.259031e+07</td>\n",
       "      <td>3222507.31</td>\n",
       "    </tr>\n",
       "  </tbody>\n",
       "</table>\n",
       "</div>"
      ],
      "text/plain": [
       "         DOW  Avg_speed    count  trip_duration  trip_distance\n",
       "0     Monday  12.652143   949142   1.546594e+07     3532488.88\n",
       "1    Tuesday  12.361563  1026847   1.738974e+07     3869718.06\n",
       "2  Wednesday  12.260450  1069009   1.819012e+07     4001042.72\n",
       "3   Thursday  12.036005  1103858   1.905807e+07     4090320.07\n",
       "4     Friday  11.945202  1150169   1.933259e+07     4138708.92\n",
       "5   Saturday  12.975047  1045864   1.553675e+07     3707535.24\n",
       "6     Sunday  13.775123   870399   1.259031e+07     3222507.31"
      ]
     },
     "execution_count": 50,
     "metadata": {},
     "output_type": "execute_result"
    }
   ],
   "source": [
    "dfTaxi_DOW = dfTaxi.groupby(['DOW']).\\\n",
    "            agg({'speed':'mean','lpep_pickup_datetime':'count','trip_duration':'sum','trip_distance':'sum'}).\\\n",
    "            rename(columns={'speed':'Avg_speed','lpep_pickup_datetime':'count'}).reset_index()\n",
    "\n",
    "dfTaxi_DOW['DOW'].replace({0:'Monday', 1:'Tuesday', 2:'Wednesday', 3:'Thursday', 4:'Friday', 5:'Saturday', 6:'Sunday'}, inplace = True)\n",
    "dfTaxi_DOW"
   ]
  },
  {
   "cell_type": "code",
   "execution_count": 51,
   "metadata": {},
   "outputs": [
    {
     "data": {
      "text/plain": [
       "Text(0, 0.5, 'Avg Speed')"
      ]
     },
     "execution_count": 51,
     "metadata": {},
     "output_type": "execute_result"
    },
    {
     "data": {
      "image/png": "[encoded data removed]",
      "text/plain": [
       "<Figure size 640x480 with 1 Axes>"
      ]
     },
     "metadata": {},
     "output_type": "display_data"
    }
   ],
   "source": [
    "dfTaxi_DOW.plot(x= 'DOW', y= 'Avg_speed', kind = 'bar')\n",
    "plt.xlabel('Day of the week')\n",
    "plt.ylabel('Avg Speed')"
   ]
  },
  {
   "cell_type": "code",
   "execution_count": 52,
   "metadata": {},
   "outputs": [
    {
     "name": "stdout",
     "output_type": "stream",
     "text": [
      "                speed\n",
      "Date                 \n",
      "2018-12-31  12.742532\n",
      "2019-01-07  12.899562\n",
      "2019-01-14  12.670783\n",
      "2019-01-21  14.499648\n",
      "2019-01-28  12.884416\n",
      "                speed\n",
      "Date                 \n",
      "2019-01-01  15.206464\n",
      "2019-01-08  12.734347\n",
      "2019-01-15  12.771798\n",
      "2019-01-22  12.493349\n",
      "2019-01-29  12.171845\n",
      "                speed\n",
      "Date                 \n",
      "2019-01-02  13.611167\n",
      "2019-01-09  12.750842\n",
      "2019-01-16  12.707288\n",
      "2019-01-23  12.793334\n",
      "2019-01-30  12.248327\n",
      "                speed\n",
      "Date                 \n",
      "2019-01-03  13.030264\n",
      "2019-01-10  12.574574\n",
      "2019-01-17  12.320522\n",
      "2019-01-24  12.006299\n",
      "2019-01-31  12.547993\n"
     ]
    }
   ],
   "source": [
    "dfTaxi_mon = dfTaxi.loc[dfTaxi['DOW']==0]\n",
    "\n",
    "dfTaxi_monf=dfTaxi_mon.groupby(['Date']).\\\n",
    "           agg({'speed':'mean'})\n",
    "\n",
    "print(dfTaxi_monf.head())\n",
    "\n",
    "dfTaxi_tue = dfTaxi.loc[dfTaxi['DOW']==1]\n",
    "\n",
    "dfTaxi_tuef=dfTaxi_tue.groupby(['Date']).\\\n",
    "           agg({'speed':'mean'})\n",
    "\n",
    "print(dfTaxi_tuef.head())\n",
    "\n",
    "dfTaxi_wed = dfTaxi.loc[dfTaxi['DOW']==2]\n",
    "\n",
    "dfTaxi_wedf=dfTaxi_wed.groupby(['Date']).\\\n",
    "           agg({'speed':'mean'})\n",
    "\n",
    "print(dfTaxi_wedf.head())\n",
    "\n",
    "dfTaxi_thur = dfTaxi.loc[dfTaxi['DOW']==3]\n",
    "\n",
    "dfTaxi_thurf=dfTaxi_thur.groupby(['Date']).\\\n",
    "           agg({'speed':'mean'})\n",
    "\n",
    "print(dfTaxi_thurf.head())\n",
    "\n",
    "\n"
   ]
  },
  {
   "cell_type": "code",
   "execution_count": 53,
   "metadata": {},
   "outputs": [
    {
     "name": "stdout",
     "output_type": "stream",
     "text": [
      "                speed\n",
      "Date                 \n",
      "2019-01-04  13.019425\n",
      "2019-01-11  12.273503\n",
      "2019-01-18  12.620665\n",
      "2019-01-25  12.162293\n",
      "2019-02-01  12.041629                 speed\n",
      "Date                 \n",
      "2019-01-05  13.504520\n",
      "2019-01-12  13.389424\n",
      "2019-01-19  13.562443\n",
      "2019-01-26  13.285677\n",
      "2019-02-02  12.967917                 speed\n",
      "Date                 \n",
      "2019-01-06  14.370097\n",
      "2019-01-13  14.377475\n",
      "2019-01-20  14.415864\n",
      "2019-01-27  14.134573\n",
      "2019-02-03  14.224107\n"
     ]
    }
   ],
   "source": [
    "dfTaxi_fri = dfTaxi.loc[dfTaxi['DOW']==4]\n",
    "\n",
    "dfTaxi_frif=dfTaxi_fri.groupby(['Date']).\\\n",
    "           agg({'speed':'mean'})\n",
    "dfTaxi_sat = dfTaxi.loc[dfTaxi['DOW']==5]\n",
    "\n",
    "dfTaxi_satf=dfTaxi_sat.groupby(['Date']).\\\n",
    "           agg({'speed':'mean'})\n",
    "dfTaxi_sun = dfTaxi.loc[dfTaxi['DOW']==6]\n",
    "\n",
    "dfTaxi_sunf=dfTaxi_sun.groupby(['Date']).\\\n",
    "           agg({'speed':'mean'})\n",
    "\n",
    "print(dfTaxi_frif.head(),dfTaxi_satf.head(),dfTaxi_sunf.head())\n"
   ]
  },
  {
   "cell_type": "code",
   "execution_count": 54,
   "metadata": {},
   "outputs": [
    {
     "data": {
      "text/plain": [
       "KstestResult(statistic=0.1518987341772152, pvalue=0.3233499949874755)"
      ]
     },
     "execution_count": 54,
     "metadata": {},
     "output_type": "execute_result"
    }
   ],
   "source": [
    "stats.ks_2samp(dfTaxi_monf['speed'].values,dfTaxi_tuef['speed'].values)\n",
    "    "
   ]
  },
  {
   "cell_type": "code",
   "execution_count": 55,
   "metadata": {},
   "outputs": [
    {
     "name": "stdout",
     "output_type": "stream",
     "text": [
      "Monday Monday   1.0\n",
      "Monday Tuesday   0.3233499949874755\n",
      "Monday Wednesday   0.0053236403865669175\n",
      "Monday Thursday   2.5137210203789427e-05\n",
      "Monday Friday   4.830061836112917e-06\n",
      "Monday Saturday   0.001663756130657296\n",
      "Monday Sunday   1.0390917206786235e-13\n",
      "Tuesday Monday   0.3233499949874755\n",
      "Tuesday Tuesday   1.0\n",
      "Tuesday Wednesday   0.3513086987374669\n",
      "Tuesday Thursday   0.022890984960121083\n",
      "Tuesday Friday   0.0027093874600308972\n",
      "Tuesday Saturday   2.1156774270717055e-06\n",
      "Tuesday Sunday   6.700523682490068e-20\n",
      "Wednesday Monday   0.0053236403865669175\n",
      "Wednesday Tuesday   0.3513086987374669\n",
      "Wednesday Wednesday   1.0\n",
      "Wednesday Thursday   0.0749483529513129\n",
      "Wednesday Friday   0.01922582971456673\n",
      "Wednesday Saturday   2.6210938879986773e-08\n",
      "Wednesday Sunday   1.14495882621505e-19\n",
      "Thursday Monday   2.5137210203789427e-05\n",
      "Thursday Tuesday   0.022890984960121083\n",
      "Thursday Wednesday   0.0749483529513129\n",
      "Thursday Thursday   1.0\n",
      "Thursday Friday   0.8099828657091238\n",
      "Thursday Saturday   3.066474928257846e-11\n",
      "Thursday Sunday   2.8811055430901585e-21\n",
      "Friday Monday   4.830061836112917e-06\n",
      "Friday Tuesday   0.0027093874600308972\n",
      "Friday Wednesday   0.01922582971456673\n",
      "Friday Thursday   0.8099828657091238\n",
      "Friday Friday   1.0\n",
      "Friday Saturday   6.471630188391611e-13\n",
      "Friday Sunday   2.8811055430901585e-21\n",
      "Saturday Monday   0.001663756130657296\n",
      "Saturday Tuesday   2.1156774270717055e-06\n",
      "Saturday Wednesday   2.6210938879986773e-08\n",
      "Saturday Thursday   3.066474928257846e-11\n",
      "Saturday Friday   6.471630188391611e-13\n",
      "Saturday Saturday   1.0\n",
      "Saturday Sunday   7.176804693329712e-08\n",
      "Sunday Monday   1.0390917206786235e-13\n",
      "Sunday Tuesday   6.700523682490068e-20\n",
      "Sunday Wednesday   1.14495882621505e-19\n",
      "Sunday Thursday   2.8811055430901585e-21\n",
      "Sunday Friday   2.8811055430901585e-21\n",
      "Sunday Saturday   7.176804693329712e-08\n",
      "Sunday Sunday   1.0\n"
     ]
    },
    {
     "data": {
      "text/html": [
       "<div>\n",
       "<style scoped>\n",
       "    .dataframe tbody tr th:only-of-type {\n",
       "        vertical-align: middle;\n",
       "    }\n",
       "\n",
       "    .dataframe tbody tr th {\n",
       "        vertical-align: top;\n",
       "    }\n",
       "\n",
       "    .dataframe thead th {\n",
       "        text-align: right;\n",
       "    }\n",
       "</style>\n",
       "<table border=\"1\" class=\"dataframe\">\n",
       "  <thead>\n",
       "    <tr style=\"text-align: right;\">\n",
       "      <th></th>\n",
       "      <th>Monday</th>\n",
       "      <th>Tuesday</th>\n",
       "      <th>Wednesday</th>\n",
       "      <th>Thursday</th>\n",
       "      <th>Friday</th>\n",
       "      <th>Saturday</th>\n",
       "      <th>Sunday</th>\n",
       "    </tr>\n",
       "  </thead>\n",
       "  <tbody>\n",
       "    <tr>\n",
       "      <th>Monday</th>\n",
       "      <td>-</td>\n",
       "      <td>Keep</td>\n",
       "      <td>Reject</td>\n",
       "      <td>Reject</td>\n",
       "      <td>Reject</td>\n",
       "      <td>Reject</td>\n",
       "      <td>Reject</td>\n",
       "    </tr>\n",
       "    <tr>\n",
       "      <th>Tuesday</th>\n",
       "      <td>Keep</td>\n",
       "      <td>-</td>\n",
       "      <td>Keep</td>\n",
       "      <td>Reject</td>\n",
       "      <td>Reject</td>\n",
       "      <td>Reject</td>\n",
       "      <td>Reject</td>\n",
       "    </tr>\n",
       "    <tr>\n",
       "      <th>Wednesday</th>\n",
       "      <td>Reject</td>\n",
       "      <td>Keep</td>\n",
       "      <td>-</td>\n",
       "      <td>Keep</td>\n",
       "      <td>Reject</td>\n",
       "      <td>Reject</td>\n",
       "      <td>Reject</td>\n",
       "    </tr>\n",
       "    <tr>\n",
       "      <th>Thursday</th>\n",
       "      <td>Reject</td>\n",
       "      <td>Reject</td>\n",
       "      <td>Keep</td>\n",
       "      <td>-</td>\n",
       "      <td>Keep</td>\n",
       "      <td>Reject</td>\n",
       "      <td>Reject</td>\n",
       "    </tr>\n",
       "    <tr>\n",
       "      <th>Friday</th>\n",
       "      <td>Reject</td>\n",
       "      <td>Reject</td>\n",
       "      <td>Reject</td>\n",
       "      <td>Keep</td>\n",
       "      <td>-</td>\n",
       "      <td>Reject</td>\n",
       "      <td>Reject</td>\n",
       "    </tr>\n",
       "    <tr>\n",
       "      <th>Saturday</th>\n",
       "      <td>Reject</td>\n",
       "      <td>Reject</td>\n",
       "      <td>Reject</td>\n",
       "      <td>Reject</td>\n",
       "      <td>Reject</td>\n",
       "      <td>-</td>\n",
       "      <td>Reject</td>\n",
       "    </tr>\n",
       "    <tr>\n",
       "      <th>Sunday</th>\n",
       "      <td>Reject</td>\n",
       "      <td>Reject</td>\n",
       "      <td>Reject</td>\n",
       "      <td>Reject</td>\n",
       "      <td>Reject</td>\n",
       "      <td>Reject</td>\n",
       "      <td>-</td>\n",
       "    </tr>\n",
       "  </tbody>\n",
       "</table>\n",
       "</div>"
      ],
      "text/plain": [
       "           Monday Tuesday Wednesday Thursday  Friday Saturday  Sunday\n",
       "Monday          -    Keep    Reject   Reject  Reject   Reject  Reject\n",
       "Tuesday      Keep       -      Keep   Reject  Reject   Reject  Reject\n",
       "Wednesday  Reject    Keep         -     Keep  Reject   Reject  Reject\n",
       "Thursday   Reject  Reject      Keep        -    Keep   Reject  Reject\n",
       "Friday     Reject  Reject    Reject     Keep       -   Reject  Reject\n",
       "Saturday   Reject  Reject    Reject   Reject  Reject        -  Reject\n",
       "Sunday     Reject  Reject    Reject   Reject  Reject   Reject       -"
      ]
     },
     "execution_count": 55,
     "metadata": {},
     "output_type": "execute_result"
    }
   ],
   "source": [
    "First_=[dfTaxi_monf['speed'].values,dfTaxi_tuef['speed'].values,dfTaxi_wedf['speed'].values,dfTaxi_thurf['speed'].values,dfTaxi_frif['speed'].values,dfTaxi_satf['speed'].values,dfTaxi_sunf['speed'].values]\n",
    "Second_=[dfTaxi_monf['speed'].values,dfTaxi_tuef['speed'].values,dfTaxi_wedf['speed'].values,dfTaxi_thurf['speed'].values,dfTaxi_frif['speed'].values,dfTaxi_satf['speed'].values,dfTaxi_sunf['speed'].values]\n",
    "Day = dfTaxi_DOW['DOW'].unique()\n",
    "\n",
    "df_1=[]\n",
    "\n",
    "for i in range (len(First_)):\n",
    "    df_2 = []\n",
    "    for j in range (len(Second_)):\n",
    "        p=stats.ks_2samp(First_[i],Second_[j])[1]\n",
    "        print(Day[i],Day[j],\" \",p)\n",
    "        if i == j:\n",
    "            df_2.append('-')\n",
    "        elif p > 0.05:\n",
    "            df_2.append('Keep')\n",
    "        else :\n",
    "            df_2.append('Reject')\n",
    "    df_1.append(df_2) \n",
    "    \n",
    "\n",
    "pd.DataFrame(df_1, columns= Day, index= Day)"
   ]
  },
  {
   "cell_type": "markdown",
   "metadata": {},
   "source": [
    "## Task 3. Trip speeds per borough.\n",
    "\n",
    "For the day of Oct, 1, 2019 compute the average trip speed in Brooklyn, Queens and Bronx (by pickup). Then compare the samples of the trip speeds in Brooklyn, Queens and Bronx on that day using t-test and ks-test (pairwise comparison). Fill two 3x3 pandas dataframes (one for t-test, one for ks-test) with p-values for each pair of boroughs. Can we reject the null hypothesis that speed mean/distributions within each pair of boroughs is is similar?\n",
    "\n",
    "HINT: Download taxizone geojson from 'https://data.cityofnewyork.us/api/geospatial/d3c5-ddgc?method=export&format=GeoJSON' to define borough for each pickup taxi zone."
   ]
  },
  {
   "cell_type": "code",
   "execution_count": 56,
   "metadata": {},
   "outputs": [
    {
     "data": {
      "text/html": [
       "<div>\n",
       "<style scoped>\n",
       "    .dataframe tbody tr th:only-of-type {\n",
       "        vertical-align: middle;\n",
       "    }\n",
       "\n",
       "    .dataframe tbody tr th {\n",
       "        vertical-align: top;\n",
       "    }\n",
       "\n",
       "    .dataframe thead th {\n",
       "        text-align: right;\n",
       "    }\n",
       "</style>\n",
       "<table border=\"1\" class=\"dataframe\">\n",
       "  <thead>\n",
       "    <tr style=\"text-align: right;\">\n",
       "      <th></th>\n",
       "      <th>borough</th>\n",
       "      <th>location_i</th>\n",
       "      <th>objectid</th>\n",
       "      <th>shape_area</th>\n",
       "      <th>shape_leng</th>\n",
       "      <th>zone</th>\n",
       "      <th>geometry</th>\n",
       "    </tr>\n",
       "  </thead>\n",
       "  <tbody>\n",
       "    <tr>\n",
       "      <th>0</th>\n",
       "      <td>EWR</td>\n",
       "      <td>1.0</td>\n",
       "      <td>1.0</td>\n",
       "      <td>0.000782</td>\n",
       "      <td>0.116357</td>\n",
       "      <td>Newark Airport</td>\n",
       "      <td>POLYGON ((-74.18445 40.69500, -74.18449 40.695...</td>\n",
       "    </tr>\n",
       "    <tr>\n",
       "      <th>1</th>\n",
       "      <td>Queens</td>\n",
       "      <td>2.0</td>\n",
       "      <td>2.0</td>\n",
       "      <td>0.004866</td>\n",
       "      <td>0.433470</td>\n",
       "      <td>Jamaica Bay</td>\n",
       "      <td>MULTIPOLYGON (((-73.82338 40.63899, -73.82277 ...</td>\n",
       "    </tr>\n",
       "    <tr>\n",
       "      <th>2</th>\n",
       "      <td>Bronx</td>\n",
       "      <td>3.0</td>\n",
       "      <td>3.0</td>\n",
       "      <td>0.000314</td>\n",
       "      <td>0.084341</td>\n",
       "      <td>Allerton/Pelham Gardens</td>\n",
       "      <td>POLYGON ((-73.84793 40.87134, -73.84725 40.870...</td>\n",
       "    </tr>\n",
       "    <tr>\n",
       "      <th>3</th>\n",
       "      <td>Manhattan</td>\n",
       "      <td>4.0</td>\n",
       "      <td>4.0</td>\n",
       "      <td>0.000112</td>\n",
       "      <td>0.043567</td>\n",
       "      <td>Alphabet City</td>\n",
       "      <td>POLYGON ((-73.97177 40.72582, -73.97179 40.725...</td>\n",
       "    </tr>\n",
       "    <tr>\n",
       "      <th>4</th>\n",
       "      <td>Staten Island</td>\n",
       "      <td>5.0</td>\n",
       "      <td>5.0</td>\n",
       "      <td>0.000498</td>\n",
       "      <td>0.092146</td>\n",
       "      <td>Arden Heights</td>\n",
       "      <td>POLYGON ((-74.17422 40.56257, -74.17349 40.562...</td>\n",
       "    </tr>\n",
       "  </tbody>\n",
       "</table>\n",
       "</div>"
      ],
      "text/plain": [
       "         borough  location_i  objectid  shape_area  shape_leng  \\\n",
       "0            EWR         1.0       1.0    0.000782    0.116357   \n",
       "1         Queens         2.0       2.0    0.004866    0.433470   \n",
       "2          Bronx         3.0       3.0    0.000314    0.084341   \n",
       "3      Manhattan         4.0       4.0    0.000112    0.043567   \n",
       "4  Staten Island         5.0       5.0    0.000498    0.092146   \n",
       "\n",
       "                      zone                                           geometry  \n",
       "0           Newark Airport  POLYGON ((-74.18445 40.69500, -74.18449 40.695...  \n",
       "1              Jamaica Bay  MULTIPOLYGON (((-73.82338 40.63899, -73.82277 ...  \n",
       "2  Allerton/Pelham Gardens  POLYGON ((-73.84793 40.87134, -73.84725 40.870...  \n",
       "3            Alphabet City  POLYGON ((-73.97177 40.72582, -73.97179 40.725...  \n",
       "4            Arden Heights  POLYGON ((-74.17422 40.56257, -74.17349 40.562...  "
      ]
     },
     "execution_count": 56,
     "metadata": {},
     "output_type": "execute_result"
    }
   ],
   "source": [
    "# download taxizone map\n",
    "##file = 'taxizone.geojson'\n",
    "##url = 'https://data.cityofnewyork.us/api/geospatial/d3c5-ddgc?method=export&format=GeoJSON'\n",
    "##urllib.request.urlretrieve(url,file)\n",
    "\n",
    "task3 = gpd.read_file('https://data.cityofnewyork.us/api/geospatial/d3c5-ddgc?method=export&format=Shapefile')\n",
    "task3.head()"
   ]
  },
  {
   "cell_type": "code",
   "execution_count": 57,
   "metadata": {},
   "outputs": [
    {
     "data": {
      "text/plain": [
       "array(['Queens', 'Bronx', 'Brooklyn'], dtype=object)"
      ]
     },
     "execution_count": 57,
     "metadata": {},
     "output_type": "execute_result"
    }
   ],
   "source": [
    "task3= task3[task3['borough'].isin(['Brooklyn','Queens','Bronx'])]\n",
    "task3['borough'].unique()"
   ]
  },
  {
   "cell_type": "code",
   "execution_count": 58,
   "metadata": {},
   "outputs": [
    {
     "data": {
      "text/plain": [
       "Index(['VendorID', 'lpep_pickup_datetime', 'lpep_dropoff_datetime',\n",
       "       'store_and_fwd_flag', 'RatecodeID', 'PULocationID', 'DOLocationID',\n",
       "       'passenger_count', 'trip_distance', 'fare_amount', 'extra', 'mta_tax',\n",
       "       'tip_amount', 'tolls_amount', 'ehail_fee', 'improvement_surcharge',\n",
       "       'total_amount', 'payment_type', 'trip_type', 'congestion_surcharge',\n",
       "       'Date', 'Month', 'Year', 'DOW', 'Hour', 'trip_duration', 'speed'],\n",
       "      dtype='object')"
      ]
     },
     "execution_count": 58,
     "metadata": {},
     "output_type": "execute_result"
    }
   ],
   "source": [
    "dfTaxi_1.columns"
   ]
  },
  {
   "cell_type": "code",
   "execution_count": 59,
   "metadata": {},
   "outputs": [
    {
     "data": {
      "text/html": [
       "<div>\n",
       "<style scoped>\n",
       "    .dataframe tbody tr th:only-of-type {\n",
       "        vertical-align: middle;\n",
       "    }\n",
       "\n",
       "    .dataframe tbody tr th {\n",
       "        vertical-align: top;\n",
       "    }\n",
       "\n",
       "    .dataframe thead th {\n",
       "        text-align: right;\n",
       "    }\n",
       "</style>\n",
       "<table border=\"1\" class=\"dataframe\">\n",
       "  <thead>\n",
       "    <tr style=\"text-align: right;\">\n",
       "      <th></th>\n",
       "      <th>borough</th>\n",
       "      <th>location_i</th>\n",
       "      <th>objectid</th>\n",
       "      <th>shape_area</th>\n",
       "      <th>shape_leng</th>\n",
       "      <th>zone</th>\n",
       "      <th>geometry</th>\n",
       "      <th>VendorID</th>\n",
       "      <th>lpep_pickup_datetime</th>\n",
       "      <th>lpep_dropoff_datetime</th>\n",
       "      <th>...</th>\n",
       "      <th>payment_type</th>\n",
       "      <th>trip_type</th>\n",
       "      <th>congestion_surcharge</th>\n",
       "      <th>Date</th>\n",
       "      <th>Month</th>\n",
       "      <th>Year</th>\n",
       "      <th>DOW</th>\n",
       "      <th>Hour</th>\n",
       "      <th>trip_duration</th>\n",
       "      <th>speed</th>\n",
       "    </tr>\n",
       "  </thead>\n",
       "  <tbody>\n",
       "    <tr>\n",
       "      <th>0</th>\n",
       "      <td>Bronx</td>\n",
       "      <td>3.0</td>\n",
       "      <td>3.0</td>\n",
       "      <td>0.000314</td>\n",
       "      <td>0.084341</td>\n",
       "      <td>Allerton/Pelham Gardens</td>\n",
       "      <td>POLYGON ((-73.84793 40.87134, -73.84725 40.870...</td>\n",
       "      <td>2</td>\n",
       "      <td>2019-10-01 03:25:24</td>\n",
       "      <td>2019-10-01 03:44:59</td>\n",
       "      <td>...</td>\n",
       "      <td>1.0</td>\n",
       "      <td>1.0</td>\n",
       "      <td>0.0</td>\n",
       "      <td>2019-10-01</td>\n",
       "      <td>10</td>\n",
       "      <td>2019</td>\n",
       "      <td>1</td>\n",
       "      <td>3</td>\n",
       "      <td>19.583333</td>\n",
       "      <td>34.805106</td>\n",
       "    </tr>\n",
       "    <tr>\n",
       "      <th>1</th>\n",
       "      <td>Bronx</td>\n",
       "      <td>3.0</td>\n",
       "      <td>3.0</td>\n",
       "      <td>0.000314</td>\n",
       "      <td>0.084341</td>\n",
       "      <td>Allerton/Pelham Gardens</td>\n",
       "      <td>POLYGON ((-73.84793 40.87134, -73.84725 40.870...</td>\n",
       "      <td>1</td>\n",
       "      <td>2019-10-01 14:04:26</td>\n",
       "      <td>2019-10-01 14:24:35</td>\n",
       "      <td>...</td>\n",
       "      <td>1.0</td>\n",
       "      <td>1.0</td>\n",
       "      <td>0.0</td>\n",
       "      <td>2019-10-01</td>\n",
       "      <td>10</td>\n",
       "      <td>2019</td>\n",
       "      <td>1</td>\n",
       "      <td>14</td>\n",
       "      <td>20.150000</td>\n",
       "      <td>4.168734</td>\n",
       "    </tr>\n",
       "    <tr>\n",
       "      <th>2</th>\n",
       "      <td>Bronx</td>\n",
       "      <td>3.0</td>\n",
       "      <td>3.0</td>\n",
       "      <td>0.000314</td>\n",
       "      <td>0.084341</td>\n",
       "      <td>Allerton/Pelham Gardens</td>\n",
       "      <td>POLYGON ((-73.84793 40.87134, -73.84725 40.870...</td>\n",
       "      <td>2</td>\n",
       "      <td>2019-10-01 15:22:16</td>\n",
       "      <td>2019-10-01 15:39:24</td>\n",
       "      <td>...</td>\n",
       "      <td>1.0</td>\n",
       "      <td>1.0</td>\n",
       "      <td>0.0</td>\n",
       "      <td>2019-10-01</td>\n",
       "      <td>10</td>\n",
       "      <td>2019</td>\n",
       "      <td>1</td>\n",
       "      <td>15</td>\n",
       "      <td>17.133333</td>\n",
       "      <td>5.813230</td>\n",
       "    </tr>\n",
       "    <tr>\n",
       "      <th>3</th>\n",
       "      <td>Bronx</td>\n",
       "      <td>3.0</td>\n",
       "      <td>3.0</td>\n",
       "      <td>0.000314</td>\n",
       "      <td>0.084341</td>\n",
       "      <td>Allerton/Pelham Gardens</td>\n",
       "      <td>POLYGON ((-73.84793 40.87134, -73.84725 40.870...</td>\n",
       "      <td>2</td>\n",
       "      <td>2019-10-01 22:31:16</td>\n",
       "      <td>2019-10-01 22:43:09</td>\n",
       "      <td>...</td>\n",
       "      <td>1.0</td>\n",
       "      <td>1.0</td>\n",
       "      <td>0.0</td>\n",
       "      <td>2019-10-01</td>\n",
       "      <td>10</td>\n",
       "      <td>2019</td>\n",
       "      <td>1</td>\n",
       "      <td>22</td>\n",
       "      <td>11.883333</td>\n",
       "      <td>8.987377</td>\n",
       "    </tr>\n",
       "    <tr>\n",
       "      <th>4</th>\n",
       "      <td>Bronx</td>\n",
       "      <td>3.0</td>\n",
       "      <td>3.0</td>\n",
       "      <td>0.000314</td>\n",
       "      <td>0.084341</td>\n",
       "      <td>Allerton/Pelham Gardens</td>\n",
       "      <td>POLYGON ((-73.84793 40.87134, -73.84725 40.870...</td>\n",
       "      <td>2</td>\n",
       "      <td>2019-10-01 11:49:00</td>\n",
       "      <td>2019-10-01 12:06:00</td>\n",
       "      <td>...</td>\n",
       "      <td>NaN</td>\n",
       "      <td>NaN</td>\n",
       "      <td>NaN</td>\n",
       "      <td>2019-10-01</td>\n",
       "      <td>10</td>\n",
       "      <td>2019</td>\n",
       "      <td>1</td>\n",
       "      <td>11</td>\n",
       "      <td>17.000000</td>\n",
       "      <td>12.635294</td>\n",
       "    </tr>\n",
       "  </tbody>\n",
       "</table>\n",
       "<p>5 rows × 34 columns</p>\n",
       "</div>"
      ],
      "text/plain": [
       "  borough  location_i  objectid  shape_area  shape_leng  \\\n",
       "0   Bronx         3.0       3.0    0.000314    0.084341   \n",
       "1   Bronx         3.0       3.0    0.000314    0.084341   \n",
       "2   Bronx         3.0       3.0    0.000314    0.084341   \n",
       "3   Bronx         3.0       3.0    0.000314    0.084341   \n",
       "4   Bronx         3.0       3.0    0.000314    0.084341   \n",
       "\n",
       "                      zone                                           geometry  \\\n",
       "0  Allerton/Pelham Gardens  POLYGON ((-73.84793 40.87134, -73.84725 40.870...   \n",
       "1  Allerton/Pelham Gardens  POLYGON ((-73.84793 40.87134, -73.84725 40.870...   \n",
       "2  Allerton/Pelham Gardens  POLYGON ((-73.84793 40.87134, -73.84725 40.870...   \n",
       "3  Allerton/Pelham Gardens  POLYGON ((-73.84793 40.87134, -73.84725 40.870...   \n",
       "4  Allerton/Pelham Gardens  POLYGON ((-73.84793 40.87134, -73.84725 40.870...   \n",
       "\n",
       "   VendorID lpep_pickup_datetime lpep_dropoff_datetime  ... payment_type  \\\n",
       "0         2  2019-10-01 03:25:24   2019-10-01 03:44:59  ...          1.0   \n",
       "1         1  2019-10-01 14:04:26   2019-10-01 14:24:35  ...          1.0   \n",
       "2         2  2019-10-01 15:22:16   2019-10-01 15:39:24  ...          1.0   \n",
       "3         2  2019-10-01 22:31:16   2019-10-01 22:43:09  ...          1.0   \n",
       "4         2  2019-10-01 11:49:00   2019-10-01 12:06:00  ...          NaN   \n",
       "\n",
       "   trip_type  congestion_surcharge        Date  Month  Year  DOW  Hour  \\\n",
       "0        1.0                   0.0  2019-10-01     10  2019    1     3   \n",
       "1        1.0                   0.0  2019-10-01     10  2019    1    14   \n",
       "2        1.0                   0.0  2019-10-01     10  2019    1    15   \n",
       "3        1.0                   0.0  2019-10-01     10  2019    1    22   \n",
       "4        NaN                   NaN  2019-10-01     10  2019    1    11   \n",
       "\n",
       "   trip_duration      speed  \n",
       "0      19.583333  34.805106  \n",
       "1      20.150000   4.168734  \n",
       "2      17.133333   5.813230  \n",
       "3      11.883333   8.987377  \n",
       "4      17.000000  12.635294  \n",
       "\n",
       "[5 rows x 34 columns]"
      ]
     },
     "execution_count": 59,
     "metadata": {},
     "output_type": "execute_result"
    }
   ],
   "source": [
    "dfTaxi_1f = task3.merge(dfTaxi_1, left_on='location_i', right_on='PULocationID')\n",
    "dfTaxi_1f.head()"
   ]
  },
  {
   "cell_type": "code",
   "execution_count": 60,
   "metadata": {},
   "outputs": [
    {
     "data": {
      "text/plain": [
       "array(['Bronx', 'Queens', 'Brooklyn'], dtype=object)"
      ]
     },
     "execution_count": 60,
     "metadata": {},
     "output_type": "execute_result"
    }
   ],
   "source": [
    "dfTaxi_1f['borough'].unique()"
   ]
  },
  {
   "cell_type": "code",
   "execution_count": 61,
   "metadata": {},
   "outputs": [
    {
     "name": "stdout",
     "output_type": "stream",
     "text": [
      "Brooklyn Brooklyn   1.0\n",
      "Brooklyn Queens   7.55357853811378e-21\n",
      "Brooklyn Bronx   1.4897166636991117e-37\n",
      "Queens Brooklyn   7.55357853811378e-21\n",
      "Queens Queens   1.0\n",
      "Queens Bronx   6.976262147261574e-13\n",
      "Bronx Brooklyn   1.4897166636991117e-37\n",
      "Bronx Queens   6.976262147261574e-13\n",
      "Bronx Bronx   1.0\n"
     ]
    },
    {
     "data": {
      "text/html": [
       "<div>\n",
       "<style scoped>\n",
       "    .dataframe tbody tr th:only-of-type {\n",
       "        vertical-align: middle;\n",
       "    }\n",
       "\n",
       "    .dataframe tbody tr th {\n",
       "        vertical-align: top;\n",
       "    }\n",
       "\n",
       "    .dataframe thead th {\n",
       "        text-align: right;\n",
       "    }\n",
       "</style>\n",
       "<table border=\"1\" class=\"dataframe\">\n",
       "  <thead>\n",
       "    <tr style=\"text-align: right;\">\n",
       "      <th></th>\n",
       "      <th>Brooklyn</th>\n",
       "      <th>Queens</th>\n",
       "      <th>Bronx</th>\n",
       "    </tr>\n",
       "  </thead>\n",
       "  <tbody>\n",
       "    <tr>\n",
       "      <th>Brooklyn</th>\n",
       "      <td>-</td>\n",
       "      <td>Reject</td>\n",
       "      <td>Reject</td>\n",
       "    </tr>\n",
       "    <tr>\n",
       "      <th>Queens</th>\n",
       "      <td>Reject</td>\n",
       "      <td>-</td>\n",
       "      <td>Reject</td>\n",
       "    </tr>\n",
       "    <tr>\n",
       "      <th>Bronx</th>\n",
       "      <td>Reject</td>\n",
       "      <td>Reject</td>\n",
       "      <td>-</td>\n",
       "    </tr>\n",
       "  </tbody>\n",
       "</table>\n",
       "</div>"
      ],
      "text/plain": [
       "         Brooklyn  Queens   Bronx\n",
       "Brooklyn        -  Reject  Reject\n",
       "Queens     Reject       -  Reject\n",
       "Bronx      Reject  Reject       -"
      ]
     },
     "execution_count": 61,
     "metadata": {},
     "output_type": "execute_result"
    }
   ],
   "source": [
    "NY_Boro = ['Brooklyn','Queens','Bronx']\n",
    "df_5 = []\n",
    "for i in NY_Boro:\n",
    "    df_4 = []\n",
    "    for j in NY_Boro:\n",
    "        p=stats.ks_2samp(dfTaxi_1f[dfTaxi_1f['borough']==i]['speed'].values,dfTaxi_1f[dfTaxi_1f['borough']==j]['speed'].values)[1]\n",
    "        print(i,j,\" \",p)\n",
    "        if i == j:\n",
    "            df_4.append('-')\n",
    "        elif p > 0.05:\n",
    "            df_4.append('Keep')\n",
    "        else :\n",
    "            df_4.append('Reject')\n",
    "    df_5.append(df_4) \n",
    "    \n",
    "\n",
    "pd.DataFrame(df_5, columns= NY_Boro, index= NY_Boro)\n"
   ]
  },
  {
   "cell_type": "code",
   "execution_count": 62,
   "metadata": {},
   "outputs": [
    {
     "name": "stdout",
     "output_type": "stream",
     "text": [
      "Brooklyn Brooklyn   1.0\n",
      "Brooklyn Queens   7.438515878530461e-16\n",
      "Brooklyn Bronx   3.834651639139838e-36\n",
      "Queens Brooklyn   7.438515878530461e-16\n",
      "Queens Queens   1.0\n",
      "Queens Bronx   1.058710250850341e-11\n",
      "Bronx Brooklyn   3.834651639139838e-36\n",
      "Bronx Queens   1.058710250850341e-11\n",
      "Bronx Bronx   1.0\n"
     ]
    },
    {
     "data": {
      "text/html": [
       "<div>\n",
       "<style scoped>\n",
       "    .dataframe tbody tr th:only-of-type {\n",
       "        vertical-align: middle;\n",
       "    }\n",
       "\n",
       "    .dataframe tbody tr th {\n",
       "        vertical-align: top;\n",
       "    }\n",
       "\n",
       "    .dataframe thead th {\n",
       "        text-align: right;\n",
       "    }\n",
       "</style>\n",
       "<table border=\"1\" class=\"dataframe\">\n",
       "  <thead>\n",
       "    <tr style=\"text-align: right;\">\n",
       "      <th></th>\n",
       "      <th>Brooklyn</th>\n",
       "      <th>Queens</th>\n",
       "      <th>Bronx</th>\n",
       "    </tr>\n",
       "  </thead>\n",
       "  <tbody>\n",
       "    <tr>\n",
       "      <th>Brooklyn</th>\n",
       "      <td>-</td>\n",
       "      <td>Reject</td>\n",
       "      <td>Reject</td>\n",
       "    </tr>\n",
       "    <tr>\n",
       "      <th>Queens</th>\n",
       "      <td>Reject</td>\n",
       "      <td>-</td>\n",
       "      <td>Reject</td>\n",
       "    </tr>\n",
       "    <tr>\n",
       "      <th>Bronx</th>\n",
       "      <td>Reject</td>\n",
       "      <td>Reject</td>\n",
       "      <td>-</td>\n",
       "    </tr>\n",
       "  </tbody>\n",
       "</table>\n",
       "</div>"
      ],
      "text/plain": [
       "         Brooklyn  Queens   Bronx\n",
       "Brooklyn        -  Reject  Reject\n",
       "Queens     Reject       -  Reject\n",
       "Bronx      Reject  Reject       -"
      ]
     },
     "execution_count": 62,
     "metadata": {},
     "output_type": "execute_result"
    }
   ],
   "source": [
    "NY_Boro = ['Brooklyn','Queens','Bronx']\n",
    "df_5 = []\n",
    "for i in NY_Boro:\n",
    "    df_4 = []\n",
    "    for j in NY_Boro:\n",
    "        p=stats.ttest_ind(dfTaxi_1f[dfTaxi_1f['borough']==i]['speed'].values,dfTaxi_1f[dfTaxi_1f['borough']==j]['speed'].values)[1]\n",
    "        print(i,j,\" \",p)\n",
    "        if i == j:\n",
    "            df_4.append('-')\n",
    "        elif p > 0.05:\n",
    "            df_4.append('Keep')\n",
    "        else :\n",
    "            df_4.append('Reject')\n",
    "    df_5.append(df_4) \n",
    "    \n",
    "\n",
    "pd.DataFrame(df_5, columns= NY_Boro, index= NY_Boro)"
   ]
  },
  {
   "cell_type": "markdown",
   "metadata": {},
   "source": [
    "# Task 4. Ridership drop during pandemics\n",
    "No doubt that 2020 saw a large drop in ridership but how can we assess it? Keep in mind that we don't have the full year, the drop just started in March and there is also a general decline in taxi ridership, so we need a way to distinguish pandemics-related drop from the general trend. In order to account for it, normalize 2020 daily ridership data by the same day's 30-days rolling average (15 days before/after to smoothen out the effect of weekly variations within the baseline) in 2019, and compare the daily ratios of ridership after the shelter in place order (Mar 20th till June, 30th, 2020) and before (Jan, 16-Mar, 20th, 2020). Report p-values of ks-test and t-test. Can we reject the null hypothesis that daily ridership ratio average/distribution after March, 20, 2020 is the same as before? For comparison and to provide a baseline for evaluating results of the hypothesis testing perform the same analysis for the same periods of 2019. Can we reject the null hypothesis that daily ridership ratio average/distribution after March, 20, 2019 is the same as before?"
   ]
  },
  {
   "cell_type": "code",
   "execution_count": 63,
   "metadata": {},
   "outputs": [
    {
     "data": {
      "text/html": [
       "<div>\n",
       "<style scoped>\n",
       "    .dataframe tbody tr th:only-of-type {\n",
       "        vertical-align: middle;\n",
       "    }\n",
       "\n",
       "    .dataframe tbody tr th {\n",
       "        vertical-align: top;\n",
       "    }\n",
       "\n",
       "    .dataframe thead th {\n",
       "        text-align: right;\n",
       "    }\n",
       "</style>\n",
       "<table border=\"1\" class=\"dataframe\">\n",
       "  <thead>\n",
       "    <tr style=\"text-align: right;\">\n",
       "      <th></th>\n",
       "      <th>Year</th>\n",
       "      <th>Month</th>\n",
       "      <th>DOW</th>\n",
       "      <th>Date</th>\n",
       "      <th>trip_count</th>\n",
       "      <th>trip_duration</th>\n",
       "      <th>trip_distance</th>\n",
       "      <th>speed</th>\n",
       "    </tr>\n",
       "  </thead>\n",
       "  <tbody>\n",
       "    <tr>\n",
       "      <th>0</th>\n",
       "      <td>2018</td>\n",
       "      <td>12</td>\n",
       "      <td>0</td>\n",
       "      <td>2018-12-31</td>\n",
       "      <td>26</td>\n",
       "      <td>258.316667</td>\n",
       "      <td>60.45</td>\n",
       "      <td>14.040906</td>\n",
       "    </tr>\n",
       "    <tr>\n",
       "      <th>5</th>\n",
       "      <td>2019</td>\n",
       "      <td>1</td>\n",
       "      <td>1</td>\n",
       "      <td>2019-01-01</td>\n",
       "      <td>14806</td>\n",
       "      <td>204573.783333</td>\n",
       "      <td>58685.45</td>\n",
       "      <td>17.212015</td>\n",
       "    </tr>\n",
       "    <tr>\n",
       "      <th>10</th>\n",
       "      <td>2019</td>\n",
       "      <td>1</td>\n",
       "      <td>2</td>\n",
       "      <td>2019-01-02</td>\n",
       "      <td>19337</td>\n",
       "      <td>313291.066667</td>\n",
       "      <td>78826.38</td>\n",
       "      <td>15.096450</td>\n",
       "    </tr>\n",
       "    <tr>\n",
       "      <th>15</th>\n",
       "      <td>2019</td>\n",
       "      <td>1</td>\n",
       "      <td>3</td>\n",
       "      <td>2019-01-03</td>\n",
       "      <td>21199</td>\n",
       "      <td>354189.416667</td>\n",
       "      <td>85026.18</td>\n",
       "      <td>14.403510</td>\n",
       "    </tr>\n",
       "    <tr>\n",
       "      <th>20</th>\n",
       "      <td>2019</td>\n",
       "      <td>1</td>\n",
       "      <td>4</td>\n",
       "      <td>2019-01-04</td>\n",
       "      <td>22445</td>\n",
       "      <td>365281.183333</td>\n",
       "      <td>87954.88</td>\n",
       "      <td>14.447207</td>\n",
       "    </tr>\n",
       "  </tbody>\n",
       "</table>\n",
       "</div>"
      ],
      "text/plain": [
       "    Year  Month  DOW        Date  trip_count  trip_duration  trip_distance  \\\n",
       "0   2018     12    0  2018-12-31          26     258.316667          60.45   \n",
       "5   2019      1    1  2019-01-01       14806  204573.783333       58685.45   \n",
       "10  2019      1    2  2019-01-02       19337  313291.066667       78826.38   \n",
       "15  2019      1    3  2019-01-03       21199  354189.416667       85026.18   \n",
       "20  2019      1    4  2019-01-04       22445  365281.183333       87954.88   \n",
       "\n",
       "        speed  \n",
       "0   14.040906  \n",
       "5   17.212015  \n",
       "10  15.096450  \n",
       "15  14.403510  \n",
       "20  14.447207  "
      ]
     },
     "execution_count": 63,
     "metadata": {},
     "output_type": "execute_result"
    }
   ],
   "source": [
    "dfTaxiDaily.head()"
   ]
  },
  {
   "cell_type": "code",
   "execution_count": 64,
   "metadata": {},
   "outputs": [
    {
     "data": {
      "text/html": [
       "<div>\n",
       "<style scoped>\n",
       "    .dataframe tbody tr th:only-of-type {\n",
       "        vertical-align: middle;\n",
       "    }\n",
       "\n",
       "    .dataframe tbody tr th {\n",
       "        vertical-align: top;\n",
       "    }\n",
       "\n",
       "    .dataframe thead th {\n",
       "        text-align: right;\n",
       "    }\n",
       "</style>\n",
       "<table border=\"1\" class=\"dataframe\">\n",
       "  <thead>\n",
       "    <tr style=\"text-align: right;\">\n",
       "      <th></th>\n",
       "      <th>Year</th>\n",
       "      <th>Month</th>\n",
       "      <th>DOW</th>\n",
       "      <th>Date</th>\n",
       "      <th>trip_count</th>\n",
       "      <th>trip_duration</th>\n",
       "      <th>trip_distance</th>\n",
       "      <th>speed</th>\n",
       "      <th>Moving_AVG</th>\n",
       "    </tr>\n",
       "  </thead>\n",
       "  <tbody>\n",
       "    <tr>\n",
       "      <th>5</th>\n",
       "      <td>2019</td>\n",
       "      <td>1</td>\n",
       "      <td>1</td>\n",
       "      <td>2019-01-01</td>\n",
       "      <td>14806</td>\n",
       "      <td>204573.783333</td>\n",
       "      <td>58685.45</td>\n",
       "      <td>17.212015</td>\n",
       "      <td>14806.000000</td>\n",
       "    </tr>\n",
       "    <tr>\n",
       "      <th>10</th>\n",
       "      <td>2019</td>\n",
       "      <td>1</td>\n",
       "      <td>2</td>\n",
       "      <td>2019-01-02</td>\n",
       "      <td>19337</td>\n",
       "      <td>313291.066667</td>\n",
       "      <td>78826.38</td>\n",
       "      <td>15.096450</td>\n",
       "      <td>17071.500000</td>\n",
       "    </tr>\n",
       "    <tr>\n",
       "      <th>15</th>\n",
       "      <td>2019</td>\n",
       "      <td>1</td>\n",
       "      <td>3</td>\n",
       "      <td>2019-01-03</td>\n",
       "      <td>21199</td>\n",
       "      <td>354189.416667</td>\n",
       "      <td>85026.18</td>\n",
       "      <td>14.403510</td>\n",
       "      <td>18447.333333</td>\n",
       "    </tr>\n",
       "    <tr>\n",
       "      <th>20</th>\n",
       "      <td>2019</td>\n",
       "      <td>1</td>\n",
       "      <td>4</td>\n",
       "      <td>2019-01-04</td>\n",
       "      <td>22445</td>\n",
       "      <td>365281.183333</td>\n",
       "      <td>87954.88</td>\n",
       "      <td>14.447207</td>\n",
       "      <td>19446.750000</td>\n",
       "    </tr>\n",
       "    <tr>\n",
       "      <th>24</th>\n",
       "      <td>2019</td>\n",
       "      <td>1</td>\n",
       "      <td>5</td>\n",
       "      <td>2019-01-05</td>\n",
       "      <td>20196</td>\n",
       "      <td>281748.833333</td>\n",
       "      <td>71442.58</td>\n",
       "      <td>15.214100</td>\n",
       "      <td>19596.600000</td>\n",
       "    </tr>\n",
       "  </tbody>\n",
       "</table>\n",
       "</div>"
      ],
      "text/plain": [
       "    Year  Month  DOW        Date  trip_count  trip_duration  trip_distance  \\\n",
       "5   2019      1    1  2019-01-01       14806  204573.783333       58685.45   \n",
       "10  2019      1    2  2019-01-02       19337  313291.066667       78826.38   \n",
       "15  2019      1    3  2019-01-03       21199  354189.416667       85026.18   \n",
       "20  2019      1    4  2019-01-04       22445  365281.183333       87954.88   \n",
       "24  2019      1    5  2019-01-05       20196  281748.833333       71442.58   \n",
       "\n",
       "        speed    Moving_AVG  \n",
       "5   17.212015  14806.000000  \n",
       "10  15.096450  17071.500000  \n",
       "15  14.403510  18447.333333  \n",
       "20  14.447207  19446.750000  \n",
       "24  15.214100  19596.600000  "
      ]
     },
     "execution_count": 64,
     "metadata": {},
     "output_type": "execute_result"
    }
   ],
   "source": [
    "dfTaxiDaily_2019=dfTaxiDaily[dfTaxiDaily['Year']==2019]\n",
    "dfTaxiDaily_2019['Moving_AVG'] = dfTaxiDaily_2019['trip_count'].rolling(window=30,min_periods=1).mean()\n",
    "dfTaxiDaily_2019.head()"
   ]
  },
  {
   "cell_type": "code",
   "execution_count": 65,
   "metadata": {},
   "outputs": [
    {
     "data": {
      "text/plain": [
       "365"
      ]
     },
     "execution_count": 65,
     "metadata": {},
     "output_type": "execute_result"
    }
   ],
   "source": [
    "len(dfTaxiDaily_2019)"
   ]
  },
  {
   "cell_type": "code",
   "execution_count": 66,
   "metadata": {},
   "outputs": [
    {
     "data": {
      "text/html": [
       "<div>\n",
       "<style scoped>\n",
       "    .dataframe tbody tr th:only-of-type {\n",
       "        vertical-align: middle;\n",
       "    }\n",
       "\n",
       "    .dataframe tbody tr th {\n",
       "        vertical-align: top;\n",
       "    }\n",
       "\n",
       "    .dataframe thead th {\n",
       "        text-align: right;\n",
       "    }\n",
       "</style>\n",
       "<table border=\"1\" class=\"dataframe\">\n",
       "  <thead>\n",
       "    <tr style=\"text-align: right;\">\n",
       "      <th></th>\n",
       "      <th>Year</th>\n",
       "      <th>Month</th>\n",
       "      <th>DOW</th>\n",
       "      <th>Date</th>\n",
       "      <th>trip_count</th>\n",
       "      <th>trip_duration</th>\n",
       "      <th>trip_distance</th>\n",
       "      <th>speed</th>\n",
       "    </tr>\n",
       "  </thead>\n",
       "  <tbody>\n",
       "    <tr>\n",
       "      <th>0</th>\n",
       "      <td>2020</td>\n",
       "      <td>1</td>\n",
       "      <td>2</td>\n",
       "      <td>2020-01-01</td>\n",
       "      <td>10410</td>\n",
       "      <td>146795.583333</td>\n",
       "      <td>42825.83</td>\n",
       "      <td>17.504272</td>\n",
       "    </tr>\n",
       "    <tr>\n",
       "      <th>1</th>\n",
       "      <td>2020</td>\n",
       "      <td>1</td>\n",
       "      <td>3</td>\n",
       "      <td>2020-01-02</td>\n",
       "      <td>14440</td>\n",
       "      <td>241500.683333</td>\n",
       "      <td>61940.19</td>\n",
       "      <td>15.388824</td>\n",
       "    </tr>\n",
       "    <tr>\n",
       "      <th>2</th>\n",
       "      <td>2020</td>\n",
       "      <td>1</td>\n",
       "      <td>4</td>\n",
       "      <td>2020-01-03</td>\n",
       "      <td>15463</td>\n",
       "      <td>252003.183333</td>\n",
       "      <td>62165.15</td>\n",
       "      <td>14.801039</td>\n",
       "    </tr>\n",
       "    <tr>\n",
       "      <th>3</th>\n",
       "      <td>2020</td>\n",
       "      <td>1</td>\n",
       "      <td>5</td>\n",
       "      <td>2020-01-04</td>\n",
       "      <td>13797</td>\n",
       "      <td>205190.250000</td>\n",
       "      <td>54313.63</td>\n",
       "      <td>15.881933</td>\n",
       "    </tr>\n",
       "    <tr>\n",
       "      <th>4</th>\n",
       "      <td>2020</td>\n",
       "      <td>1</td>\n",
       "      <td>6</td>\n",
       "      <td>2020-01-05</td>\n",
       "      <td>12255</td>\n",
       "      <td>176122.633333</td>\n",
       "      <td>49472.43</td>\n",
       "      <td>16.853858</td>\n",
       "    </tr>\n",
       "  </tbody>\n",
       "</table>\n",
       "</div>"
      ],
      "text/plain": [
       "   Year  Month  DOW        Date  trip_count  trip_duration  trip_distance  \\\n",
       "0  2020      1    2  2020-01-01       10410  146795.583333       42825.83   \n",
       "1  2020      1    3  2020-01-02       14440  241500.683333       61940.19   \n",
       "2  2020      1    4  2020-01-03       15463  252003.183333       62165.15   \n",
       "3  2020      1    5  2020-01-04       13797  205190.250000       54313.63   \n",
       "4  2020      1    6  2020-01-05       12255  176122.633333       49472.43   \n",
       "\n",
       "       speed  \n",
       "0  17.504272  \n",
       "1  15.388824  \n",
       "2  14.801039  \n",
       "3  15.881933  \n",
       "4  16.853858  "
      ]
     },
     "execution_count": 66,
     "metadata": {},
     "output_type": "execute_result"
    }
   ],
   "source": [
    "dfTaxiDaily_2020=dfTaxiDaily[dfTaxiDaily['Year']==2020]\n",
    "dfTaxiDaily_2020.reset_index(inplace=True,drop=True)\n",
    "dfTaxiDaily_2020.head()"
   ]
  },
  {
   "cell_type": "code",
   "execution_count": 67,
   "metadata": {},
   "outputs": [
    {
     "data": {
      "text/html": [
       "<div>\n",
       "<style scoped>\n",
       "    .dataframe tbody tr th:only-of-type {\n",
       "        vertical-align: middle;\n",
       "    }\n",
       "\n",
       "    .dataframe tbody tr th {\n",
       "        vertical-align: top;\n",
       "    }\n",
       "\n",
       "    .dataframe thead th {\n",
       "        text-align: right;\n",
       "    }\n",
       "</style>\n",
       "<table border=\"1\" class=\"dataframe\">\n",
       "  <thead>\n",
       "    <tr style=\"text-align: right;\">\n",
       "      <th></th>\n",
       "      <th>Year</th>\n",
       "      <th>Month</th>\n",
       "      <th>DOW</th>\n",
       "      <th>Date</th>\n",
       "      <th>trip_count</th>\n",
       "      <th>trip_duration</th>\n",
       "      <th>trip_distance</th>\n",
       "      <th>speed</th>\n",
       "      <th>Moving_AVG</th>\n",
       "      <th>RATIO</th>\n",
       "    </tr>\n",
       "  </thead>\n",
       "  <tbody>\n",
       "    <tr>\n",
       "      <th>0</th>\n",
       "      <td>2020</td>\n",
       "      <td>1</td>\n",
       "      <td>2</td>\n",
       "      <td>2020-01-01</td>\n",
       "      <td>10410</td>\n",
       "      <td>146795.583333</td>\n",
       "      <td>42825.83</td>\n",
       "      <td>17.504272</td>\n",
       "      <td>NaN</td>\n",
       "      <td>NaN</td>\n",
       "    </tr>\n",
       "    <tr>\n",
       "      <th>1</th>\n",
       "      <td>2020</td>\n",
       "      <td>1</td>\n",
       "      <td>3</td>\n",
       "      <td>2020-01-02</td>\n",
       "      <td>14440</td>\n",
       "      <td>241500.683333</td>\n",
       "      <td>61940.19</td>\n",
       "      <td>15.388824</td>\n",
       "      <td>19545.857143</td>\n",
       "      <td>0.738775</td>\n",
       "    </tr>\n",
       "    <tr>\n",
       "      <th>2</th>\n",
       "      <td>2020</td>\n",
       "      <td>1</td>\n",
       "      <td>4</td>\n",
       "      <td>2020-01-03</td>\n",
       "      <td>15463</td>\n",
       "      <td>252003.183333</td>\n",
       "      <td>62165.15</td>\n",
       "      <td>14.801039</td>\n",
       "      <td>20586.642857</td>\n",
       "      <td>0.751118</td>\n",
       "    </tr>\n",
       "    <tr>\n",
       "      <th>3</th>\n",
       "      <td>2020</td>\n",
       "      <td>1</td>\n",
       "      <td>5</td>\n",
       "      <td>2020-01-04</td>\n",
       "      <td>13797</td>\n",
       "      <td>205190.250000</td>\n",
       "      <td>54313.63</td>\n",
       "      <td>15.881933</td>\n",
       "      <td>20453.476190</td>\n",
       "      <td>0.674555</td>\n",
       "    </tr>\n",
       "    <tr>\n",
       "      <th>4</th>\n",
       "      <td>2020</td>\n",
       "      <td>1</td>\n",
       "      <td>6</td>\n",
       "      <td>2020-01-05</td>\n",
       "      <td>12255</td>\n",
       "      <td>176122.633333</td>\n",
       "      <td>49472.43</td>\n",
       "      <td>16.853858</td>\n",
       "      <td>20865.607143</td>\n",
       "      <td>0.587330</td>\n",
       "    </tr>\n",
       "  </tbody>\n",
       "</table>\n",
       "</div>"
      ],
      "text/plain": [
       "   Year  Month  DOW        Date  trip_count  trip_duration  trip_distance  \\\n",
       "0  2020      1    2  2020-01-01       10410  146795.583333       42825.83   \n",
       "1  2020      1    3  2020-01-02       14440  241500.683333       61940.19   \n",
       "2  2020      1    4  2020-01-03       15463  252003.183333       62165.15   \n",
       "3  2020      1    5  2020-01-04       13797  205190.250000       54313.63   \n",
       "4  2020      1    6  2020-01-05       12255  176122.633333       49472.43   \n",
       "\n",
       "       speed    Moving_AVG     RATIO  \n",
       "0  17.504272           NaN       NaN  \n",
       "1  15.388824  19545.857143  0.738775  \n",
       "2  14.801039  20586.642857  0.751118  \n",
       "3  15.881933  20453.476190  0.674555  \n",
       "4  16.853858  20865.607143  0.587330  "
      ]
     },
     "execution_count": 67,
     "metadata": {},
     "output_type": "execute_result"
    }
   ],
   "source": [
    "dfTaxiDaily_2020['Moving_AVG']=dfTaxiDaily_2019['Moving_AVG']\n",
    "dfTaxiDaily_2020['RATIO']=dfTaxiDaily_2020['trip_count']/dfTaxiDaily_2020['Moving_AVG']\n",
    "dfTaxiDaily_2020.head()"
   ]
  },
  {
   "cell_type": "code",
   "execution_count": 68,
   "metadata": {},
   "outputs": [
    {
     "data": {
      "text/html": [
       "<div>\n",
       "<style scoped>\n",
       "    .dataframe tbody tr th:only-of-type {\n",
       "        vertical-align: middle;\n",
       "    }\n",
       "\n",
       "    .dataframe tbody tr th {\n",
       "        vertical-align: top;\n",
       "    }\n",
       "\n",
       "    .dataframe thead th {\n",
       "        text-align: right;\n",
       "    }\n",
       "</style>\n",
       "<table border=\"1\" class=\"dataframe\">\n",
       "  <thead>\n",
       "    <tr style=\"text-align: right;\">\n",
       "      <th></th>\n",
       "      <th>Year</th>\n",
       "      <th>Month</th>\n",
       "      <th>DOW</th>\n",
       "      <th>Date</th>\n",
       "      <th>trip_count</th>\n",
       "      <th>trip_duration</th>\n",
       "      <th>trip_distance</th>\n",
       "      <th>speed</th>\n",
       "      <th>Moving_AVG</th>\n",
       "      <th>RATIO</th>\n",
       "    </tr>\n",
       "  </thead>\n",
       "  <tbody>\n",
       "    <tr>\n",
       "      <th>16</th>\n",
       "      <td>2020</td>\n",
       "      <td>1</td>\n",
       "      <td>4</td>\n",
       "      <td>2020-01-17</td>\n",
       "      <td>15214</td>\n",
       "      <td>240713.216667</td>\n",
       "      <td>52351.22</td>\n",
       "      <td>13.049027</td>\n",
       "      <td>20344.300000</td>\n",
       "      <td>0.747826</td>\n",
       "    </tr>\n",
       "    <tr>\n",
       "      <th>17</th>\n",
       "      <td>2020</td>\n",
       "      <td>1</td>\n",
       "      <td>5</td>\n",
       "      <td>2020-01-18</td>\n",
       "      <td>10488</td>\n",
       "      <td>141599.050000</td>\n",
       "      <td>34289.00</td>\n",
       "      <td>14.529335</td>\n",
       "      <td>20964.529412</td>\n",
       "      <td>0.500274</td>\n",
       "    </tr>\n",
       "    <tr>\n",
       "      <th>18</th>\n",
       "      <td>2020</td>\n",
       "      <td>1</td>\n",
       "      <td>6</td>\n",
       "      <td>2020-01-19</td>\n",
       "      <td>10675</td>\n",
       "      <td>141949.400000</td>\n",
       "      <td>37705.01</td>\n",
       "      <td>15.937373</td>\n",
       "      <td>20661.583333</td>\n",
       "      <td>0.516659</td>\n",
       "    </tr>\n",
       "    <tr>\n",
       "      <th>19</th>\n",
       "      <td>2020</td>\n",
       "      <td>1</td>\n",
       "      <td>0</td>\n",
       "      <td>2020-01-20</td>\n",
       "      <td>9125</td>\n",
       "      <td>121485.016667</td>\n",
       "      <td>30461.45</td>\n",
       "      <td>15.044547</td>\n",
       "      <td>21201.800000</td>\n",
       "      <td>0.430388</td>\n",
       "    </tr>\n",
       "    <tr>\n",
       "      <th>20</th>\n",
       "      <td>2020</td>\n",
       "      <td>1</td>\n",
       "      <td>1</td>\n",
       "      <td>2020-01-21</td>\n",
       "      <td>13335</td>\n",
       "      <td>212255.633333</td>\n",
       "      <td>47770.80</td>\n",
       "      <td>13.503755</td>\n",
       "      <td>19446.750000</td>\n",
       "      <td>0.685719</td>\n",
       "    </tr>\n",
       "  </tbody>\n",
       "</table>\n",
       "</div>"
      ],
      "text/plain": [
       "    Year  Month  DOW        Date  trip_count  trip_duration  trip_distance  \\\n",
       "16  2020      1    4  2020-01-17       15214  240713.216667       52351.22   \n",
       "17  2020      1    5  2020-01-18       10488  141599.050000       34289.00   \n",
       "18  2020      1    6  2020-01-19       10675  141949.400000       37705.01   \n",
       "19  2020      1    0  2020-01-20        9125  121485.016667       30461.45   \n",
       "20  2020      1    1  2020-01-21       13335  212255.633333       47770.80   \n",
       "\n",
       "        speed    Moving_AVG     RATIO  \n",
       "16  13.049027  20344.300000  0.747826  \n",
       "17  14.529335  20964.529412  0.500274  \n",
       "18  15.937373  20661.583333  0.516659  \n",
       "19  15.044547  21201.800000  0.430388  \n",
       "20  13.503755  19446.750000  0.685719  "
      ]
     },
     "execution_count": 68,
     "metadata": {},
     "output_type": "execute_result"
    }
   ],
   "source": [
    "startdate2020 = pd.to_datetime(\"2020-01-16\").date()\n",
    "enddate2020 = pd.to_datetime(\"2020-03-21\").date()\n",
    "\n",
    "sb_2020 = dfTaxiDaily_2020[(dfTaxiDaily_2020['Date'] > startdate2020) & (dfTaxiDaily_2020['Date'] < enddate2020)]\n",
    "sb_2020.head()\n"
   ]
  },
  {
   "cell_type": "code",
   "execution_count": 69,
   "metadata": {},
   "outputs": [
    {
     "data": {
      "text/html": [
       "<div>\n",
       "<style scoped>\n",
       "    .dataframe tbody tr th:only-of-type {\n",
       "        vertical-align: middle;\n",
       "    }\n",
       "\n",
       "    .dataframe tbody tr th {\n",
       "        vertical-align: top;\n",
       "    }\n",
       "\n",
       "    .dataframe thead th {\n",
       "        text-align: right;\n",
       "    }\n",
       "</style>\n",
       "<table border=\"1\" class=\"dataframe\">\n",
       "  <thead>\n",
       "    <tr style=\"text-align: right;\">\n",
       "      <th></th>\n",
       "      <th>Year</th>\n",
       "      <th>Month</th>\n",
       "      <th>DOW</th>\n",
       "      <th>Date</th>\n",
       "      <th>trip_count</th>\n",
       "      <th>trip_duration</th>\n",
       "      <th>trip_distance</th>\n",
       "      <th>speed</th>\n",
       "      <th>Moving_AVG</th>\n",
       "      <th>RATIO</th>\n",
       "    </tr>\n",
       "  </thead>\n",
       "  <tbody>\n",
       "    <tr>\n",
       "      <th>80</th>\n",
       "      <td>2020</td>\n",
       "      <td>3</td>\n",
       "      <td>5</td>\n",
       "      <td>2020-03-21</td>\n",
       "      <td>2349</td>\n",
       "      <td>30202.250000</td>\n",
       "      <td>9328.71</td>\n",
       "      <td>18.532480</td>\n",
       "      <td>20194.433333</td>\n",
       "      <td>0.116319</td>\n",
       "    </tr>\n",
       "    <tr>\n",
       "      <th>81</th>\n",
       "      <td>2020</td>\n",
       "      <td>3</td>\n",
       "      <td>6</td>\n",
       "      <td>2020-03-22</td>\n",
       "      <td>1294</td>\n",
       "      <td>16882.766667</td>\n",
       "      <td>5687.62</td>\n",
       "      <td>20.213346</td>\n",
       "      <td>21265.033333</td>\n",
       "      <td>0.060851</td>\n",
       "    </tr>\n",
       "    <tr>\n",
       "      <th>82</th>\n",
       "      <td>2020</td>\n",
       "      <td>3</td>\n",
       "      <td>0</td>\n",
       "      <td>2020-03-23</td>\n",
       "      <td>1824</td>\n",
       "      <td>25327.583333</td>\n",
       "      <td>8155.56</td>\n",
       "      <td>19.320185</td>\n",
       "      <td>20771.966667</td>\n",
       "      <td>0.087811</td>\n",
       "    </tr>\n",
       "    <tr>\n",
       "      <th>83</th>\n",
       "      <td>2020</td>\n",
       "      <td>3</td>\n",
       "      <td>1</td>\n",
       "      <td>2020-03-24</td>\n",
       "      <td>1698</td>\n",
       "      <td>23039.216667</td>\n",
       "      <td>7174.57</td>\n",
       "      <td>18.684411</td>\n",
       "      <td>20484.100000</td>\n",
       "      <td>0.082894</td>\n",
       "    </tr>\n",
       "    <tr>\n",
       "      <th>84</th>\n",
       "      <td>2020</td>\n",
       "      <td>3</td>\n",
       "      <td>2</td>\n",
       "      <td>2020-03-25</td>\n",
       "      <td>1600</td>\n",
       "      <td>21892.616667</td>\n",
       "      <td>7192.78</td>\n",
       "      <td>19.712893</td>\n",
       "      <td>20491.566667</td>\n",
       "      <td>0.078081</td>\n",
       "    </tr>\n",
       "  </tbody>\n",
       "</table>\n",
       "</div>"
      ],
      "text/plain": [
       "    Year  Month  DOW        Date  trip_count  trip_duration  trip_distance  \\\n",
       "80  2020      3    5  2020-03-21        2349   30202.250000        9328.71   \n",
       "81  2020      3    6  2020-03-22        1294   16882.766667        5687.62   \n",
       "82  2020      3    0  2020-03-23        1824   25327.583333        8155.56   \n",
       "83  2020      3    1  2020-03-24        1698   23039.216667        7174.57   \n",
       "84  2020      3    2  2020-03-25        1600   21892.616667        7192.78   \n",
       "\n",
       "        speed    Moving_AVG     RATIO  \n",
       "80  18.532480  20194.433333  0.116319  \n",
       "81  20.213346  21265.033333  0.060851  \n",
       "82  19.320185  20771.966667  0.087811  \n",
       "83  18.684411  20484.100000  0.082894  \n",
       "84  19.712893  20491.566667  0.078081  "
      ]
     },
     "execution_count": 69,
     "metadata": {},
     "output_type": "execute_result"
    }
   ],
   "source": [
    "startdate_covid = pd.to_datetime(\"2020-03-20\").date()\n",
    "enddate_covid = pd.to_datetime(\"2020-06-30\").date()\n",
    "\n",
    "sa_2020 = dfTaxiDaily_2020[(dfTaxiDaily_2020['Date'] > startdate_covid) & (dfTaxiDaily_2020['Date'] < enddate_covid)]\n",
    "\n",
    "sa_2020.head()\n"
   ]
  },
  {
   "cell_type": "code",
   "execution_count": 70,
   "metadata": {},
   "outputs": [
    {
     "data": {
      "text/plain": [
       "Ttest_indResult(statistic=34.19259027747695, pvalue=2.922880841984526e-76)"
      ]
     },
     "execution_count": 70,
     "metadata": {},
     "output_type": "execute_result"
    }
   ],
   "source": [
    "stats.ttest_ind(sb_2020['RATIO'].values,sa_2020['RATIO'].values)"
   ]
  },
  {
   "cell_type": "code",
   "execution_count": 71,
   "metadata": {},
   "outputs": [
    {
     "data": {
      "text/plain": [
       "KstestResult(statistic=1.0, pvalue=4.410211258303491e-47)"
      ]
     },
     "execution_count": 71,
     "metadata": {},
     "output_type": "execute_result"
    }
   ],
   "source": [
    "stats.ks_2samp(sb_2020['RATIO'].values,sa_2020['RATIO'].values)"
   ]
  }
 ],
 "metadata": {
  "kernelspec": {
   "display_name": "geo_env",
   "language": "python",
   "name": "geo_env"
  },
  "language_info": {
   "codemirror_mode": {
    "name": "ipython",
    "version": 3
   },
   "file_extension": ".py",
   "mimetype": "text/x-python",
   "name": "python",
   "nbconvert_exporter": "python",
   "pygments_lexer": "ipython3",
   "version": "3.10.6"
  }
 },
 "nbformat": 4,
 "nbformat_minor": 4
}
