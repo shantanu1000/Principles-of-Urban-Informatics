{
 "cells": [
  {
   "cell_type": "code",
   "execution_count": 1,
   "metadata": {},
   "outputs": [],
   "source": [
    "import pandas as pd\n",
    "import numpy as np\n",
    "import statsmodels.formula.api as smf\n",
    "import statsmodels.api as sm\n",
    "from sklearn import linear_model\n",
    "import matplotlib.pylab as plt\n",
    "import math\n",
    "import seaborn as sbn\n",
    "%matplotlib inline"
   ]
  },
  {
   "cell_type": "markdown",
   "metadata": {},
   "source": [
    "# Fitting polynomial models with linear regression. \n",
    "# Overfitting. Out-of-sample validation and degree selection"
   ]
  },
  {
   "cell_type": "markdown",
   "metadata": {},
   "source": [
    "## Polinomial models with linear regression\n",
    "While linear regression is intended primarily for linear models it can fit nonlinear models like $y\\sim a_n x^n+a_{n-1}x^{n-1}+...+a_1 x+a_0$ as well by introducing new variables $x_1=x, x_2=x^2, x_3=x^3,..., x_n=x^n$ and performing a linear multi-variate regression of $y$ against the new set of variables $x_1,x_2,...,x_n$"
   ]
  },
  {
   "cell_type": "markdown",
   "metadata": {},
   "source": [
    "### Example 1. Polynomial model"
   ]
  },
  {
   "cell_type": "code",
   "execution_count": 2,
   "metadata": {},
   "outputs": [
    {
     "data": {
      "text/html": [
       "<div>\n",
       "<style scoped>\n",
       "    .dataframe tbody tr th:only-of-type {\n",
       "        vertical-align: middle;\n",
       "    }\n",
       "\n",
       "    .dataframe tbody tr th {\n",
       "        vertical-align: top;\n",
       "    }\n",
       "\n",
       "    .dataframe thead th {\n",
       "        text-align: right;\n",
       "    }\n",
       "</style>\n",
       "<table border=\"1\" class=\"dataframe\">\n",
       "  <thead>\n",
       "    <tr style=\"text-align: right;\">\n",
       "      <th></th>\n",
       "      <th>x</th>\n",
       "      <th>y</th>\n",
       "    </tr>\n",
       "  </thead>\n",
       "  <tbody>\n",
       "    <tr>\n",
       "      <th>0</th>\n",
       "      <td>-10.0</td>\n",
       "      <td>62.503031</td>\n",
       "    </tr>\n",
       "    <tr>\n",
       "      <th>1</th>\n",
       "      <td>-9.5</td>\n",
       "      <td>51.410761</td>\n",
       "    </tr>\n",
       "    <tr>\n",
       "      <th>2</th>\n",
       "      <td>-9.0</td>\n",
       "      <td>44.605198</td>\n",
       "    </tr>\n",
       "    <tr>\n",
       "      <th>3</th>\n",
       "      <td>-8.5</td>\n",
       "      <td>24.739247</td>\n",
       "    </tr>\n",
       "    <tr>\n",
       "      <th>4</th>\n",
       "      <td>-8.0</td>\n",
       "      <td>22.200164</td>\n",
       "    </tr>\n",
       "  </tbody>\n",
       "</table>\n",
       "</div>"
      ],
      "text/plain": [
       "      x          y\n",
       "0 -10.0  62.503031\n",
       "1  -9.5  51.410761\n",
       "2  -9.0  44.605198\n",
       "3  -8.5  24.739247\n",
       "4  -8.0  22.200164"
      ]
     },
     "execution_count": 2,
     "metadata": {},
     "output_type": "execute_result"
    }
   ],
   "source": [
    "#generate data and put it in the dataframe\n",
    "np.random.seed(2018)\n",
    "x=np.arange(-10,20,0.5)\n",
    "y=x**4/100+x**3/20+x**2/3+2*x+np.random.normal(loc=0,scale=3,size=60)\n",
    "data1=pd.DataFrame({'x':x,'y':y}) #create a dataframe\n",
    "#slice the data in three pieces (we'll talk about those later)\n",
    "data1_2=data1.loc[40:49]\n",
    "data1_3=data1.loc[50:59]\n",
    "data1=data1.loc[0:39] \n",
    "data1.head() #for now let's stick with this first one"
   ]
  },
  {
   "cell_type": "code",
   "execution_count": 3,
   "metadata": {},
   "outputs": [
    {
     "data": {
      "text/plain": [
       "(40, 2)"
      ]
     },
     "execution_count": 3,
     "metadata": {},
     "output_type": "execute_result"
    }
   ],
   "source": [
    "data1.shape"
   ]
  },
  {
   "cell_type": "code",
   "execution_count": 4,
   "metadata": {},
   "outputs": [
    {
     "data": {
      "text/plain": [
       "<AxesSubplot:xlabel='x', ylabel='y'>"
      ]
     },
     "execution_count": 4,
     "metadata": {},
     "output_type": "execute_result"
    },
    {
     "data": {
      "image/png": "[encoded data removed]",
      "text/plain": [
       "<Figure size 432x288 with 1 Axes>"
      ]
     },
     "metadata": {
      "needs_background": "light"
     },
     "output_type": "display_data"
    }
   ],
   "source": [
    "#visualize the observations\n",
    "data1.plot(x='x',y='y',kind='scatter')"
   ]
  },
  {
   "cell_type": "code",
   "execution_count": 5,
   "metadata": {},
   "outputs": [
    {
     "name": "stdout",
     "output_type": "stream",
     "text": [
      "                            OLS Regression Results                            \n",
      "==============================================================================\n",
      "Dep. Variable:                      y   R-squared:                       0.305\n",
      "Model:                            OLS   Adj. R-squared:                  0.287\n",
      "Method:                 Least Squares   F-statistic:                     16.70\n",
      "Date:                Fri, 16 Dec 2022   Prob (F-statistic):           0.000218\n",
      "Time:                        11:10:15   Log-Likelihood:                -200.78\n",
      "No. Observations:                  40   AIC:                             405.6\n",
      "Df Residuals:                      38   BIC:                             408.9\n",
      "Df Model:                           1                                         \n",
      "Covariance Type:            nonrobust                                         \n",
      "==============================================================================\n",
      "                 coef    std err          t      P>|t|      [0.025      0.975]\n",
      "------------------------------------------------------------------------------\n",
      "Intercept     30.5075      5.946      5.131      0.000      18.471      42.544\n",
      "x              4.2062      1.029      4.087      0.000       2.123       6.290\n",
      "==============================================================================\n",
      "Omnibus:                        9.814   Durbin-Watson:                   0.068\n",
      "Prob(Omnibus):                  0.007   Jarque-Bera (JB):                9.448\n",
      "Skew:                           1.169   Prob(JB):                      0.00888\n",
      "Kurtosis:                       3.447   Cond. No.                         5.78\n",
      "==============================================================================\n",
      "\n",
      "Notes:\n",
      "[1] Standard Errors assume that the covariance matrix of the errors is correctly specified.\n"
     ]
    }
   ],
   "source": [
    "#does not really look linear, but lets fit a linear model first\n",
    "lm = smf.ols(formula='y~x', data = data1).fit()\n",
    "print(lm.summary())"
   ]
  },
  {
   "cell_type": "code",
   "execution_count": 6,
   "metadata": {},
   "outputs": [
    {
     "data": {
      "text/plain": [
       "[<matplotlib.lines.Line2D at 0x1e9ac22c220>]"
      ]
     },
     "execution_count": 6,
     "metadata": {},
     "output_type": "execute_result"
    },
    {
     "data": {
      "image/png": "[encoded data removed]",
      "text/plain": [
       "<Figure size 432x288 with 1 Axes>"
      ]
     },
     "metadata": {
      "needs_background": "light"
     },
     "output_type": "display_data"
    }
   ],
   "source": [
    "#visualize regression fit\n",
    "data1['ypred']=lm.predict() #predicted regression values\n",
    "plt.plot(data1.x,data1.y,'.r') #plot the data\n",
    "plt.plot(data1.x,data1.ypred,'b') #plot the regression"
   ]
  },
  {
   "cell_type": "markdown",
   "metadata": {},
   "source": [
    "so despite decent R2, linear model does not really fit well. It seems a more complex dependence might be needed"
   ]
  },
  {
   "cell_type": "markdown",
   "metadata": {},
   "source": [
    "Given two columns of data, $y$ and $x$, how can we fit a polynomial model $$\\hat y = w_0+\\sum\\limits_{i=1}^M w_i\\cdot x^i$$\n",
    "finding coefficients $w_j$?\n",
    "\n",
    "As you may notice the model looks almost like multi-variate regression, if one could just consider $x^i$ as distinctive regressors, rather than powers of the same regressor $x$. So why not do it that way? In the end its up to us how to use the given data, what features to consider and what model to try. It's called feature engineering."
   ]
  },
  {
   "cell_type": "code",
   "execution_count": 7,
   "metadata": {},
   "outputs": [],
   "source": [
    "#introduce another regressor being a square of x\n",
    "data1['x2']=data1.x**2"
   ]
  },
  {
   "cell_type": "code",
   "execution_count": 8,
   "metadata": {},
   "outputs": [
    {
     "name": "stdout",
     "output_type": "stream",
     "text": [
      "                            OLS Regression Results                            \n",
      "==============================================================================\n",
      "Dep. Variable:                      y   R-squared:                       0.945\n",
      "Model:                            OLS   Adj. R-squared:                  0.942\n",
      "Method:                 Least Squares   F-statistic:                     316.3\n",
      "Date:                Fri, 16 Dec 2022   Prob (F-statistic):           5.41e-24\n",
      "Time:                        11:10:16   Log-Likelihood:                -150.15\n",
      "No. Observations:                  40   AIC:                             306.3\n",
      "Df Residuals:                      37   BIC:                             311.4\n",
      "Df Model:                           2                                         \n",
      "Covariance Type:            nonrobust                                         \n",
      "==============================================================================\n",
      "                 coef    std err          t      P>|t|      [0.025      0.975]\n",
      "------------------------------------------------------------------------------\n",
      "Intercept     -8.7347      2.546     -3.430      0.001     -13.894      -3.575\n",
      "x              4.7963      0.296     16.229      0.000       4.197       5.395\n",
      "x2             1.1802      0.057     20.693      0.000       1.065       1.296\n",
      "==============================================================================\n",
      "Omnibus:                        5.506   Durbin-Watson:                   0.258\n",
      "Prob(Omnibus):                  0.064   Jarque-Bera (JB):                4.137\n",
      "Skew:                           0.660   Prob(JB):                        0.126\n",
      "Kurtosis:                       3.861   Cond. No.                         67.2\n",
      "==============================================================================\n",
      "\n",
      "Notes:\n",
      "[1] Standard Errors assume that the covariance matrix of the errors is correctly specified.\n"
     ]
    }
   ],
   "source": [
    "#fit a multi-variate linear model using x and x**2 as two regressors\n",
    "lm = smf.ols(formula='y~x+x2', data = data1).fit()\n",
    "print(lm.summary())"
   ]
  },
  {
   "cell_type": "code",
   "execution_count": 9,
   "metadata": {},
   "outputs": [
    {
     "data": {
      "text/plain": [
       "[<matplotlib.lines.Line2D at 0x1e9ac2d7ee0>]"
      ]
     },
     "execution_count": 9,
     "metadata": {},
     "output_type": "execute_result"
    },
    {
     "data": {
      "image/png": "[encoded data removed]",
      "text/plain": [
       "<Figure size 432x288 with 1 Axes>"
      ]
     },
     "metadata": {
      "needs_background": "light"
     },
     "output_type": "display_data"
    }
   ],
   "source": [
    "#visualize regression fit\n",
    "data1['ypred']=lm.predict() #predicted regression values\n",
    "plt.plot(data1.x,data1.y,'.r') #plot the data\n",
    "plt.plot(data1.x,data1.ypred,'b') #plot the regression"
   ]
  },
  {
   "cell_type": "code",
   "execution_count": 10,
   "metadata": {},
   "outputs": [],
   "source": [
    "#But what if add more powers of x? Will the fit become any better?"
   ]
  },
  {
   "cell_type": "code",
   "execution_count": 11,
   "metadata": {},
   "outputs": [
    {
     "data": {
      "text/html": [
       "<div>\n",
       "<style scoped>\n",
       "    .dataframe tbody tr th:only-of-type {\n",
       "        vertical-align: middle;\n",
       "    }\n",
       "\n",
       "    .dataframe tbody tr th {\n",
       "        vertical-align: top;\n",
       "    }\n",
       "\n",
       "    .dataframe thead th {\n",
       "        text-align: right;\n",
       "    }\n",
       "</style>\n",
       "<table border=\"1\" class=\"dataframe\">\n",
       "  <thead>\n",
       "    <tr style=\"text-align: right;\">\n",
       "      <th></th>\n",
       "      <th>x</th>\n",
       "      <th>y</th>\n",
       "      <th>ypred</th>\n",
       "      <th>x2</th>\n",
       "      <th>x1</th>\n",
       "      <th>x3</th>\n",
       "      <th>x4</th>\n",
       "      <th>x5</th>\n",
       "      <th>x6</th>\n",
       "      <th>x7</th>\n",
       "      <th>x8</th>\n",
       "      <th>x9</th>\n",
       "      <th>x10</th>\n",
       "      <th>x11</th>\n",
       "      <th>x12</th>\n",
       "      <th>x13</th>\n",
       "      <th>x14</th>\n",
       "      <th>x15</th>\n",
       "    </tr>\n",
       "  </thead>\n",
       "  <tbody>\n",
       "    <tr>\n",
       "      <th>0</th>\n",
       "      <td>-10.0</td>\n",
       "      <td>62.503031</td>\n",
       "      <td>61.324344</td>\n",
       "      <td>100.00</td>\n",
       "      <td>-10.0</td>\n",
       "      <td>-1000.000</td>\n",
       "      <td>10000.0000</td>\n",
       "      <td>-100000.00000</td>\n",
       "      <td>1000000.000000</td>\n",
       "      <td>-1.000000e+07</td>\n",
       "      <td>1.000000e+08</td>\n",
       "      <td>-1.000000e+09</td>\n",
       "      <td>1.000000e+10</td>\n",
       "      <td>-1.000000e+11</td>\n",
       "      <td>1.000000e+12</td>\n",
       "      <td>-1.000000e+13</td>\n",
       "      <td>1.000000e+14</td>\n",
       "      <td>-1.000000e+15</td>\n",
       "    </tr>\n",
       "    <tr>\n",
       "      <th>1</th>\n",
       "      <td>-9.5</td>\n",
       "      <td>51.410761</td>\n",
       "      <td>52.215358</td>\n",
       "      <td>90.25</td>\n",
       "      <td>-9.5</td>\n",
       "      <td>-857.375</td>\n",
       "      <td>8145.0625</td>\n",
       "      <td>-77378.09375</td>\n",
       "      <td>735091.890625</td>\n",
       "      <td>-6.983373e+06</td>\n",
       "      <td>6.634204e+07</td>\n",
       "      <td>-6.302494e+08</td>\n",
       "      <td>5.987369e+09</td>\n",
       "      <td>-5.688001e+10</td>\n",
       "      <td>5.403601e+11</td>\n",
       "      <td>-5.133421e+12</td>\n",
       "      <td>4.876750e+13</td>\n",
       "      <td>-4.632912e+14</td>\n",
       "    </tr>\n",
       "    <tr>\n",
       "      <th>2</th>\n",
       "      <td>-9.0</td>\n",
       "      <td>44.605198</td>\n",
       "      <td>43.696480</td>\n",
       "      <td>81.00</td>\n",
       "      <td>-9.0</td>\n",
       "      <td>-729.000</td>\n",
       "      <td>6561.0000</td>\n",
       "      <td>-59049.00000</td>\n",
       "      <td>531441.000000</td>\n",
       "      <td>-4.782969e+06</td>\n",
       "      <td>4.304672e+07</td>\n",
       "      <td>-3.874205e+08</td>\n",
       "      <td>3.486784e+09</td>\n",
       "      <td>-3.138106e+10</td>\n",
       "      <td>2.824295e+11</td>\n",
       "      <td>-2.541866e+12</td>\n",
       "      <td>2.287679e+13</td>\n",
       "      <td>-2.058911e+14</td>\n",
       "    </tr>\n",
       "    <tr>\n",
       "      <th>3</th>\n",
       "      <td>-8.5</td>\n",
       "      <td>24.739247</td>\n",
       "      <td>35.767711</td>\n",
       "      <td>72.25</td>\n",
       "      <td>-8.5</td>\n",
       "      <td>-614.125</td>\n",
       "      <td>5220.0625</td>\n",
       "      <td>-44370.53125</td>\n",
       "      <td>377149.515625</td>\n",
       "      <td>-3.205771e+06</td>\n",
       "      <td>2.724905e+07</td>\n",
       "      <td>-2.316169e+08</td>\n",
       "      <td>1.968744e+09</td>\n",
       "      <td>-1.673432e+10</td>\n",
       "      <td>1.422418e+11</td>\n",
       "      <td>-1.209055e+12</td>\n",
       "      <td>1.027697e+13</td>\n",
       "      <td>-8.735422e+13</td>\n",
       "    </tr>\n",
       "    <tr>\n",
       "      <th>4</th>\n",
       "      <td>-8.0</td>\n",
       "      <td>22.200164</td>\n",
       "      <td>28.429050</td>\n",
       "      <td>64.00</td>\n",
       "      <td>-8.0</td>\n",
       "      <td>-512.000</td>\n",
       "      <td>4096.0000</td>\n",
       "      <td>-32768.00000</td>\n",
       "      <td>262144.000000</td>\n",
       "      <td>-2.097152e+06</td>\n",
       "      <td>1.677722e+07</td>\n",
       "      <td>-1.342177e+08</td>\n",
       "      <td>1.073742e+09</td>\n",
       "      <td>-8.589935e+09</td>\n",
       "      <td>6.871948e+10</td>\n",
       "      <td>-5.497558e+11</td>\n",
       "      <td>4.398047e+12</td>\n",
       "      <td>-3.518437e+13</td>\n",
       "    </tr>\n",
       "  </tbody>\n",
       "</table>\n",
       "</div>"
      ],
      "text/plain": [
       "      x          y      ypred      x2    x1        x3          x4  \\\n",
       "0 -10.0  62.503031  61.324344  100.00 -10.0 -1000.000  10000.0000   \n",
       "1  -9.5  51.410761  52.215358   90.25  -9.5  -857.375   8145.0625   \n",
       "2  -9.0  44.605198  43.696480   81.00  -9.0  -729.000   6561.0000   \n",
       "3  -8.5  24.739247  35.767711   72.25  -8.5  -614.125   5220.0625   \n",
       "4  -8.0  22.200164  28.429050   64.00  -8.0  -512.000   4096.0000   \n",
       "\n",
       "             x5              x6            x7            x8            x9  \\\n",
       "0 -100000.00000  1000000.000000 -1.000000e+07  1.000000e+08 -1.000000e+09   \n",
       "1  -77378.09375   735091.890625 -6.983373e+06  6.634204e+07 -6.302494e+08   \n",
       "2  -59049.00000   531441.000000 -4.782969e+06  4.304672e+07 -3.874205e+08   \n",
       "3  -44370.53125   377149.515625 -3.205771e+06  2.724905e+07 -2.316169e+08   \n",
       "4  -32768.00000   262144.000000 -2.097152e+06  1.677722e+07 -1.342177e+08   \n",
       "\n",
       "            x10           x11           x12           x13           x14  \\\n",
       "0  1.000000e+10 -1.000000e+11  1.000000e+12 -1.000000e+13  1.000000e+14   \n",
       "1  5.987369e+09 -5.688001e+10  5.403601e+11 -5.133421e+12  4.876750e+13   \n",
       "2  3.486784e+09 -3.138106e+10  2.824295e+11 -2.541866e+12  2.287679e+13   \n",
       "3  1.968744e+09 -1.673432e+10  1.422418e+11 -1.209055e+12  1.027697e+13   \n",
       "4  1.073742e+09 -8.589935e+09  6.871948e+10 -5.497558e+11  4.398047e+12   \n",
       "\n",
       "            x15  \n",
       "0 -1.000000e+15  \n",
       "1 -4.632912e+14  \n",
       "2 -2.058911e+14  \n",
       "3 -8.735422e+13  \n",
       "4 -3.518437e+13  "
      ]
     },
     "execution_count": 11,
     "metadata": {},
     "output_type": "execute_result"
    }
   ],
   "source": [
    "M=15\n",
    "for p in range(1,M+1): #add more powers of x up to 10'th\n",
    "    data1['x%d'%p]=data1.x**p\n",
    "data1.head()"
   ]
  },
  {
   "cell_type": "code",
   "execution_count": 12,
   "metadata": {},
   "outputs": [
    {
     "data": {
      "text/plain": [
       "'y~x+x2+x3+x4+x5+x6+x7+x8+x9+x10+x11+x12+x13+x14+x15'"
      ]
     },
     "execution_count": 12,
     "metadata": {},
     "output_type": "execute_result"
    }
   ],
   "source": [
    "#create a formulae for multi-variate regression using list comprehension\n",
    "formula='y~x+'+'+'.join(['x%d'%p for p in range(2,M+1)]); formula"
   ]
  },
  {
   "cell_type": "code",
   "execution_count": 13,
   "metadata": {},
   "outputs": [
    {
     "name": "stderr",
     "output_type": "stream",
     "text": [
      "No handles with labels found to put in legend.\n"
     ]
    },
    {
     "name": "stdout",
     "output_type": "stream",
     "text": [
      "                            OLS Regression Results                            \n",
      "==============================================================================\n",
      "Dep. Variable:                      y   R-squared:                       0.997\n",
      "Model:                            OLS   Adj. R-squared:                  0.996\n",
      "Method:                 Least Squares   F-statistic:                     700.6\n",
      "Date:                Fri, 16 Dec 2022   Prob (F-statistic):           1.23e-29\n",
      "Time:                        11:10:16   Log-Likelihood:                -90.833\n",
      "No. Observations:                  40   AIC:                             209.7\n",
      "Df Residuals:                      26   BIC:                             233.3\n",
      "Df Model:                          13                                         \n",
      "Covariance Type:            nonrobust                                         \n",
      "==============================================================================\n",
      "                 coef    std err          t      P>|t|      [0.025      0.975]\n",
      "------------------------------------------------------------------------------\n",
      "Intercept     -0.5373      1.471     -0.365      0.718      -3.561       2.487\n",
      "x              2.6222      1.466      1.788      0.085      -0.392       5.637\n",
      "x2             0.4165      0.846      0.493      0.626      -1.322       2.155\n",
      "x3            -0.2924      0.443     -0.659      0.515      -1.204       0.619\n",
      "x4            -0.0151      0.130     -0.116      0.908      -0.281       0.251\n",
      "x5             0.0341      0.047      0.731      0.471      -0.062       0.130\n",
      "x6             0.0017      0.008      0.204      0.840      -0.015       0.018\n",
      "x7            -0.0015      0.002     -0.641      0.527      -0.006       0.003\n",
      "x8         -4.496e-05      0.000     -0.176      0.861      -0.001       0.000\n",
      "x9          3.343e-05      6e-05      0.557      0.582   -8.98e-05       0.000\n",
      "x10          5.88e-07   4.15e-06      0.142      0.888   -7.94e-06    9.11e-06\n",
      "x11        -4.127e-07    8.5e-07     -0.486      0.631   -2.16e-06    1.33e-06\n",
      "x12        -3.712e-09   3.38e-08     -0.110      0.913   -7.31e-08    6.57e-08\n",
      "x13         2.618e-09    6.2e-09      0.422      0.676   -1.01e-08    1.54e-08\n",
      "x14          9.12e-12   1.08e-10      0.084      0.934   -2.14e-10    2.32e-10\n",
      "x15        -6.656e-12   1.82e-11     -0.366      0.717    -4.4e-11    3.07e-11\n",
      "==============================================================================\n",
      "Omnibus:                        1.488   Durbin-Watson:                   2.283\n",
      "Prob(Omnibus):                  0.475   Jarque-Bera (JB):                1.389\n",
      "Skew:                          -0.338   Prob(JB):                        0.499\n",
      "Kurtosis:                       2.387   Cond. No.                     6.99e+14\n",
      "==============================================================================\n",
      "\n",
      "Notes:\n",
      "[1] Standard Errors assume that the covariance matrix of the errors is correctly specified.\n",
      "[2] The condition number is large, 6.99e+14. This might indicate that there are\n",
      "strong multicollinearity or other numerical problems.\n"
     ]
    },
    {
     "data": {
      "text/plain": [
       "Text(0, 0.5, 'y')"
      ]
     },
     "execution_count": 13,
     "metadata": {},
     "output_type": "execute_result"
    },
    {
     "data": {
      "image/png": "[encoded data removed]",
      "text/plain": [
       "<Figure size 432x288 with 1 Axes>"
      ]
     },
     "metadata": {
      "needs_background": "light"
     },
     "output_type": "display_data"
    }
   ],
   "source": [
    "lm15 = smf.ols(formula=formula, data = data1).fit()\n",
    "print(lm15.summary())\n",
    "data1['ypred']=lm15.predict() #predicted regression values\n",
    "plt.plot(data1.x,data1.y,'.r') #plot the data\n",
    "plt.plot(data1.x,data1.ypred,'b') #plot the regression\n",
    "plt.legend()\n",
    "plt.xlabel('x')\n",
    "plt.ylabel('y')"
   ]
  },
  {
   "cell_type": "markdown",
   "metadata": {},
   "source": [
    "Are we happy with the model?"
   ]
  },
  {
   "cell_type": "markdown",
   "metadata": {},
   "source": [
    "# Example 2. Polynomial regression and illustration of overfitting "
   ]
  },
  {
   "cell_type": "code",
   "execution_count": 14,
   "metadata": {},
   "outputs": [
    {
     "data": {
      "text/html": [
       "<div>\n",
       "<style scoped>\n",
       "    .dataframe tbody tr th:only-of-type {\n",
       "        vertical-align: middle;\n",
       "    }\n",
       "\n",
       "    .dataframe tbody tr th {\n",
       "        vertical-align: top;\n",
       "    }\n",
       "\n",
       "    .dataframe thead th {\n",
       "        text-align: right;\n",
       "    }\n",
       "</style>\n",
       "<table border=\"1\" class=\"dataframe\">\n",
       "  <thead>\n",
       "    <tr style=\"text-align: right;\">\n",
       "      <th></th>\n",
       "      <th>y</th>\n",
       "      <th>x</th>\n",
       "    </tr>\n",
       "  </thead>\n",
       "  <tbody>\n",
       "    <tr>\n",
       "      <th>0</th>\n",
       "      <td>-8.256892</td>\n",
       "      <td>-2.000000</td>\n",
       "    </tr>\n",
       "    <tr>\n",
       "      <th>1</th>\n",
       "      <td>4.732777</td>\n",
       "      <td>-1.333333</td>\n",
       "    </tr>\n",
       "    <tr>\n",
       "      <th>2</th>\n",
       "      <td>3.997084</td>\n",
       "      <td>-0.666667</td>\n",
       "    </tr>\n",
       "    <tr>\n",
       "      <th>3</th>\n",
       "      <td>-3.518884</td>\n",
       "      <td>0.000000</td>\n",
       "    </tr>\n",
       "    <tr>\n",
       "      <th>4</th>\n",
       "      <td>-4.661727</td>\n",
       "      <td>0.666667</td>\n",
       "    </tr>\n",
       "    <tr>\n",
       "      <th>5</th>\n",
       "      <td>-1.897542</td>\n",
       "      <td>1.333333</td>\n",
       "    </tr>\n",
       "    <tr>\n",
       "      <th>6</th>\n",
       "      <td>-16.280038</td>\n",
       "      <td>2.000000</td>\n",
       "    </tr>\n",
       "    <tr>\n",
       "      <th>7</th>\n",
       "      <td>-8.879330</td>\n",
       "      <td>2.666667</td>\n",
       "    </tr>\n",
       "    <tr>\n",
       "      <th>8</th>\n",
       "      <td>2.945957</td>\n",
       "      <td>3.333333</td>\n",
       "    </tr>\n",
       "    <tr>\n",
       "      <th>9</th>\n",
       "      <td>10.399779</td>\n",
       "      <td>4.000000</td>\n",
       "    </tr>\n",
       "  </tbody>\n",
       "</table>\n",
       "</div>"
      ],
      "text/plain": [
       "           y         x\n",
       "0  -8.256892 -2.000000\n",
       "1   4.732777 -1.333333\n",
       "2   3.997084 -0.666667\n",
       "3  -3.518884  0.000000\n",
       "4  -4.661727  0.666667\n",
       "5  -1.897542  1.333333\n",
       "6 -16.280038  2.000000\n",
       "7  -8.879330  2.666667\n",
       "8   2.945957  3.333333\n",
       "9  10.399779  4.000000"
      ]
     },
     "execution_count": 14,
     "metadata": {},
     "output_type": "execute_result"
    }
   ],
   "source": [
    "#load some toy data which can help us try the polynomial regression and see overfitting in a more tangible manner\n",
    "data2 = pd.read_csv('https://raw.githubusercontent.com/CUSP2020PUI/Data/master/Poly_example.csv')\n",
    "data2"
   ]
  },
  {
   "cell_type": "code",
   "execution_count": 15,
   "metadata": {},
   "outputs": [
    {
     "data": {
      "text/plain": [
       "[<matplotlib.lines.Line2D at 0x1e9ac81c280>]"
      ]
     },
     "execution_count": 15,
     "metadata": {},
     "output_type": "execute_result"
    },
    {
     "data": {
      "image/png": "[encoded data removed]",
      "text/plain": [
       "<Figure size 432x432 with 1 Axes>"
      ]
     },
     "metadata": {
      "needs_background": "light"
     },
     "output_type": "display_data"
    }
   ],
   "source": [
    "#plot the data - does not look like a linear trend\n",
    "plt.figure(figsize = (6,6))\n",
    "plt.plot(data2.x, data2.y, 'ro', markersize = 8)"
   ]
  },
  {
   "cell_type": "code",
   "execution_count": 16,
   "metadata": {},
   "outputs": [],
   "source": [
    "#generate regressors as powers of x\n",
    "for p in range(1,10): #add more powers of x up to 9'th\n",
    "    data2['x%d'%p]=data2.x**p"
   ]
  },
  {
   "cell_type": "code",
   "execution_count": 17,
   "metadata": {},
   "outputs": [],
   "source": [
    "R2 = []; Params = []\n",
    "for M in range(1,10):\n",
    "    formula='y~x'+'+'*(M>1)+'+'.join(['x%d'%p for p in range(2,M+1)]);\n",
    "    lm = smf.ols(formula = formula, data = data2).fit()\n",
    "    R2.append(lm.rsquared)\n",
    "    Params.append(lm.params)"
   ]
  },
  {
   "cell_type": "code",
   "execution_count": 18,
   "metadata": {},
   "outputs": [
    {
     "data": {
      "text/plain": [
       "[0.016695221729687515,\n",
       " 0.20770639221492693,\n",
       " 0.7559287901766716,\n",
       " 0.7875392488576699,\n",
       " 0.787539443713878,\n",
       " 0.8886700019662256,\n",
       " 0.9024629797287981,\n",
       " 0.9638425246082089,\n",
       " 1.0]"
      ]
     },
     "execution_count": 18,
     "metadata": {},
     "output_type": "execute_result"
    }
   ],
   "source": [
    "R2"
   ]
  },
  {
   "cell_type": "code",
   "execution_count": 19,
   "metadata": {},
   "outputs": [
    {
     "data": {
      "image/png": "[encoded data removed]",
      "text/plain": [
       "<Figure size 1440x1080 with 9 Axes>"
      ]
     },
     "metadata": {
      "needs_background": "light"
     },
     "output_type": "display_data"
    }
   ],
   "source": [
    "#visualize all the fits\n",
    "plt.figure(figsize = (20,15))\n",
    "\n",
    "for M in range(1,10):\n",
    "    plt.subplot(330+M)   # Plot subfigure, M controls the location\n",
    "    x_fit = np.linspace(-2,4.3,100)  # For smoothing the fitted curve\n",
    "    y_fit = pd.DataFrame(np.matrix([x_fit**k for k in range(M+1)]).T,  # Generate our fitted curve\n",
    "                         columns = Params[M-1].index).mul(Params[M-1], 1).sum(1)  # 1 means computation runs row-wise\n",
    "    # Pay attention how we obtain the results by controlling the axes on which the operations are performed\n",
    "\n",
    "    plt.plot(data2.x1, data2.y, 'ro', markersize = 8)    # Red dots, the observations\n",
    "    plt.plot(x_fit, y_fit, 'b--', lw = 2)                # Blue dashed line, our fitted curve\n",
    "    plt.title('Degree M = %d'%(M), fontsize = 14)"
   ]
  },
  {
   "cell_type": "code",
   "execution_count": 20,
   "metadata": {},
   "outputs": [
    {
     "data": {
      "text/plain": [
       "[<matplotlib.lines.Line2D at 0x1e9acb3ad60>]"
      ]
     },
     "execution_count": 20,
     "metadata": {},
     "output_type": "execute_result"
    },
    {
     "data": {
      "image/png": "[encoded data removed]",
      "text/plain": [
       "<Figure size 432x288 with 1 Axes>"
      ]
     },
     "metadata": {
      "needs_background": "light"
     },
     "output_type": "display_data"
    }
   ],
   "source": [
    "#also based on R2 it seems like the more regressors we add the better we do\n",
    "plt.title('R2 depending on the degree')\n",
    "plt.plot(range(1,10),R2)"
   ]
  },
  {
   "cell_type": "markdown",
   "metadata": {},
   "source": [
    "But there is smth tricky with the shape of the curve..."
   ]
  },
  {
   "cell_type": "code",
   "execution_count": 21,
   "metadata": {},
   "outputs": [],
   "source": [
    "#now if we know that the data was generated using the underlying law y=f(x)+e below with some perturbations e.\n",
    "f = lambda x: x**3 - 2*x**2 - 5*x + 1\n",
    "x_test=4.3; y_test=f(4.3) #use this value to test the models"
   ]
  },
  {
   "cell_type": "code",
   "execution_count": 22,
   "metadata": {},
   "outputs": [],
   "source": [
    "#get the regression parameters and compute the training R2 for each degree M of the model\n",
    "R2 = []; Params = []\n",
    "for M in range(1,10):\n",
    "    formula='y~x'+'+'*(M>1)+'+'.join(['x%d'%p for p in range(2,M+1)]);\n",
    "    lm = smf.ols(formula = formula, data = data2).fit()\n",
    "    R2.append(lm.rsquared)\n",
    "    Params.append(lm.params)"
   ]
  },
  {
   "cell_type": "code",
   "execution_count": 23,
   "metadata": {},
   "outputs": [
    {
     "data": {
      "image/png": "[encoded data removed]",
      "text/plain": [
       "<Figure size 1440x1080 with 9 Axes>"
      ]
     },
     "metadata": {
      "needs_background": "light"
     },
     "output_type": "display_data"
    }
   ],
   "source": [
    "#visualize all the fits, and see how they behave against the underlying formula and in particlar the test observation\n",
    "plt.figure(figsize = (20,15))\n",
    "\n",
    "for M in range(1,10):\n",
    "    plt.subplot(330+M)   # Plot subfigure, M controls the location\n",
    "    x_fit = np.linspace(-2,4.3,100)  # For smoothing the fitted curve\n",
    "    y_fit = pd.DataFrame(np.matrix([x_fit**k for k in range(M+1)]).T,  # Generate our fitted curve\n",
    "                         columns = Params[M-1].index).mul(Params[M-1], 1).sum(1)  # 1 means computation runs row-wise\n",
    "    # Pay attention how we obtain the results by controlling the axes on which the operations are performed\n",
    "\n",
    "    y_future = 0\n",
    "    x_future = x_test\n",
    "    for i in range(len(Params[M-1])):\n",
    "        y_future += Params[M-1][i] * (x_future**i)\n",
    "    plt.plot(data2.x1, data2.y, 'ro', markersize = 8)    # Red dots, the observations\n",
    "    plt.plot(x_fit, f(x_fit), 'g-', lw = 2)              # Green curve, the actual function f defined before\n",
    "    plt.plot(x_fit, y_fit, 'b--', lw = 2)                # Blue dashed line, our fitted curve\n",
    "    plt.plot(x_future, y_future, 'b*', markersize = 18)        # Blue star, fitted value\n",
    "    plt.plot(x_future, y_test, 'g*', markersize = 18)     # Green star, true value\n",
    "    plt.plot([x_future,x_future], [y_future, f(x_future)], 'k--', lw = 2)\n",
    "    plt.title('Degree M = %d'%(M), fontsize = 14)"
   ]
  },
  {
   "cell_type": "markdown",
   "metadata": {},
   "source": [
    "This makes a clear case - while for $M=3$ we get a nearly perfect fit (which is not really surprising if we recall that underlying generating function was cubic) increasing $M$ further actually makes the model less capable of giving reasonable predictions for an \"out-of-training-sample\" argument $x_{test}$."
   ]
  },
  {
   "cell_type": "markdown",
   "metadata": {},
   "source": [
    "### Back to example 1"
   ]
  },
  {
   "cell_type": "markdown",
   "metadata": {},
   "source": [
    "Recall we have more data in data1_2 and data1_3. Let's see if the model is going to do any good there. This procedure is called validation. Call:   \n",
    "data1 - *training sample* (where the models are trained)  \n",
    "data1_2 - *validation sample* (where the candidate models are validated)  \n",
    "data1_3 - *test sample* (where the final model will get tested)"
   ]
  },
  {
   "cell_type": "code",
   "execution_count": 24,
   "metadata": {},
   "outputs": [],
   "source": [
    "#generate regressors in the validation sample and compute the model prediction\n",
    "M=15\n",
    "for p in range(1,M+1): #add more powers of x up to M'th\n",
    "    data1_2['x%d'%p]=data1_2.x**p\n",
    "data1_2['ypred']=lm15.predict(data1_2)"
   ]
  },
  {
   "cell_type": "code",
   "execution_count": 25,
   "metadata": {},
   "outputs": [
    {
     "name": "stderr",
     "output_type": "stream",
     "text": [
      "No handles with labels found to put in legend.\n"
     ]
    },
    {
     "data": {
      "text/plain": [
       "Text(0, 0.5, 'y')"
      ]
     },
     "execution_count": 25,
     "metadata": {},
     "output_type": "execute_result"
    },
    {
     "data": {
      "image/png": "[encoded data removed]",
      "text/plain": [
       "<Figure size 432x288 with 1 Axes>"
      ]
     },
     "metadata": {
      "needs_background": "light"
     },
     "output_type": "display_data"
    }
   ],
   "source": [
    "#visualize the fit\n",
    "plt.plot(data1_2.x,data1_2.y,'.r') #plot the data\n",
    "plt.plot(data1_2.x,data1_2.ypred,'b') #plot the regression\n",
    "plt.legend(loc='lower right')\n",
    "plt.ylim(100,1000)\n",
    "plt.xlabel('x')\n",
    "plt.ylabel('y')"
   ]
  },
  {
   "cell_type": "code",
   "execution_count": 26,
   "metadata": {},
   "outputs": [
    {
     "data": {
      "text/plain": [
       "-115302.27078593514"
      ]
     },
     "execution_count": 26,
     "metadata": {},
     "output_type": "execute_result"
    }
   ],
   "source": [
    "#compute R2 over the validation data\n",
    "ValidR2=1-((data1_2.ypred-data1_2.y)**2).sum()/((data1_2.y-data1_2.y.mean())**2).sum()\n",
    "ValidR2"
   ]
  },
  {
   "cell_type": "markdown",
   "metadata": {},
   "source": [
    "So the more regressors does not always mean the better. M (the max power of x to consider) can be seen as a parameter defining complexity of the model. \n",
    "\n",
    "Choose the optimal value for M in terms of the validation R2"
   ]
  },
  {
   "cell_type": "code",
   "execution_count": 27,
   "metadata": {},
   "outputs": [],
   "source": [
    "TrainR2=[0]*15\n",
    "ValidR2=[0]*15\n",
    "lm=[0]*15\n",
    "for M in range(1,16):\n",
    "    formula='y~x'+'+'*(M>1)+'+'.join(['x%d'%p for p in range(2,M+1)]);\n",
    "    lm[M-1] = smf.ols(formula=formula, data = data1).fit()\n",
    "    data1_2['ypred']=lm[M-1].predict(data1_2)\n",
    "    ValidR2[M-1]=1-((data1_2.ypred-data1_2.y)**2).sum()/((data1_2.y-data1_2.y.mean())**2).sum()\n",
    "    TrainR2[M-1]=lm[M-1].rsquared"
   ]
  },
  {
   "cell_type": "code",
   "execution_count": 28,
   "metadata": {},
   "outputs": [
    {
     "data": {
      "text/plain": [
       "<matplotlib.legend.Legend at 0x1e9ad028280>"
      ]
     },
     "execution_count": 28,
     "metadata": {},
     "output_type": "execute_result"
    },
    {
     "data": {
      "image/png": "[encoded data removed]",
      "text/plain": [
       "<Figure size 432x288 with 1 Axes>"
      ]
     },
     "metadata": {
      "needs_background": "light"
     },
     "output_type": "display_data"
    }
   ],
   "source": [
    "plt.plot(range(1,9),TrainR2[:8],'b-*',label='train')\n",
    "plt.plot(range(1,9),ValidR2[:8],'r-*',label='valid')\n",
    "plt.xlabel('M')\n",
    "plt.ylabel('R2')\n",
    "plt.ylim(-1,1.1)\n",
    "plt.xlim(1,9)\n",
    "plt.legend(loc='lower right')"
   ]
  },
  {
   "cell_type": "code",
   "execution_count": 29,
   "metadata": {},
   "outputs": [
    {
     "data": {
      "text/plain": [
       "5"
      ]
     },
     "execution_count": 29,
     "metadata": {},
     "output_type": "execute_result"
    }
   ],
   "source": [
    "M=np.argmax(ValidR2)+1; M"
   ]
  },
  {
   "cell_type": "code",
   "execution_count": 30,
   "metadata": {},
   "outputs": [
    {
     "data": {
      "text/html": [
       "<table class=\"simpletable\">\n",
       "<caption>OLS Regression Results</caption>\n",
       "<tr>\n",
       "  <th>Dep. Variable:</th>            <td>y</td>        <th>  R-squared:         </th> <td>   0.997</td>\n",
       "</tr>\n",
       "<tr>\n",
       "  <th>Model:</th>                   <td>OLS</td>       <th>  Adj. R-squared:    </th> <td>   0.996</td>\n",
       "</tr>\n",
       "<tr>\n",
       "  <th>Method:</th>             <td>Least Squares</td>  <th>  F-statistic:       </th> <td>   2054.</td>\n",
       "</tr>\n",
       "<tr>\n",
       "  <th>Date:</th>             <td>Fri, 16 Dec 2022</td> <th>  Prob (F-statistic):</th> <td>3.81e-41</td>\n",
       "</tr>\n",
       "<tr>\n",
       "  <th>Time:</th>                 <td>11:10:23</td>     <th>  Log-Likelihood:    </th> <td> -93.791</td>\n",
       "</tr>\n",
       "<tr>\n",
       "  <th>No. Observations:</th>      <td>    40</td>      <th>  AIC:               </th> <td>   199.6</td>\n",
       "</tr>\n",
       "<tr>\n",
       "  <th>Df Residuals:</th>          <td>    34</td>      <th>  BIC:               </th> <td>   209.7</td>\n",
       "</tr>\n",
       "<tr>\n",
       "  <th>Df Model:</th>              <td>     5</td>      <th>                     </th>     <td> </td>   \n",
       "</tr>\n",
       "<tr>\n",
       "  <th>Covariance Type:</th>      <td>nonrobust</td>    <th>                     </th>     <td> </td>   \n",
       "</tr>\n",
       "</table>\n",
       "<table class=\"simpletable\">\n",
       "<tr>\n",
       "      <td></td>         <th>coef</th>     <th>std err</th>      <th>t</th>      <th>P>|t|</th>  <th>[0.025</th>    <th>0.975]</th>  \n",
       "</tr>\n",
       "<tr>\n",
       "  <th>Intercept</th> <td>   -0.8665</td> <td>    0.815</td> <td>   -1.064</td> <td> 0.295</td> <td>   -2.522</td> <td>    0.789</td>\n",
       "</tr>\n",
       "<tr>\n",
       "  <th>x</th>         <td>    1.6565</td> <td>    0.329</td> <td>    5.039</td> <td> 0.000</td> <td>    0.988</td> <td>    2.325</td>\n",
       "</tr>\n",
       "<tr>\n",
       "  <th>x2</th>        <td>    0.3579</td> <td>    0.052</td> <td>    6.902</td> <td> 0.000</td> <td>    0.253</td> <td>    0.463</td>\n",
       "</tr>\n",
       "<tr>\n",
       "  <th>x3</th>        <td>    0.0595</td> <td>    0.013</td> <td>    4.579</td> <td> 0.000</td> <td>    0.033</td> <td>    0.086</td>\n",
       "</tr>\n",
       "<tr>\n",
       "  <th>x4</th>        <td>    0.0100</td> <td>    0.001</td> <td>   16.958</td> <td> 0.000</td> <td>    0.009</td> <td>    0.011</td>\n",
       "</tr>\n",
       "<tr>\n",
       "  <th>x5</th>        <td>-5.674e-05</td> <td>    0.000</td> <td>   -0.493</td> <td> 0.625</td> <td>   -0.000</td> <td>    0.000</td>\n",
       "</tr>\n",
       "</table>\n",
       "<table class=\"simpletable\">\n",
       "<tr>\n",
       "  <th>Omnibus:</th>       <td> 0.224</td> <th>  Durbin-Watson:     </th> <td>   2.120</td>\n",
       "</tr>\n",
       "<tr>\n",
       "  <th>Prob(Omnibus):</th> <td> 0.894</td> <th>  Jarque-Bera (JB):  </th> <td>   0.411</td>\n",
       "</tr>\n",
       "<tr>\n",
       "  <th>Skew:</th>          <td>-0.118</td> <th>  Prob(JB):          </th> <td>   0.814</td>\n",
       "</tr>\n",
       "<tr>\n",
       "  <th>Kurtosis:</th>      <td> 2.563</td> <th>  Cond. No.          </th> <td>5.75e+04</td>\n",
       "</tr>\n",
       "</table><br/><br/>Notes:<br/>[1] Standard Errors assume that the covariance matrix of the errors is correctly specified.<br/>[2] The condition number is large, 5.75e+04. This might indicate that there are<br/>strong multicollinearity or other numerical problems."
      ],
      "text/plain": [
       "<class 'statsmodels.iolib.summary.Summary'>\n",
       "\"\"\"\n",
       "                            OLS Regression Results                            \n",
       "==============================================================================\n",
       "Dep. Variable:                      y   R-squared:                       0.997\n",
       "Model:                            OLS   Adj. R-squared:                  0.996\n",
       "Method:                 Least Squares   F-statistic:                     2054.\n",
       "Date:                Fri, 16 Dec 2022   Prob (F-statistic):           3.81e-41\n",
       "Time:                        11:10:23   Log-Likelihood:                -93.791\n",
       "No. Observations:                  40   AIC:                             199.6\n",
       "Df Residuals:                      34   BIC:                             209.7\n",
       "Df Model:                           5                                         \n",
       "Covariance Type:            nonrobust                                         \n",
       "==============================================================================\n",
       "                 coef    std err          t      P>|t|      [0.025      0.975]\n",
       "------------------------------------------------------------------------------\n",
       "Intercept     -0.8665      0.815     -1.064      0.295      -2.522       0.789\n",
       "x              1.6565      0.329      5.039      0.000       0.988       2.325\n",
       "x2             0.3579      0.052      6.902      0.000       0.253       0.463\n",
       "x3             0.0595      0.013      4.579      0.000       0.033       0.086\n",
       "x4             0.0100      0.001     16.958      0.000       0.009       0.011\n",
       "x5         -5.674e-05      0.000     -0.493      0.625      -0.000       0.000\n",
       "==============================================================================\n",
       "Omnibus:                        0.224   Durbin-Watson:                   2.120\n",
       "Prob(Omnibus):                  0.894   Jarque-Bera (JB):                0.411\n",
       "Skew:                          -0.118   Prob(JB):                        0.814\n",
       "Kurtosis:                       2.563   Cond. No.                     5.75e+04\n",
       "==============================================================================\n",
       "\n",
       "Notes:\n",
       "[1] Standard Errors assume that the covariance matrix of the errors is correctly specified.\n",
       "[2] The condition number is large, 5.75e+04. This might indicate that there are\n",
       "strong multicollinearity or other numerical problems.\n",
       "\"\"\""
      ]
     },
     "execution_count": 30,
     "metadata": {},
     "output_type": "execute_result"
    }
   ],
   "source": [
    "lm[M-1].summary()"
   ]
  },
  {
   "cell_type": "code",
   "execution_count": 31,
   "metadata": {},
   "outputs": [
    {
     "data": {
      "text/plain": [
       "0.9859518733713908"
      ]
     },
     "execution_count": 31,
     "metadata": {},
     "output_type": "execute_result"
    }
   ],
   "source": [
    "#generate regressors in the validation sample and compute the model prediction\n",
    "for p in range(1,M+1): #add more powers of x up to M'th\n",
    "    data1_3['x%d'%p]=data1_3.x**p\n",
    "data1_3['ypred']=lm[M-1].predict(data1_3)\n",
    "TestR2=1-((data1_3.ypred-data1_3.y)**2).sum()/((data1_3.y-data1_3.y.mean())**2).sum()\n",
    "TestR2"
   ]
  },
  {
   "cell_type": "code",
   "execution_count": 32,
   "metadata": {},
   "outputs": [
    {
     "name": "stderr",
     "output_type": "stream",
     "text": [
      "No handles with labels found to put in legend.\n"
     ]
    },
    {
     "data": {
      "text/plain": [
       "Text(0, 0.5, 'y')"
      ]
     },
     "execution_count": 32,
     "metadata": {},
     "output_type": "execute_result"
    },
    {
     "data": {
      "image/png": "[encoded data removed]",
      "text/plain": [
       "<Figure size 432x288 with 1 Axes>"
      ]
     },
     "metadata": {
      "needs_background": "light"
     },
     "output_type": "display_data"
    }
   ],
   "source": [
    "#visualize the fit\n",
    "plt.plot(data1_3.x,data1_3.y,'.r') #plot the data\n",
    "plt.plot(data1_3.x,data1_3.ypred,'b') #plot the regression\n",
    "plt.legend(loc='lower right')\n",
    "plt.ylim(700,2000)\n",
    "plt.xlabel('x')\n",
    "plt.ylabel('y')"
   ]
  },
  {
   "cell_type": "markdown",
   "metadata": {},
   "source": [
    "## Homework"
   ]
  },
  {
   "cell_type": "code",
   "execution_count": 33,
   "metadata": {},
   "outputs": [
    {
     "data": {
      "text/html": [
       "<div>\n",
       "<style scoped>\n",
       "    .dataframe tbody tr th:only-of-type {\n",
       "        vertical-align: middle;\n",
       "    }\n",
       "\n",
       "    .dataframe tbody tr th {\n",
       "        vertical-align: top;\n",
       "    }\n",
       "\n",
       "    .dataframe thead th {\n",
       "        text-align: right;\n",
       "    }\n",
       "</style>\n",
       "<table border=\"1\" class=\"dataframe\">\n",
       "  <thead>\n",
       "    <tr style=\"text-align: right;\">\n",
       "      <th></th>\n",
       "      <th>Unnamed: 0</th>\n",
       "      <th>x</th>\n",
       "      <th>y</th>\n",
       "    </tr>\n",
       "  </thead>\n",
       "  <tbody>\n",
       "    <tr>\n",
       "      <th>0</th>\n",
       "      <td>0</td>\n",
       "      <td>-15.0</td>\n",
       "      <td>-2156.994097</td>\n",
       "    </tr>\n",
       "    <tr>\n",
       "      <th>1</th>\n",
       "      <td>1</td>\n",
       "      <td>-14.5</td>\n",
       "      <td>-1956.523904</td>\n",
       "    </tr>\n",
       "    <tr>\n",
       "      <th>2</th>\n",
       "      <td>2</td>\n",
       "      <td>-14.0</td>\n",
       "      <td>-1778.151738</td>\n",
       "    </tr>\n",
       "    <tr>\n",
       "      <th>3</th>\n",
       "      <td>3</td>\n",
       "      <td>-13.5</td>\n",
       "      <td>-1610.924846</td>\n",
       "    </tr>\n",
       "    <tr>\n",
       "      <th>4</th>\n",
       "      <td>4</td>\n",
       "      <td>-13.0</td>\n",
       "      <td>-1456.176307</td>\n",
       "    </tr>\n",
       "  </tbody>\n",
       "</table>\n",
       "</div>"
      ],
      "text/plain": [
       "   Unnamed: 0     x            y\n",
       "0           0 -15.0 -2156.994097\n",
       "1           1 -14.5 -1956.523904\n",
       "2           2 -14.0 -1778.151738\n",
       "3           3 -13.5 -1610.924846\n",
       "4           4 -13.0 -1456.176307"
      ]
     },
     "execution_count": 33,
     "metadata": {},
     "output_type": "execute_result"
    }
   ],
   "source": [
    "#upload the data\n",
    "data1 = pd.read_csv('https://raw.githubusercontent.com/CUSP2020PUI/Data/master/HW11_poly_regression.csv')\n",
    "data1.head()"
   ]
  },
  {
   "cell_type": "markdown",
   "metadata": {},
   "source": [
    "### Q1: Split this given dataset into training set (first 64 observations, validation (next 8) and test set (last 8)"
   ]
  },
  {
   "cell_type": "code",
   "execution_count": 34,
   "metadata": {},
   "outputs": [
    {
     "data": {
      "text/plain": [
       "(80, 3)"
      ]
     },
     "execution_count": 34,
     "metadata": {},
     "output_type": "execute_result"
    }
   ],
   "source": [
    "data1.shape"
   ]
  },
  {
   "cell_type": "code",
   "execution_count": 35,
   "metadata": {},
   "outputs": [
    {
     "name": "stdout",
     "output_type": "stream",
     "text": [
      "      x            y\n",
      "0 -15.0 -2156.994097\n",
      "1 -14.5 -1956.523904\n",
      "2 -14.0 -1778.151738\n",
      "3 -13.5 -1610.924846\n",
      "4 -13.0 -1456.176307\n",
      "       x            y\n",
      "64  17.0  1887.877609\n",
      "65  17.5  2081.877286\n",
      "66  18.0  2283.469520\n",
      "67  18.5  2497.509043\n",
      "68  19.0  2721.708052\n"
     ]
    }
   ],
   "source": [
    "df_train=data1.iloc[:64,:].drop(columns=[\"Unnamed: 0\"])\n",
    "df_valid=data1.iloc[64:72,:].drop(columns=[\"Unnamed: 0\"])\n",
    "print(df_train.head())\n",
    "print(df_valid.head())"
   ]
  },
  {
   "cell_type": "code",
   "execution_count": 37,
   "metadata": {},
   "outputs": [
    {
     "name": "stdout",
     "output_type": "stream",
     "text": [
      "       x            y\n",
      "72  21.0  3764.871416\n",
      "73  21.5  4064.435650\n",
      "74  22.0  4371.531453\n",
      "75  22.5  4704.656094\n",
      "76  23.0  5049.983454\n"
     ]
    }
   ],
   "source": [
    "df_test=data1.iloc[72:,:].drop(columns=[\"Unnamed: 0\"])\n",
    "print(df_test.head())"
   ]
  },
  {
   "cell_type": "markdown",
   "metadata": {},
   "source": [
    "### Q2: Visualize the training data and try to fit a linear regression model to it. Add the regression line on the plot\n",
    "Comment whether you think this data is suitable to fit a linear model."
   ]
  },
  {
   "cell_type": "code",
   "execution_count": 38,
   "metadata": {},
   "outputs": [
    {
     "data": {
      "image/png": "[encoded data removed]",
      "text/plain": [
       "<Figure size 432x288 with 1 Axes>"
      ]
     },
     "metadata": {
      "needs_background": "light"
     },
     "output_type": "display_data"
    }
   ],
   "source": [
    "df_train.plot(x='x',y='y',kind='scatter')\n",
    "plt.title(\"Training data 64 obs\")\n",
    "plt.show()"
   ]
  },
  {
   "cell_type": "code",
   "execution_count": 40,
   "metadata": {},
   "outputs": [
    {
     "name": "stdout",
     "output_type": "stream",
     "text": [
      "                            OLS Regression Results                            \n",
      "==============================================================================\n",
      "Dep. Variable:                      y   R-squared:                       0.831\n",
      "Model:                            OLS   Adj. R-squared:                  0.828\n",
      "Method:                 Least Squares   F-statistic:                     303.9\n",
      "Date:                Fri, 16 Dec 2022   Prob (F-statistic):           1.39e-25\n",
      "Time:                        11:22:30   Log-Likelihood:                -459.08\n",
      "No. Observations:                  64   AIC:                             922.2\n",
      "Df Residuals:                      62   BIC:                             926.5\n",
      "Df Model:                           1                                         \n",
      "Covariance Type:            nonrobust                                         \n",
      "==============================================================================\n",
      "                 coef    std err          t      P>|t|      [0.025      0.975]\n",
      "------------------------------------------------------------------------------\n",
      "Intercept   -134.5904     40.200     -3.348      0.001    -214.949     -54.232\n",
      "x             75.6213      4.338     17.432      0.000      66.950      84.293\n",
      "==============================================================================\n",
      "Omnibus:                        1.845   Durbin-Watson:                   0.037\n",
      "Prob(Omnibus):                  0.398   Jarque-Bera (JB):                1.837\n",
      "Skew:                          -0.365   Prob(JB):                        0.399\n",
      "Kurtosis:                       2.606   Cond. No.                         9.30\n",
      "==============================================================================\n",
      "\n",
      "Notes:\n",
      "[1] Standard Errors assume that the covariance matrix of the errors is correctly specified.\n"
     ]
    }
   ],
   "source": [
    "lm = smf.ols(formula='y~x', data = df_train).fit()\n",
    "print(lm.summary())"
   ]
  },
  {
   "cell_type": "code",
   "execution_count": 41,
   "metadata": {},
   "outputs": [
    {
     "data": {
      "text/plain": [
       "[<matplotlib.lines.Line2D at 0x1e9ad04b8b0>]"
      ]
     },
     "execution_count": 41,
     "metadata": {},
     "output_type": "execute_result"
    },
    {
     "data": {
      "image/png": "[encoded data removed]",
      "text/plain": [
       "<Figure size 432x288 with 1 Axes>"
      ]
     },
     "metadata": {
      "needs_background": "light"
     },
     "output_type": "display_data"
    }
   ],
   "source": [
    "df_train['Predict']=lm.predict() \n",
    "plt.plot(df_train.x,df_train.y,'.r') \n",
    "plt.plot(df_train.x,df_train.Predict,'b')"
   ]
  },
  {
   "cell_type": "markdown",
   "metadata": {},
   "source": [
    "### Q3: Fit the quadratic model\n",
    "Try to introduce another regressor variable (x^2) if you think that linear model underfits. Report the resilts and visualize the fit"
   ]
  },
  {
   "cell_type": "code",
   "execution_count": 43,
   "metadata": {},
   "outputs": [
    {
     "data": {
      "text/html": [
       "<div>\n",
       "<style scoped>\n",
       "    .dataframe tbody tr th:only-of-type {\n",
       "        vertical-align: middle;\n",
       "    }\n",
       "\n",
       "    .dataframe tbody tr th {\n",
       "        vertical-align: top;\n",
       "    }\n",
       "\n",
       "    .dataframe thead th {\n",
       "        text-align: right;\n",
       "    }\n",
       "</style>\n",
       "<table border=\"1\" class=\"dataframe\">\n",
       "  <thead>\n",
       "    <tr style=\"text-align: right;\">\n",
       "      <th></th>\n",
       "      <th>x</th>\n",
       "      <th>y</th>\n",
       "      <th>Predict</th>\n",
       "      <th>x2</th>\n",
       "    </tr>\n",
       "  </thead>\n",
       "  <tbody>\n",
       "    <tr>\n",
       "      <th>0</th>\n",
       "      <td>-15.0</td>\n",
       "      <td>-2156.994097</td>\n",
       "      <td>-1268.910071</td>\n",
       "      <td>225.00</td>\n",
       "    </tr>\n",
       "    <tr>\n",
       "      <th>1</th>\n",
       "      <td>-14.5</td>\n",
       "      <td>-1956.523904</td>\n",
       "      <td>-1231.099417</td>\n",
       "      <td>210.25</td>\n",
       "    </tr>\n",
       "    <tr>\n",
       "      <th>2</th>\n",
       "      <td>-14.0</td>\n",
       "      <td>-1778.151738</td>\n",
       "      <td>-1193.288763</td>\n",
       "      <td>196.00</td>\n",
       "    </tr>\n",
       "    <tr>\n",
       "      <th>3</th>\n",
       "      <td>-13.5</td>\n",
       "      <td>-1610.924846</td>\n",
       "      <td>-1155.478109</td>\n",
       "      <td>182.25</td>\n",
       "    </tr>\n",
       "    <tr>\n",
       "      <th>4</th>\n",
       "      <td>-13.0</td>\n",
       "      <td>-1456.176307</td>\n",
       "      <td>-1117.667455</td>\n",
       "      <td>169.00</td>\n",
       "    </tr>\n",
       "  </tbody>\n",
       "</table>\n",
       "</div>"
      ],
      "text/plain": [
       "      x            y      Predict      x2\n",
       "0 -15.0 -2156.994097 -1268.910071  225.00\n",
       "1 -14.5 -1956.523904 -1231.099417  210.25\n",
       "2 -14.0 -1778.151738 -1193.288763  196.00\n",
       "3 -13.5 -1610.924846 -1155.478109  182.25\n",
       "4 -13.0 -1456.176307 -1117.667455  169.00"
      ]
     },
     "execution_count": 43,
     "metadata": {},
     "output_type": "execute_result"
    }
   ],
   "source": [
    "df_train['x2']=df_train.x**2\n",
    "df_train.head()"
   ]
  },
  {
   "cell_type": "code",
   "execution_count": 44,
   "metadata": {},
   "outputs": [
    {
     "name": "stdout",
     "output_type": "stream",
     "text": [
      "                            OLS Regression Results                            \n",
      "==============================================================================\n",
      "Dep. Variable:                      y   R-squared:                       0.838\n",
      "Model:                            OLS   Adj. R-squared:                  0.833\n",
      "Method:                 Least Squares   F-statistic:                     157.9\n",
      "Date:                Fri, 16 Dec 2022   Prob (F-statistic):           7.67e-25\n",
      "Time:                        11:37:56   Log-Likelihood:                -457.62\n",
      "No. Observations:                  64   AIC:                             921.2\n",
      "Df Residuals:                      61   BIC:                             927.7\n",
      "Df Model:                           2                                         \n",
      "Covariance Type:            nonrobust                                         \n",
      "==============================================================================\n",
      "                 coef    std err          t      P>|t|      [0.025      0.975]\n",
      "------------------------------------------------------------------------------\n",
      "Intercept    -60.7448     59.115     -1.028      0.308    -178.952      57.463\n",
      "x             76.9283      4.345     17.704      0.000      68.240      85.617\n",
      "x2            -0.8713      0.518     -1.683      0.097      -1.907       0.164\n",
      "==============================================================================\n",
      "Omnibus:                        1.581   Durbin-Watson:                   0.038\n",
      "Prob(Omnibus):                  0.454   Jarque-Bera (JB):                1.164\n",
      "Skew:                          -0.000   Prob(JB):                        0.559\n",
      "Kurtosis:                       2.339   Cond. No.                         173.\n",
      "==============================================================================\n",
      "\n",
      "Notes:\n",
      "[1] Standard Errors assume that the covariance matrix of the errors is correctly specified.\n"
     ]
    }
   ],
   "source": [
    "lm_2 = smf.ols(formula='y~x+x2', data = df_train).fit()\n",
    "print(lm_2.summary())"
   ]
  },
  {
   "cell_type": "code",
   "execution_count": 46,
   "metadata": {},
   "outputs": [
    {
     "data": {
      "text/plain": [
       "[<matplotlib.lines.Line2D at 0x1e9ac8f9cd0>]"
      ]
     },
     "execution_count": 46,
     "metadata": {},
     "output_type": "execute_result"
    },
    {
     "data": {
      "image/png": "[encoded data removed]",
      "text/plain": [
       "<Figure size 432x288 with 1 Axes>"
      ]
     },
     "metadata": {
      "needs_background": "light"
     },
     "output_type": "display_data"
    }
   ],
   "source": [
    "df_train['ypred2']=lm_2.predict() \n",
    "plt.plot(df_train.x,df_train.y,'.r') \n",
    "plt.plot(df_train.x,df_train.ypred2,'b')"
   ]
  },
  {
   "cell_type": "markdown",
   "metadata": {},
   "source": [
    "### Q4: Fit the 12th degree polynomial model\n",
    "Generate regressors in the training, validation and test sample as powers of x from x ** 2 to x ** 12 (i.e max power M=12) and compute the 12 degree model prediction.Visualize the fit of the model. Assess performance over the validation set, computing the validation R2 and visualizing the fit"
   ]
  },
  {
   "cell_type": "code",
   "execution_count": 50,
   "metadata": {},
   "outputs": [],
   "source": [
    "df2_train=data1.iloc[:64,:].drop(columns=[\"Unnamed: 0\"])\n",
    "df2_valid=data1.iloc[64:72,:].drop(columns=[\"Unnamed: 0\"])\n",
    "df2_test=data1.iloc[72:,:].drop(columns=[\"Unnamed: 0\"])"
   ]
  },
  {
   "cell_type": "code",
   "execution_count": 51,
   "metadata": {},
   "outputs": [
    {
     "data": {
      "text/html": [
       "<div>\n",
       "<style scoped>\n",
       "    .dataframe tbody tr th:only-of-type {\n",
       "        vertical-align: middle;\n",
       "    }\n",
       "\n",
       "    .dataframe tbody tr th {\n",
       "        vertical-align: top;\n",
       "    }\n",
       "\n",
       "    .dataframe thead th {\n",
       "        text-align: right;\n",
       "    }\n",
       "</style>\n",
       "<table border=\"1\" class=\"dataframe\">\n",
       "  <thead>\n",
       "    <tr style=\"text-align: right;\">\n",
       "      <th></th>\n",
       "      <th>x</th>\n",
       "      <th>y</th>\n",
       "      <th>x2</th>\n",
       "      <th>x3</th>\n",
       "      <th>x4</th>\n",
       "      <th>x5</th>\n",
       "      <th>x6</th>\n",
       "      <th>x7</th>\n",
       "      <th>x8</th>\n",
       "      <th>x9</th>\n",
       "      <th>x10</th>\n",
       "      <th>x11</th>\n",
       "      <th>x12</th>\n",
       "    </tr>\n",
       "  </thead>\n",
       "  <tbody>\n",
       "    <tr>\n",
       "      <th>0</th>\n",
       "      <td>-15.0</td>\n",
       "      <td>-2156.994097</td>\n",
       "      <td>225.00</td>\n",
       "      <td>-3375.000</td>\n",
       "      <td>50625.0000</td>\n",
       "      <td>-759375.00000</td>\n",
       "      <td>1.139062e+07</td>\n",
       "      <td>-1.708594e+08</td>\n",
       "      <td>2.562891e+09</td>\n",
       "      <td>-3.844336e+10</td>\n",
       "      <td>5.766504e+11</td>\n",
       "      <td>-8.649756e+12</td>\n",
       "      <td>1.297463e+14</td>\n",
       "    </tr>\n",
       "    <tr>\n",
       "      <th>1</th>\n",
       "      <td>-14.5</td>\n",
       "      <td>-1956.523904</td>\n",
       "      <td>210.25</td>\n",
       "      <td>-3048.625</td>\n",
       "      <td>44205.0625</td>\n",
       "      <td>-640973.40625</td>\n",
       "      <td>9.294114e+06</td>\n",
       "      <td>-1.347647e+08</td>\n",
       "      <td>1.954088e+09</td>\n",
       "      <td>-2.833427e+10</td>\n",
       "      <td>4.108469e+11</td>\n",
       "      <td>-5.957280e+12</td>\n",
       "      <td>8.638056e+13</td>\n",
       "    </tr>\n",
       "    <tr>\n",
       "      <th>2</th>\n",
       "      <td>-14.0</td>\n",
       "      <td>-1778.151738</td>\n",
       "      <td>196.00</td>\n",
       "      <td>-2744.000</td>\n",
       "      <td>38416.0000</td>\n",
       "      <td>-537824.00000</td>\n",
       "      <td>7.529536e+06</td>\n",
       "      <td>-1.054135e+08</td>\n",
       "      <td>1.475789e+09</td>\n",
       "      <td>-2.066105e+10</td>\n",
       "      <td>2.892547e+11</td>\n",
       "      <td>-4.049565e+12</td>\n",
       "      <td>5.669391e+13</td>\n",
       "    </tr>\n",
       "    <tr>\n",
       "      <th>3</th>\n",
       "      <td>-13.5</td>\n",
       "      <td>-1610.924846</td>\n",
       "      <td>182.25</td>\n",
       "      <td>-2460.375</td>\n",
       "      <td>33215.0625</td>\n",
       "      <td>-448403.34375</td>\n",
       "      <td>6.053445e+06</td>\n",
       "      <td>-8.172151e+07</td>\n",
       "      <td>1.103240e+09</td>\n",
       "      <td>-1.489375e+10</td>\n",
       "      <td>2.010656e+11</td>\n",
       "      <td>-2.714385e+12</td>\n",
       "      <td>3.664420e+13</td>\n",
       "    </tr>\n",
       "    <tr>\n",
       "      <th>4</th>\n",
       "      <td>-13.0</td>\n",
       "      <td>-1456.176307</td>\n",
       "      <td>169.00</td>\n",
       "      <td>-2197.000</td>\n",
       "      <td>28561.0000</td>\n",
       "      <td>-371293.00000</td>\n",
       "      <td>4.826809e+06</td>\n",
       "      <td>-6.274852e+07</td>\n",
       "      <td>8.157307e+08</td>\n",
       "      <td>-1.060450e+10</td>\n",
       "      <td>1.378585e+11</td>\n",
       "      <td>-1.792160e+12</td>\n",
       "      <td>2.329809e+13</td>\n",
       "    </tr>\n",
       "  </tbody>\n",
       "</table>\n",
       "</div>"
      ],
      "text/plain": [
       "      x            y      x2        x3          x4            x5  \\\n",
       "0 -15.0 -2156.994097  225.00 -3375.000  50625.0000 -759375.00000   \n",
       "1 -14.5 -1956.523904  210.25 -3048.625  44205.0625 -640973.40625   \n",
       "2 -14.0 -1778.151738  196.00 -2744.000  38416.0000 -537824.00000   \n",
       "3 -13.5 -1610.924846  182.25 -2460.375  33215.0625 -448403.34375   \n",
       "4 -13.0 -1456.176307  169.00 -2197.000  28561.0000 -371293.00000   \n",
       "\n",
       "             x6            x7            x8            x9           x10  \\\n",
       "0  1.139062e+07 -1.708594e+08  2.562891e+09 -3.844336e+10  5.766504e+11   \n",
       "1  9.294114e+06 -1.347647e+08  1.954088e+09 -2.833427e+10  4.108469e+11   \n",
       "2  7.529536e+06 -1.054135e+08  1.475789e+09 -2.066105e+10  2.892547e+11   \n",
       "3  6.053445e+06 -8.172151e+07  1.103240e+09 -1.489375e+10  2.010656e+11   \n",
       "4  4.826809e+06 -6.274852e+07  8.157307e+08 -1.060450e+10  1.378585e+11   \n",
       "\n",
       "            x11           x12  \n",
       "0 -8.649756e+12  1.297463e+14  \n",
       "1 -5.957280e+12  8.638056e+13  \n",
       "2 -4.049565e+12  5.669391e+13  \n",
       "3 -2.714385e+12  3.664420e+13  \n",
       "4 -1.792160e+12  2.329809e+13  "
      ]
     },
     "execution_count": 51,
     "metadata": {},
     "output_type": "execute_result"
    }
   ],
   "source": [
    "for i in range(2,13):\n",
    "    for m in [df2_train,df2_valid,df2_test]:\n",
    "        column=\"x\"+str(i)\n",
    "        m[column]=m[\"x\"]**i\n",
    "        \n",
    "df2_train.head()"
   ]
  },
  {
   "cell_type": "code",
   "execution_count": 52,
   "metadata": {},
   "outputs": [
    {
     "name": "stdout",
     "output_type": "stream",
     "text": [
      "                            OLS Regression Results                            \n",
      "==============================================================================\n",
      "Dep. Variable:                      y   R-squared:                       1.000\n",
      "Model:                            OLS   Adj. R-squared:                  1.000\n",
      "Method:                 Least Squares   F-statistic:                 4.169e+05\n",
      "Date:                Fri, 16 Dec 2022   Prob (F-statistic):          8.05e-123\n",
      "Time:                        11:48:01   Log-Likelihood:                -148.09\n",
      "No. Observations:                  64   AIC:                             322.2\n",
      "Df Residuals:                      51   BIC:                             350.2\n",
      "Df Model:                          12                                         \n",
      "Covariance Type:            nonrobust                                         \n",
      "==============================================================================\n",
      "                 coef    std err          t      P>|t|      [0.025      0.975]\n",
      "------------------------------------------------------------------------------\n",
      "Intercept     -3.5728      0.997     -3.585      0.001      -5.574      -1.572\n",
      "x              1.5748      0.459      3.431      0.001       0.653       2.496\n",
      "x2            -1.9713      0.153    -12.913      0.000      -2.278      -1.665\n",
      "x3             0.5104      0.032     16.110      0.000       0.447       0.574\n",
      "x4            -0.0017      0.006     -0.268      0.790      -0.014       0.011\n",
      "x5            -0.0008      0.001     -1.117      0.269      -0.002       0.001\n",
      "x6          4.613e-05      0.000      0.448      0.656      -0.000       0.000\n",
      "x7          1.114e-05   7.22e-06      1.542      0.129   -3.36e-06    2.56e-05\n",
      "x8         -5.354e-07   8.09e-07     -0.662      0.511   -2.16e-06    1.09e-06\n",
      "x9         -5.705e-08    3.2e-08     -1.783      0.080   -1.21e-07    7.17e-09\n",
      "x10          2.67e-09   3.03e-09      0.882      0.382   -3.41e-09    8.75e-09\n",
      "x11             1e-10    5.2e-11      1.921      0.060   -4.48e-12    2.04e-10\n",
      "x12        -4.742e-12   4.35e-12     -1.089      0.281   -1.35e-11       4e-12\n",
      "==============================================================================\n",
      "Omnibus:                        0.666   Durbin-Watson:                   2.328\n",
      "Prob(Omnibus):                  0.717   Jarque-Bera (JB):                0.743\n",
      "Skew:                           0.224   Prob(JB):                        0.690\n",
      "Kurtosis:                       2.723   Cond. No.                     2.14e+14\n",
      "==============================================================================\n",
      "\n",
      "Notes:\n",
      "[1] Standard Errors assume that the covariance matrix of the errors is correctly specified.\n",
      "[2] The condition number is large, 2.14e+14. This might indicate that there are\n",
      "strong multicollinearity or other numerical problems.\n"
     ]
    }
   ],
   "source": [
    "lm3 = smf.ols(formula='y~x+x2+x3+x4+x5+x6+x7+x8+x9+x10+x11+x12', data = df2_train).fit()\n",
    "print(lm3.summary())"
   ]
  },
  {
   "cell_type": "code",
   "execution_count": 53,
   "metadata": {},
   "outputs": [
    {
     "data": {
      "text/html": [
       "<div>\n",
       "<style scoped>\n",
       "    .dataframe tbody tr th:only-of-type {\n",
       "        vertical-align: middle;\n",
       "    }\n",
       "\n",
       "    .dataframe tbody tr th {\n",
       "        vertical-align: top;\n",
       "    }\n",
       "\n",
       "    .dataframe thead th {\n",
       "        text-align: right;\n",
       "    }\n",
       "</style>\n",
       "<table border=\"1\" class=\"dataframe\">\n",
       "  <thead>\n",
       "    <tr style=\"text-align: right;\">\n",
       "      <th></th>\n",
       "      <th>x</th>\n",
       "      <th>y</th>\n",
       "      <th>x2</th>\n",
       "      <th>x3</th>\n",
       "      <th>x4</th>\n",
       "      <th>x5</th>\n",
       "      <th>x6</th>\n",
       "      <th>x7</th>\n",
       "      <th>x8</th>\n",
       "      <th>x9</th>\n",
       "      <th>x10</th>\n",
       "      <th>x11</th>\n",
       "      <th>x12</th>\n",
       "    </tr>\n",
       "  </thead>\n",
       "  <tbody>\n",
       "    <tr>\n",
       "      <th>64</th>\n",
       "      <td>17.0</td>\n",
       "      <td>1887.877609</td>\n",
       "      <td>289.00</td>\n",
       "      <td>4913.000</td>\n",
       "      <td>83521.0000</td>\n",
       "      <td>1.419857e+06</td>\n",
       "      <td>2.413757e+07</td>\n",
       "      <td>4.103387e+08</td>\n",
       "      <td>6.975757e+09</td>\n",
       "      <td>1.185879e+11</td>\n",
       "      <td>2.015994e+12</td>\n",
       "      <td>3.427190e+13</td>\n",
       "      <td>5.826222e+14</td>\n",
       "    </tr>\n",
       "    <tr>\n",
       "      <th>65</th>\n",
       "      <td>17.5</td>\n",
       "      <td>2081.877286</td>\n",
       "      <td>306.25</td>\n",
       "      <td>5359.375</td>\n",
       "      <td>93789.0625</td>\n",
       "      <td>1.641309e+06</td>\n",
       "      <td>2.872290e+07</td>\n",
       "      <td>5.026508e+08</td>\n",
       "      <td>8.796388e+09</td>\n",
       "      <td>1.539368e+11</td>\n",
       "      <td>2.693894e+12</td>\n",
       "      <td>4.714314e+13</td>\n",
       "      <td>8.250050e+14</td>\n",
       "    </tr>\n",
       "    <tr>\n",
       "      <th>66</th>\n",
       "      <td>18.0</td>\n",
       "      <td>2283.469520</td>\n",
       "      <td>324.00</td>\n",
       "      <td>5832.000</td>\n",
       "      <td>104976.0000</td>\n",
       "      <td>1.889568e+06</td>\n",
       "      <td>3.401222e+07</td>\n",
       "      <td>6.122200e+08</td>\n",
       "      <td>1.101996e+10</td>\n",
       "      <td>1.983593e+11</td>\n",
       "      <td>3.570467e+12</td>\n",
       "      <td>6.426841e+13</td>\n",
       "      <td>1.156831e+15</td>\n",
       "    </tr>\n",
       "    <tr>\n",
       "      <th>67</th>\n",
       "      <td>18.5</td>\n",
       "      <td>2497.509043</td>\n",
       "      <td>342.25</td>\n",
       "      <td>6331.625</td>\n",
       "      <td>117135.0625</td>\n",
       "      <td>2.166999e+06</td>\n",
       "      <td>4.008948e+07</td>\n",
       "      <td>7.416553e+08</td>\n",
       "      <td>1.372062e+10</td>\n",
       "      <td>2.538315e+11</td>\n",
       "      <td>4.695883e+12</td>\n",
       "      <td>8.687384e+13</td>\n",
       "      <td>1.607166e+15</td>\n",
       "    </tr>\n",
       "    <tr>\n",
       "      <th>68</th>\n",
       "      <td>19.0</td>\n",
       "      <td>2721.708052</td>\n",
       "      <td>361.00</td>\n",
       "      <td>6859.000</td>\n",
       "      <td>130321.0000</td>\n",
       "      <td>2.476099e+06</td>\n",
       "      <td>4.704588e+07</td>\n",
       "      <td>8.938717e+08</td>\n",
       "      <td>1.698356e+10</td>\n",
       "      <td>3.226877e+11</td>\n",
       "      <td>6.131066e+12</td>\n",
       "      <td>1.164903e+14</td>\n",
       "      <td>2.213315e+15</td>\n",
       "    </tr>\n",
       "  </tbody>\n",
       "</table>\n",
       "</div>"
      ],
      "text/plain": [
       "       x            y      x2        x3           x4            x5  \\\n",
       "64  17.0  1887.877609  289.00  4913.000   83521.0000  1.419857e+06   \n",
       "65  17.5  2081.877286  306.25  5359.375   93789.0625  1.641309e+06   \n",
       "66  18.0  2283.469520  324.00  5832.000  104976.0000  1.889568e+06   \n",
       "67  18.5  2497.509043  342.25  6331.625  117135.0625  2.166999e+06   \n",
       "68  19.0  2721.708052  361.00  6859.000  130321.0000  2.476099e+06   \n",
       "\n",
       "              x6            x7            x8            x9           x10  \\\n",
       "64  2.413757e+07  4.103387e+08  6.975757e+09  1.185879e+11  2.015994e+12   \n",
       "65  2.872290e+07  5.026508e+08  8.796388e+09  1.539368e+11  2.693894e+12   \n",
       "66  3.401222e+07  6.122200e+08  1.101996e+10  1.983593e+11  3.570467e+12   \n",
       "67  4.008948e+07  7.416553e+08  1.372062e+10  2.538315e+11  4.695883e+12   \n",
       "68  4.704588e+07  8.938717e+08  1.698356e+10  3.226877e+11  6.131066e+12   \n",
       "\n",
       "             x11           x12  \n",
       "64  3.427190e+13  5.826222e+14  \n",
       "65  4.714314e+13  8.250050e+14  \n",
       "66  6.426841e+13  1.156831e+15  \n",
       "67  8.687384e+13  1.607166e+15  \n",
       "68  1.164903e+14  2.213315e+15  "
      ]
     },
     "execution_count": 53,
     "metadata": {},
     "output_type": "execute_result"
    }
   ],
   "source": [
    "df2_valid.head()"
   ]
  },
  {
   "cell_type": "code",
   "execution_count": 54,
   "metadata": {},
   "outputs": [],
   "source": [
    "vali_col=list(df2_valid.columns)\n",
    "vali_col.remove('y')\n",
    "df2_valid['Predict']=lm3.predict(df2_valid) "
   ]
  },
  {
   "cell_type": "code",
   "execution_count": 56,
   "metadata": {},
   "outputs": [
    {
     "data": {
      "text/plain": [
       "[<matplotlib.lines.Line2D at 0x1e9ac9fe1f0>]"
      ]
     },
     "execution_count": 56,
     "metadata": {},
     "output_type": "execute_result"
    },
    {
     "data": {
      "image/png": "[encoded data removed]",
      "text/plain": [
       "<Figure size 432x288 with 1 Axes>"
      ]
     },
     "metadata": {
      "needs_background": "light"
     },
     "output_type": "display_data"
    }
   ],
   "source": [
    "plt.plot(df2_valid.x,df2_valid.y,'.r') \n",
    "plt.plot(df2_valid.x,df2_valid.Predict,'b')"
   ]
  },
  {
   "cell_type": "code",
   "execution_count": 57,
   "metadata": {},
   "outputs": [
    {
     "data": {
      "text/plain": [
       "0.9811267369259099"
      ]
     },
     "execution_count": 57,
     "metadata": {},
     "output_type": "execute_result"
    }
   ],
   "source": [
    "R_2=1-((df2_valid.Predict-df2_valid.y)**2).sum()/((df2_valid.y-df2_valid.y.mean())**2).sum()\n",
    "R_2"
   ]
  },
  {
   "cell_type": "markdown",
   "metadata": {},
   "source": [
    "### Q5 : Perform model degree selection. \n",
    "Train the polinomial model over training sample and compute R2 over the validation data for each power m=1,2,...12. Visualize the training and validation R2 as the function of m. What is the optimal value of $1\\leq m\\leq M$ in terms of the validation R2?"
   ]
  },
  {
   "cell_type": "code",
   "execution_count": 58,
   "metadata": {},
   "outputs": [],
   "source": [
    "from sklearn.metrics import r2_score"
   ]
  },
  {
   "cell_type": "code",
   "execution_count": 60,
   "metadata": {},
   "outputs": [],
   "source": [
    "df3_train=data1.iloc[:64,:].drop(columns=[\"Unnamed: 0\"])\n",
    "df3_valid=data1.iloc[64:72,:].drop(columns=[\"Unnamed: 0\"])\n",
    "df3_test=data1.iloc[72:,:].drop(columns=[\"Unnamed: 0\"])"
   ]
  },
  {
   "cell_type": "code",
   "execution_count": 61,
   "metadata": {},
   "outputs": [],
   "source": [
    "M=12\n",
    "for n in range(1,M+1): \n",
    "    df3_train['x%d'%n]=df3_train.x**n\n",
    "    df3_valid['x%d'%n]=df3_valid.x**n\n",
    "    df3_test['x%d'%n]=df3_test.x**n"
   ]
  },
  {
   "cell_type": "code",
   "execution_count": 63,
   "metadata": {},
   "outputs": [],
   "source": [
    "Train_R2=[0]*12\n",
    "Valid_R2=[0]*12\n",
    "lm4=[0]*12\n",
    "for M in range(1,13):\n",
    "    formula='y~x'+'+'*(M>1)+'+'.join(['x%d'%p for p in range(2,M+1)]);\n",
    "    lm4[M-1] = smf.ols(formula=formula, data = df3_train).fit()\n",
    "    df3_valid['Prediction']=lm4[M-1].predict(df3_valid)\n",
    "    Valid_R2[M-1]=1-((df3_valid.Prediction-df3_valid.y)**2).sum()/((df3_valid.y-df3_valid.y.mean())**2).sum()\n",
    "    Train_R2[M-1]=lm4[M-1].rsquared"
   ]
  },
  {
   "cell_type": "code",
   "execution_count": 64,
   "metadata": {},
   "outputs": [
    {
     "data": {
      "text/plain": [
       "<matplotlib.legend.Legend at 0x1e9ac83e0d0>"
      ]
     },
     "execution_count": 64,
     "metadata": {},
     "output_type": "execute_result"
    },
    {
     "data": {
      "image/png": "[encoded data removed]",
      "text/plain": [
       "<Figure size 432x288 with 1 Axes>"
      ]
     },
     "metadata": {
      "needs_background": "light"
     },
     "output_type": "display_data"
    }
   ],
   "source": [
    "plt.plot(range(1,13),Train_R2[:13],'b-*',label='train')\n",
    "plt.plot(range(1,13),Valid_R2[:13],'r-*',label='valid')\n",
    "plt.xlabel('M')\n",
    "plt.ylabel('R2')\n",
    "plt.ylim(-1,1.1)\n",
    "plt.xlim(1,9)\n",
    "plt.legend(loc='lower right')"
   ]
  },
  {
   "cell_type": "markdown",
   "metadata": {},
   "source": [
    "### Q6: Assess the final model performance over the test set \n",
    "Visualize the fit of the model (with the optimal m you found above) over the test set, assess the test R2"
   ]
  },
  {
   "cell_type": "code",
   "execution_count": 65,
   "metadata": {},
   "outputs": [
    {
     "data": {
      "text/plain": [
       "4"
      ]
     },
     "execution_count": 65,
     "metadata": {},
     "output_type": "execute_result"
    }
   ],
   "source": [
    "M=np.argmax(Valid_R2)+1; M"
   ]
  },
  {
   "cell_type": "code",
   "execution_count": 66,
   "metadata": {},
   "outputs": [
    {
     "data": {
      "text/html": [
       "<table class=\"simpletable\">\n",
       "<caption>OLS Regression Results</caption>\n",
       "<tr>\n",
       "  <th>Dep. Variable:</th>            <td>y</td>        <th>  R-squared:         </th> <td>   1.000</td> \n",
       "</tr>\n",
       "<tr>\n",
       "  <th>Model:</th>                   <td>OLS</td>       <th>  Adj. R-squared:    </th> <td>   1.000</td> \n",
       "</tr>\n",
       "<tr>\n",
       "  <th>Method:</th>             <td>Least Squares</td>  <th>  F-statistic:       </th> <td>1.157e+06</td>\n",
       "</tr>\n",
       "<tr>\n",
       "  <th>Date:</th>             <td>Fri, 16 Dec 2022</td> <th>  Prob (F-statistic):</th> <td>1.26e-143</td>\n",
       "</tr>\n",
       "<tr>\n",
       "  <th>Time:</th>                 <td>12:45:38</td>     <th>  Log-Likelihood:    </th> <td> -155.25</td> \n",
       "</tr>\n",
       "<tr>\n",
       "  <th>No. Observations:</th>      <td>    64</td>      <th>  AIC:               </th> <td>   320.5</td> \n",
       "</tr>\n",
       "<tr>\n",
       "  <th>Df Residuals:</th>          <td>    59</td>      <th>  BIC:               </th> <td>   331.3</td> \n",
       "</tr>\n",
       "<tr>\n",
       "  <th>Df Model:</th>              <td>     4</td>      <th>                     </th>     <td> </td>    \n",
       "</tr>\n",
       "<tr>\n",
       "  <th>Covariance Type:</th>      <td>nonrobust</td>    <th>                     </th>     <td> </td>    \n",
       "</tr>\n",
       "</table>\n",
       "<table class=\"simpletable\">\n",
       "<tr>\n",
       "      <td></td>         <th>coef</th>     <th>std err</th>      <th>t</th>      <th>P>|t|</th>  <th>[0.025</th>    <th>0.975]</th>  \n",
       "</tr>\n",
       "<tr>\n",
       "  <th>Intercept</th> <td>   -3.4226</td> <td>    0.666</td> <td>   -5.142</td> <td> 0.000</td> <td>   -4.755</td> <td>   -2.091</td>\n",
       "</tr>\n",
       "<tr>\n",
       "  <th>x</th>         <td>    1.1928</td> <td>    0.099</td> <td>   12.083</td> <td> 0.000</td> <td>    0.995</td> <td>    1.390</td>\n",
       "</tr>\n",
       "<tr>\n",
       "  <th>x2</th>        <td>   -1.9976</td> <td>    0.016</td> <td> -123.299</td> <td> 0.000</td> <td>   -2.030</td> <td>   -1.965</td>\n",
       "</tr>\n",
       "<tr>\n",
       "  <th>x3</th>        <td>    0.4988</td> <td>    0.001</td> <td>  810.882</td> <td> 0.000</td> <td>    0.498</td> <td>    0.500</td>\n",
       "</tr>\n",
       "<tr>\n",
       "  <th>x4</th>        <td>  1.74e-05</td> <td> 7.16e-05</td> <td>    0.243</td> <td> 0.809</td> <td>   -0.000</td> <td>    0.000</td>\n",
       "</tr>\n",
       "</table>\n",
       "<table class=\"simpletable\">\n",
       "<tr>\n",
       "  <th>Omnibus:</th>       <td> 0.468</td> <th>  Durbin-Watson:     </th> <td>   2.012</td>\n",
       "</tr>\n",
       "<tr>\n",
       "  <th>Prob(Omnibus):</th> <td> 0.791</td> <th>  Jarque-Bera (JB):  </th> <td>   0.625</td>\n",
       "</tr>\n",
       "<tr>\n",
       "  <th>Skew:</th>          <td> 0.140</td> <th>  Prob(JB):          </th> <td>   0.732</td>\n",
       "</tr>\n",
       "<tr>\n",
       "  <th>Kurtosis:</th>      <td> 2.605</td> <th>  Cond. No.          </th> <td>4.24e+04</td>\n",
       "</tr>\n",
       "</table><br/><br/>Notes:<br/>[1] Standard Errors assume that the covariance matrix of the errors is correctly specified.<br/>[2] The condition number is large, 4.24e+04. This might indicate that there are<br/>strong multicollinearity or other numerical problems."
      ],
      "text/plain": [
       "<class 'statsmodels.iolib.summary.Summary'>\n",
       "\"\"\"\n",
       "                            OLS Regression Results                            \n",
       "==============================================================================\n",
       "Dep. Variable:                      y   R-squared:                       1.000\n",
       "Model:                            OLS   Adj. R-squared:                  1.000\n",
       "Method:                 Least Squares   F-statistic:                 1.157e+06\n",
       "Date:                Fri, 16 Dec 2022   Prob (F-statistic):          1.26e-143\n",
       "Time:                        12:45:38   Log-Likelihood:                -155.25\n",
       "No. Observations:                  64   AIC:                             320.5\n",
       "Df Residuals:                      59   BIC:                             331.3\n",
       "Df Model:                           4                                         \n",
       "Covariance Type:            nonrobust                                         \n",
       "==============================================================================\n",
       "                 coef    std err          t      P>|t|      [0.025      0.975]\n",
       "------------------------------------------------------------------------------\n",
       "Intercept     -3.4226      0.666     -5.142      0.000      -4.755      -2.091\n",
       "x              1.1928      0.099     12.083      0.000       0.995       1.390\n",
       "x2            -1.9976      0.016   -123.299      0.000      -2.030      -1.965\n",
       "x3             0.4988      0.001    810.882      0.000       0.498       0.500\n",
       "x4           1.74e-05   7.16e-05      0.243      0.809      -0.000       0.000\n",
       "==============================================================================\n",
       "Omnibus:                        0.468   Durbin-Watson:                   2.012\n",
       "Prob(Omnibus):                  0.791   Jarque-Bera (JB):                0.625\n",
       "Skew:                           0.140   Prob(JB):                        0.732\n",
       "Kurtosis:                       2.605   Cond. No.                     4.24e+04\n",
       "==============================================================================\n",
       "\n",
       "Notes:\n",
       "[1] Standard Errors assume that the covariance matrix of the errors is correctly specified.\n",
       "[2] The condition number is large, 4.24e+04. This might indicate that there are\n",
       "strong multicollinearity or other numerical problems.\n",
       "\"\"\""
      ]
     },
     "execution_count": 66,
     "metadata": {},
     "output_type": "execute_result"
    }
   ],
   "source": [
    "lm4[M-1].summary()"
   ]
  },
  {
   "cell_type": "code",
   "execution_count": 67,
   "metadata": {},
   "outputs": [
    {
     "data": {
      "text/plain": [
       "0.999953937547655"
      ]
     },
     "execution_count": 67,
     "metadata": {},
     "output_type": "execute_result"
    }
   ],
   "source": [
    "df3_test['Prediction']=lm4[M-1].predict(df3_test)\n",
    "Test_R2=1-((df3_test.Prediction-df3_test.y)**2).sum()/((df3_test.y-df3_test.y.mean())**2).sum()\n",
    "Test_R2"
   ]
  },
  {
   "cell_type": "code",
   "execution_count": 68,
   "metadata": {},
   "outputs": [
    {
     "data": {
      "text/plain": [
       "Text(0, 0.5, 'y')"
      ]
     },
     "execution_count": 68,
     "metadata": {},
     "output_type": "execute_result"
    },
    {
     "data": {
      "image/png": "[encoded data removed]",
      "text/plain": [
       "<Figure size 432x288 with 1 Axes>"
      ]
     },
     "metadata": {
      "needs_background": "light"
     },
     "output_type": "display_data"
    }
   ],
   "source": [
    "plt.plot(df3_test.x,df3_test.y,'.r') \n",
    "plt.plot(df3_test.x,df3_test.Prediction,'b') \n",
    "plt.xlabel('x')\n",
    "plt.ylabel('y')"
   ]
  },
  {
   "cell_type": "code",
   "execution_count": null,
   "metadata": {},
   "outputs": [],
   "source": []
  }
 ],
 "metadata": {
  "anaconda-cloud": {},
  "kernelspec": {
   "display_name": "Python 3",
   "language": "python",
   "name": "python3"
  },
  "language_info": {
   "codemirror_mode": {
    "name": "ipython",
    "version": 3
   },
   "file_extension": ".py",
   "mimetype": "text/x-python",
   "name": "python",
   "nbconvert_exporter": "python",
   "pygments_lexer": "ipython3",
   "version": "3.8.8"
  }
 },
 "nbformat": 4,
 "nbformat_minor": 4
}
