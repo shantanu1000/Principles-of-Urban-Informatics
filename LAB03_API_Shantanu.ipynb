{
 "cells": [
  {
   "cell_type": "markdown",
   "metadata": {},
   "source": [
    "## API lab\n",
    "\n",
    "### Introduction:\n",
    "\n",
    "While many data sets are provided though downloadable files, some are provided through application programming interface (API) which allows the code to access some data without downloading the entire dataset.\n",
    "\n",
    "APIs provide sets of functions and procedures that allow accessing the features or data from an application or other service.\n",
    "\n",
    "\n",
    "#### REST API\n",
    "REST is essentially a set of useful conventions for structuring a web API. 'Web API' means an API that you interact with over HTTP, making requests to specific URLs, and often getting relevant data back in the response.\n",
    "\n",
    "### Uses\n",
    "- Scraping real time information - useful for example for accessing travel route info from mapping applications, social media feed. And any other data that being updated in real time or is changing quickly. Another example of this is stock price data. It doesn’t really make sense to regenerate a data set and download it every minute \n",
    "- Getting only the desired tables through filtering instead of downloading the entire data sets. Reddit comments are one example. It doesn’t make much sense (plus won't be permitted) to download the entire Reddit database if we want only some information\n",
    "\n",
    "### General Terminology\n",
    "\n",
    "#### Types of requests\n",
    "characterize what action we are going to take by referring to the API\n",
    "\n",
    "- GET: retrieve information (like search results). This is the most common type of request. Using it, we can get the data we are interested in from those that the API is ready to share.\n",
    "- POST: adds new data to the server. Using this type of request, you can, for example, add a new item to your inventory.\n",
    "- PUT: changes existing information. For example, using this type of request, it would be possible to change the color or value of an existing product.\n",
    "- DELETE: deletes existing information\n",
    "\n",
    "#### Status codes\n",
    "briefly describe the result of the call.\n",
    "\n",
    "- 200 – OK. The request was successful. The answer itself depends on the method used (GET, POST, etc.) and the API specification.\n",
    "- 204 – No Content. The server successfully processed the request and did not return any content.\n",
    "- 301 – Moved Permanently. The server responds that the requested page (endpoint) has been moved to another address and redirects to this address.\n",
    "- 400 – Bad Request. The server cannot process the request because the client-side errors (incorrect request format).\n",
    "- 401 – Unauthorized. Occurs when authentication was failed, due to incorrect credentials or even their absence.\n",
    "- 403 – Forbidden. Access to the specified resource is denied.\n",
    "- 404 – Not Found. The requested resource was not found on the server.\n",
    "- 500 – Internal Server Error. Occurs when an unknown error has occurred on the server.\n",
    "\n",
    "#### Endpoints\n",
    "Usually, an Endpoint is a specific address (for example, https://weather-in-london.com/forecast), by referring to which you get access to certain features/data (in this example above – the weather forecast for London). Commonly, the name (address) of the endpoint corresponds to the functionality it provides."
   ]
  },
  {
   "cell_type": "markdown",
   "metadata": {},
   "source": [
    "### HereMap API\n",
    "Provides mapping, location data and routing information services worldwide. Routing info is available for transit, walking, driving, bike modes.\n"
   ]
  },
  {
   "cell_type": "code",
   "execution_count": 2,
   "metadata": {},
   "outputs": [],
   "source": [
    "import pandas as pd\n",
    "import glob #Unix style pathname pattern expansion\n",
    "import numpy as np\n",
    "from dateutil import parser #powerful extensions to datetime; offers a generic date/time string parser\n",
    "import time\n",
    "from tqdm import tqdm #Customisable progressbar for iterators\n",
    "try: #spelling depends on enviroment version \n",
    "    import urllib2 as urllib #URL handling module\n",
    "except ImportError:\n",
    "    import urllib.request as urllib\n",
    "import json\n",
    "import geopandas as gpd\n",
    "import sys\n",
    "from IPython.display import clear_output #Clears the output of the current cell receiving output\n",
    "import requests #the module for making HTTP requests in Python; provides GET funcionality"
   ]
  },
  {
   "cell_type": "markdown",
   "metadata": {},
   "source": [
    "#### Request API key by creating free account \n",
    "please follow instructions to get an API key\n",
    "https://developer.here.com/documentation/routing-api/dev_guide/topics/send-request.html\n",
    "\n",
    "Please link the first service, fleet telematics in to your account."
   ]
  },
  {
   "cell_type": "markdown",
   "metadata": {},
   "source": [
    "#### Example 1: getting driving time"
   ]
  },
  {
   "cell_type": "markdown",
   "metadata": {},
   "source": [
    "#### Sample request\n",
    "\n",
    "An API request needs an endpoint link with API key to fetch data. In some cases, you may also need appID and appCode to make a request. When you make a account in a particular API service, you will be asked to create and name your app. When you finish this step, you will be provided with a unique API key together with appID and appCode as a unique identifier for your app.\n",
    "\n",
    "Please not that various APIs have certain restrictions on their usage. Please make sure to read the the usage terms before making acccount (especially if you are asked to enter your payment info beforehand!)\n",
    "\n",
    "HereMap API has 250k free requests per month. (And it does not ask for credit card info when you create an account)\n",
    "\n",
    "Also, please note the below example uses an API key for this lab's demonstration purposes only. Please create your HereMap account and get your unique API key when attempting the lab or homeworks yourself.\n",
    "\n",
    "retreive a driving route between the two given points"
   ]
  },
  {
   "cell_type": "code",
   "execution_count": 3,
   "metadata": {},
   "outputs": [],
   "source": [
    "# enter your api key from HereMap\n",
    "apiKey = 'b3xPdBwHsbKdXIkKNws3wzn3IKY28PlZWI4O7I7hDYo'\n",
    "\n",
    "lon_pickup, lat_pickup = -73.972136, 40.744301 ##origin: A point in Manhattan (around E 35th street)\n",
    "lon_dropoff, lat_dropoff = -74.172945, 40.680108 # destination: Newark airport"
   ]
  },
  {
   "cell_type": "markdown",
   "metadata": {},
   "source": [
    "Note the driving API endpoint is 'https://router.hereapi.com/v8/routes?transportMode=car&origin={LAT},{LON}&destination={LAT},{LON}&return=summary&apikey={YOUR_API_KEY}\n",
    ", which essentially gives the driving directions from origin to destination together with a summary of the whole trip.\n",
    "\n",
    "Basically, the origin lat-long go in after the 'origin' field and destination lat-long go in after 'destination' field. Instead of manually putting these lat-long in the code, the pythonic way to do this is by the 'format' function. Wherever we need to insert variables, we put '{}' in the url and then specify the variables in their respective order of appearing in the url in the 'format' command.\n",
    "\n"
   ]
  },
  {
   "cell_type": "code",
   "execution_count": 4,
   "metadata": {},
   "outputs": [],
   "source": [
    "url = str('https://router.hereapi.com/v8/routes?transportMode=car&origin={},{}&destination={},{}&return=summary&apikey={}'.format(\n",
    "     lat_pickup, lon_pickup, lat_dropoff, lon_dropoff,apiKey))\n"
   ]
  },
  {
   "cell_type": "markdown",
   "metadata": {},
   "source": [
    "Now we'll make a request with the below command"
   ]
  },
  {
   "cell_type": "code",
   "execution_count": 5,
   "metadata": {},
   "outputs": [],
   "source": [
    "data = urllib.urlopen(url).read().decode('utf-8')\n",
    "data = json.loads(data)"
   ]
  },
  {
   "cell_type": "markdown",
   "metadata": {},
   "source": [
    "The fetched data gives driving directions together with a summary of the whole trip"
   ]
  },
  {
   "cell_type": "code",
   "execution_count": 6,
   "metadata": {},
   "outputs": [
    {
     "data": {
      "text/plain": [
       "{'routes': [{'id': 'd3660fed-9a82-45e2-a2e7-2bef450ec7af',\n",
       "   'sections': [{'id': '18ab8b15-18ae-4aaa-b4b9-55bcc64f07f6',\n",
       "     'type': 'vehicle',\n",
       "     'departure': {'time': '2022-10-04T12:54:53-04:00',\n",
       "      'place': {'type': 'place',\n",
       "       'location': {'lat': 40.7441211, 'lng': -73.9722708},\n",
       "       'originalLocation': {'lat': 40.744301, 'lng': -73.9721361}}},\n",
       "     'arrival': {'time': '2022-10-04T13:29:43-04:00',\n",
       "      'place': {'type': 'place',\n",
       "       'location': {'lat': 40.6790661, 'lng': -74.1703977},\n",
       "       'originalLocation': {'lat': 40.6801079, 'lng': -74.172945}}},\n",
       "     'summary': {'duration': 2090, 'length': 26062, 'baseDuration': 1635},\n",
       "     'transport': {'mode': 'car'}}]}]}"
      ]
     },
     "execution_count": 6,
     "metadata": {},
     "output_type": "execute_result"
    }
   ],
   "source": [
    "data"
   ]
  },
  {
   "cell_type": "markdown",
   "metadata": {},
   "source": [
    "The retrived output contains all information in the 'response' key. In the 'response', there is information about intermediate directions (which street to take a turn, etc.) in the 'route' key. Also present in the 'route' key is the summary of the trip (time, distance, road types etc.)"
   ]
  },
  {
   "cell_type": "markdown",
   "metadata": {},
   "source": [
    "Let's print the time and distance of the whole trip"
   ]
  },
  {
   "cell_type": "code",
   "execution_count": 7,
   "metadata": {},
   "outputs": [
    {
     "data": {
      "text/plain": [
       "2090"
      ]
     },
     "execution_count": 7,
     "metadata": {},
     "output_type": "execute_result"
    }
   ],
   "source": [
    "# get travel time in seconds\n",
    "data['routes'][0]['sections'][0]['summary']['duration']"
   ]
  },
  {
   "cell_type": "code",
   "execution_count": 8,
   "metadata": {},
   "outputs": [
    {
     "data": {
      "text/plain": [
       "26062"
      ]
     },
     "execution_count": 8,
     "metadata": {},
     "output_type": "execute_result"
    }
   ],
   "source": [
    "# travel distance in meters\n",
    "data['routes'][0]['sections'][0]['summary']['length']"
   ]
  },
  {
   "cell_type": "markdown",
   "metadata": {},
   "source": [
    "## Now access information for a sample of selected origin-destination points"
   ]
  },
  {
   "cell_type": "code",
   "execution_count": 9,
   "metadata": {},
   "outputs": [
    {
     "data": {
      "text/html": [
       "<div>\n",
       "<style scoped>\n",
       "    .dataframe tbody tr th:only-of-type {\n",
       "        vertical-align: middle;\n",
       "    }\n",
       "\n",
       "    .dataframe tbody tr th {\n",
       "        vertical-align: top;\n",
       "    }\n",
       "\n",
       "    .dataframe thead th {\n",
       "        text-align: right;\n",
       "    }\n",
       "</style>\n",
       "<table border=\"1\" class=\"dataframe\">\n",
       "  <thead>\n",
       "    <tr style=\"text-align: right;\">\n",
       "      <th></th>\n",
       "      <th>LocationID</th>\n",
       "      <th>lon_pickup</th>\n",
       "      <th>lat_pickup</th>\n",
       "      <th>LocationID2</th>\n",
       "      <th>lon_dropoff</th>\n",
       "      <th>lat_dropoff</th>\n",
       "    </tr>\n",
       "  </thead>\n",
       "  <tbody>\n",
       "    <tr>\n",
       "      <th>0</th>\n",
       "      <td>1</td>\n",
       "      <td>-74.174000</td>\n",
       "      <td>40.691831</td>\n",
       "      <td>145</td>\n",
       "      <td>-73.948891</td>\n",
       "      <td>40.745379</td>\n",
       "    </tr>\n",
       "    <tr>\n",
       "      <th>1</th>\n",
       "      <td>2</td>\n",
       "      <td>-73.831299</td>\n",
       "      <td>40.616745</td>\n",
       "      <td>203</td>\n",
       "      <td>-73.739473</td>\n",
       "      <td>40.657853</td>\n",
       "    </tr>\n",
       "    <tr>\n",
       "      <th>2</th>\n",
       "      <td>3</td>\n",
       "      <td>-73.847422</td>\n",
       "      <td>40.864474</td>\n",
       "      <td>77</td>\n",
       "      <td>-73.895364</td>\n",
       "      <td>40.666559</td>\n",
       "    </tr>\n",
       "    <tr>\n",
       "      <th>3</th>\n",
       "      <td>4</td>\n",
       "      <td>-73.976968</td>\n",
       "      <td>40.723752</td>\n",
       "      <td>158</td>\n",
       "      <td>-74.008984</td>\n",
       "      <td>40.735035</td>\n",
       "    </tr>\n",
       "    <tr>\n",
       "      <th>4</th>\n",
       "      <td>5</td>\n",
       "      <td>-74.188484</td>\n",
       "      <td>40.552659</td>\n",
       "      <td>123</td>\n",
       "      <td>-73.964334</td>\n",
       "      <td>40.599954</td>\n",
       "    </tr>\n",
       "  </tbody>\n",
       "</table>\n",
       "</div>"
      ],
      "text/plain": [
       "   LocationID  lon_pickup  lat_pickup  LocationID2  lon_dropoff  lat_dropoff\n",
       "0           1  -74.174000   40.691831          145   -73.948891    40.745379\n",
       "1           2  -73.831299   40.616745          203   -73.739473    40.657853\n",
       "2           3  -73.847422   40.864474           77   -73.895364    40.666559\n",
       "3           4  -73.976968   40.723752          158   -74.008984    40.735035\n",
       "4           5  -74.188484   40.552659          123   -73.964334    40.599954"
      ]
     },
     "execution_count": 9,
     "metadata": {},
     "output_type": "execute_result"
    }
   ],
   "source": [
    "# sample points lat-longs\n",
    "\n",
    "df = pd.read_csv('https://raw.githubusercontent.com/CUSP2022FallPUI/Labs/main/samplePoints.csv')\n",
    "df.head()"
   ]
  },
  {
   "cell_type": "code",
   "execution_count": 10,
   "metadata": {},
   "outputs": [
    {
     "data": {
      "text/plain": [
       "263"
      ]
     },
     "execution_count": 10,
     "metadata": {},
     "output_type": "execute_result"
    }
   ],
   "source": [
    "len(df) ##one random point per each zip code"
   ]
  },
  {
   "cell_type": "markdown",
   "metadata": {},
   "source": [
    "Function for getting driving time for a dataframe of above type"
   ]
  },
  {
   "cell_type": "code",
   "execution_count": 11,
   "metadata": {},
   "outputs": [],
   "source": [
    "def driving(file, apiKey): \n",
    "    '''\n",
    "    Input: the file that contain origin-destination lan/long information; keys from Map\n",
    "    Output: list of driving times corresponding the input O-D pairs\n",
    "    '''\n",
    "    duration_list= []  # list for storing times\n",
    "    for index, row in tqdm(file.iterrows()): # iterating through all rows of sample points\n",
    "        lon_pickup = row['lon_pickup']  \n",
    "        lat_pickup = row['lat_pickup']\n",
    "        lon_dropoff = row['lon_dropoff']\n",
    "        lat_dropoff = row['lat_dropoff']\n",
    "        \n",
    "        # specifying origin-desination lat-longs in the endpoint and making request\n",
    "        url = str('https://router.hereapi.com/v8/routes?transportMode=car&origin={},{}&destination={},{}&return=summary&apikey={}'.format(\n",
    "     lat_pickup, lon_pickup, lat_dropoff, lon_dropoff,apiKey))\n",
    "        data = urllib.urlopen(url).read().decode('utf-8')\n",
    "        data = json.loads(data)\n",
    "        \n",
    "        # append travel time to 'duration' list, nan if no travel time retrieved\n",
    "        try:    \n",
    "            duration = data['routes'][0]['sections'][0]['summary']['duration']\n",
    "        except:\n",
    "            duration = np.nan\n",
    "            \n",
    "        duration_list.append(duration)\n",
    "\n",
    "    return duration_list  "
   ]
  },
  {
   "cell_type": "markdown",
   "metadata": {},
   "source": [
    "Passing 10 random O-D pairs"
   ]
  },
  {
   "cell_type": "code",
   "execution_count": 12,
   "metadata": {
    "scrolled": true
   },
   "outputs": [
    {
     "data": {
      "text/html": [
       "<div>\n",
       "<style scoped>\n",
       "    .dataframe tbody tr th:only-of-type {\n",
       "        vertical-align: middle;\n",
       "    }\n",
       "\n",
       "    .dataframe tbody tr th {\n",
       "        vertical-align: top;\n",
       "    }\n",
       "\n",
       "    .dataframe thead th {\n",
       "        text-align: right;\n",
       "    }\n",
       "</style>\n",
       "<table border=\"1\" class=\"dataframe\">\n",
       "  <thead>\n",
       "    <tr style=\"text-align: right;\">\n",
       "      <th></th>\n",
       "      <th>LocationID</th>\n",
       "      <th>lon_pickup</th>\n",
       "      <th>lat_pickup</th>\n",
       "      <th>LocationID2</th>\n",
       "      <th>lon_dropoff</th>\n",
       "      <th>lat_dropoff</th>\n",
       "    </tr>\n",
       "  </thead>\n",
       "  <tbody>\n",
       "    <tr>\n",
       "      <th>0</th>\n",
       "      <td>110</td>\n",
       "      <td>-74.128342</td>\n",
       "      <td>40.545780</td>\n",
       "      <td>254</td>\n",
       "      <td>-73.858948</td>\n",
       "      <td>40.882157</td>\n",
       "    </tr>\n",
       "    <tr>\n",
       "      <th>1</th>\n",
       "      <td>51</td>\n",
       "      <td>-73.828264</td>\n",
       "      <td>40.873973</td>\n",
       "      <td>92</td>\n",
       "      <td>-73.828859</td>\n",
       "      <td>40.761102</td>\n",
       "    </tr>\n",
       "    <tr>\n",
       "      <th>2</th>\n",
       "      <td>166</td>\n",
       "      <td>-73.961764</td>\n",
       "      <td>40.809457</td>\n",
       "      <td>234</td>\n",
       "      <td>-73.990458</td>\n",
       "      <td>40.740337</td>\n",
       "    </tr>\n",
       "    <tr>\n",
       "      <th>3</th>\n",
       "      <td>207</td>\n",
       "      <td>-73.899353</td>\n",
       "      <td>40.763986</td>\n",
       "      <td>248</td>\n",
       "      <td>-73.872289</td>\n",
       "      <td>40.834165</td>\n",
       "    </tr>\n",
       "    <tr>\n",
       "      <th>4</th>\n",
       "      <td>195</td>\n",
       "      <td>-74.009178</td>\n",
       "      <td>40.675549</td>\n",
       "      <td>68</td>\n",
       "      <td>-73.999917</td>\n",
       "      <td>40.748428</td>\n",
       "    </tr>\n",
       "    <tr>\n",
       "      <th>5</th>\n",
       "      <td>251</td>\n",
       "      <td>-74.125348</td>\n",
       "      <td>40.616880</td>\n",
       "      <td>114</td>\n",
       "      <td>-73.997380</td>\n",
       "      <td>40.728340</td>\n",
       "    </tr>\n",
       "    <tr>\n",
       "      <th>6</th>\n",
       "      <td>71</td>\n",
       "      <td>-73.937966</td>\n",
       "      <td>40.644288</td>\n",
       "      <td>118</td>\n",
       "      <td>-74.132979</td>\n",
       "      <td>40.586555</td>\n",
       "    </tr>\n",
       "    <tr>\n",
       "      <th>7</th>\n",
       "      <td>139</td>\n",
       "      <td>-73.744234</td>\n",
       "      <td>40.677098</td>\n",
       "      <td>202</td>\n",
       "      <td>-73.949952</td>\n",
       "      <td>40.761900</td>\n",
       "    </tr>\n",
       "    <tr>\n",
       "      <th>8</th>\n",
       "      <td>76</td>\n",
       "      <td>-73.876821</td>\n",
       "      <td>40.660935</td>\n",
       "      <td>240</td>\n",
       "      <td>-73.881978</td>\n",
       "      <td>40.894599</td>\n",
       "    </tr>\n",
       "    <tr>\n",
       "      <th>9</th>\n",
       "      <td>165</td>\n",
       "      <td>-73.956825</td>\n",
       "      <td>40.620924</td>\n",
       "      <td>258</td>\n",
       "      <td>-73.855767</td>\n",
       "      <td>40.688721</td>\n",
       "    </tr>\n",
       "  </tbody>\n",
       "</table>\n",
       "</div>"
      ],
      "text/plain": [
       "   LocationID  lon_pickup  lat_pickup  LocationID2  lon_dropoff  lat_dropoff\n",
       "0         110  -74.128342   40.545780          254   -73.858948    40.882157\n",
       "1          51  -73.828264   40.873973           92   -73.828859    40.761102\n",
       "2         166  -73.961764   40.809457          234   -73.990458    40.740337\n",
       "3         207  -73.899353   40.763986          248   -73.872289    40.834165\n",
       "4         195  -74.009178   40.675549           68   -73.999917    40.748428\n",
       "5         251  -74.125348   40.616880          114   -73.997380    40.728340\n",
       "6          71  -73.937966   40.644288          118   -74.132979    40.586555\n",
       "7         139  -73.744234   40.677098          202   -73.949952    40.761900\n",
       "8          76  -73.876821   40.660935          240   -73.881978    40.894599\n",
       "9         165  -73.956825   40.620924          258   -73.855767    40.688721"
      ]
     },
     "execution_count": 12,
     "metadata": {},
     "output_type": "execute_result"
    }
   ],
   "source": [
    "sample = df.sample(10, random_state=2020)\n",
    "sample.reset_index(drop=True, inplace=True)\n",
    "\n",
    "sample"
   ]
  },
  {
   "cell_type": "markdown",
   "metadata": {},
   "source": [
    "Calling the function to get responses from API"
   ]
  },
  {
   "cell_type": "code",
   "execution_count": 13,
   "metadata": {},
   "outputs": [
    {
     "name": "stderr",
     "output_type": "stream",
     "text": [
      "10it [00:01,  8.29it/s]\n"
     ]
    },
    {
     "data": {
      "text/html": [
       "<div>\n",
       "<style scoped>\n",
       "    .dataframe tbody tr th:only-of-type {\n",
       "        vertical-align: middle;\n",
       "    }\n",
       "\n",
       "    .dataframe tbody tr th {\n",
       "        vertical-align: top;\n",
       "    }\n",
       "\n",
       "    .dataframe thead th {\n",
       "        text-align: right;\n",
       "    }\n",
       "</style>\n",
       "<table border=\"1\" class=\"dataframe\">\n",
       "  <thead>\n",
       "    <tr style=\"text-align: right;\">\n",
       "      <th></th>\n",
       "      <th>LocationID</th>\n",
       "      <th>lon_pickup</th>\n",
       "      <th>lat_pickup</th>\n",
       "      <th>LocationID2</th>\n",
       "      <th>lon_dropoff</th>\n",
       "      <th>lat_dropoff</th>\n",
       "      <th>driving_time</th>\n",
       "    </tr>\n",
       "  </thead>\n",
       "  <tbody>\n",
       "    <tr>\n",
       "      <th>0</th>\n",
       "      <td>110</td>\n",
       "      <td>-74.128342</td>\n",
       "      <td>40.545780</td>\n",
       "      <td>254</td>\n",
       "      <td>-73.858948</td>\n",
       "      <td>40.882157</td>\n",
       "      <td>4845</td>\n",
       "    </tr>\n",
       "    <tr>\n",
       "      <th>1</th>\n",
       "      <td>51</td>\n",
       "      <td>-73.828264</td>\n",
       "      <td>40.873973</td>\n",
       "      <td>92</td>\n",
       "      <td>-73.828859</td>\n",
       "      <td>40.761102</td>\n",
       "      <td>1438</td>\n",
       "    </tr>\n",
       "    <tr>\n",
       "      <th>2</th>\n",
       "      <td>166</td>\n",
       "      <td>-73.961764</td>\n",
       "      <td>40.809457</td>\n",
       "      <td>234</td>\n",
       "      <td>-73.990458</td>\n",
       "      <td>40.740337</td>\n",
       "      <td>1553</td>\n",
       "    </tr>\n",
       "    <tr>\n",
       "      <th>3</th>\n",
       "      <td>207</td>\n",
       "      <td>-73.899353</td>\n",
       "      <td>40.763986</td>\n",
       "      <td>248</td>\n",
       "      <td>-73.872289</td>\n",
       "      <td>40.834165</td>\n",
       "      <td>1275</td>\n",
       "    </tr>\n",
       "    <tr>\n",
       "      <th>4</th>\n",
       "      <td>195</td>\n",
       "      <td>-74.009178</td>\n",
       "      <td>40.675549</td>\n",
       "      <td>68</td>\n",
       "      <td>-73.999917</td>\n",
       "      <td>40.748428</td>\n",
       "      <td>1394</td>\n",
       "    </tr>\n",
       "    <tr>\n",
       "      <th>5</th>\n",
       "      <td>251</td>\n",
       "      <td>-74.125348</td>\n",
       "      <td>40.616880</td>\n",
       "      <td>114</td>\n",
       "      <td>-73.997380</td>\n",
       "      <td>40.728340</td>\n",
       "      <td>2450</td>\n",
       "    </tr>\n",
       "    <tr>\n",
       "      <th>6</th>\n",
       "      <td>71</td>\n",
       "      <td>-73.937966</td>\n",
       "      <td>40.644288</td>\n",
       "      <td>118</td>\n",
       "      <td>-74.132979</td>\n",
       "      <td>40.586555</td>\n",
       "      <td>2468</td>\n",
       "    </tr>\n",
       "    <tr>\n",
       "      <th>7</th>\n",
       "      <td>139</td>\n",
       "      <td>-73.744234</td>\n",
       "      <td>40.677098</td>\n",
       "      <td>202</td>\n",
       "      <td>-73.949952</td>\n",
       "      <td>40.761900</td>\n",
       "      <td>2787</td>\n",
       "    </tr>\n",
       "    <tr>\n",
       "      <th>8</th>\n",
       "      <td>76</td>\n",
       "      <td>-73.876821</td>\n",
       "      <td>40.660935</td>\n",
       "      <td>240</td>\n",
       "      <td>-73.881978</td>\n",
       "      <td>40.894599</td>\n",
       "      <td>3134</td>\n",
       "    </tr>\n",
       "    <tr>\n",
       "      <th>9</th>\n",
       "      <td>165</td>\n",
       "      <td>-73.956825</td>\n",
       "      <td>40.620924</td>\n",
       "      <td>258</td>\n",
       "      <td>-73.855767</td>\n",
       "      <td>40.688721</td>\n",
       "      <td>2187</td>\n",
       "    </tr>\n",
       "  </tbody>\n",
       "</table>\n",
       "</div>"
      ],
      "text/plain": [
       "   LocationID  lon_pickup  lat_pickup  LocationID2  lon_dropoff  lat_dropoff  \\\n",
       "0         110  -74.128342   40.545780          254   -73.858948    40.882157   \n",
       "1          51  -73.828264   40.873973           92   -73.828859    40.761102   \n",
       "2         166  -73.961764   40.809457          234   -73.990458    40.740337   \n",
       "3         207  -73.899353   40.763986          248   -73.872289    40.834165   \n",
       "4         195  -74.009178   40.675549           68   -73.999917    40.748428   \n",
       "5         251  -74.125348   40.616880          114   -73.997380    40.728340   \n",
       "6          71  -73.937966   40.644288          118   -74.132979    40.586555   \n",
       "7         139  -73.744234   40.677098          202   -73.949952    40.761900   \n",
       "8          76  -73.876821   40.660935          240   -73.881978    40.894599   \n",
       "9         165  -73.956825   40.620924          258   -73.855767    40.688721   \n",
       "\n",
       "   driving_time  \n",
       "0          4845  \n",
       "1          1438  \n",
       "2          1553  \n",
       "3          1275  \n",
       "4          1394  \n",
       "5          2450  \n",
       "6          2468  \n",
       "7          2787  \n",
       "8          3134  \n",
       "9          2187  "
      ]
     },
     "execution_count": 13,
     "metadata": {},
     "output_type": "execute_result"
    }
   ],
   "source": [
    "sample['driving_time'] = driving(sample, apiKey)\n",
    "sample"
   ]
  },
  {
   "cell_type": "markdown",
   "metadata": {},
   "source": [
    "### NYC Open data API: \n",
    "NYC open data offers API for almost every available data from crime, housing, 311, taxi etc.\n",
    "Also its free for the most part and no account needed\n",
    "\n",
    "https://opendata.cityofnewyork.us/"
   ]
  },
  {
   "cell_type": "markdown",
   "metadata": {},
   "source": [
    "#### Example: Endpoint for 2018 taxi data\n",
    "https://data.cityofnewyork.us/resource/t29m-gskq.json"
   ]
  },
  {
   "cell_type": "code",
   "execution_count": 14,
   "metadata": {},
   "outputs": [],
   "source": [
    "# some parameters to filter the data. We can specify as many parameters as columns in the table.\n",
    "# reference: https://dev.socrata.com/foundry/data.cityofnewyork.us/t29m-gskq\n",
    "\n",
    "# extracting info for a specific O-D pair corresponding to near E 35th st as pick up and Newark airport as drop off\n",
    "# this is around the same pick-up and drop-off location we used to get driving time from HereMap API\n",
    "parameter = {'pulocationid':162, 'dolocationid':1}\n",
    "\n"
   ]
  },
  {
   "cell_type": "markdown",
   "metadata": {},
   "source": [
    "making API request\n",
    "\n",
    "'requests' is another package of making web requests. Highly uselful in the case of REST APIs and we can provide parameters together in one line of code. We'll use the 'get' method to retrieve data"
   ]
  },
  {
   "cell_type": "code",
   "execution_count": 15,
   "metadata": {},
   "outputs": [],
   "source": [
    "url =  \"https://data.cityofnewyork.us/resource/t29m-gskq.json\"\n",
    "r = requests.get(url = url, params=parameter)\n",
    "data = r.json()"
   ]
  },
  {
   "cell_type": "markdown",
   "metadata": {},
   "source": [
    "fisrt three returned observations"
   ]
  },
  {
   "cell_type": "code",
   "execution_count": 19,
   "metadata": {
    "scrolled": true
   },
   "outputs": [
    {
     "data": {
      "text/plain": [
       "[{'dispatching_base_num': 'B02835',\n",
       "  'pickup_datetime': '2019-01-01T01:51:19.000',\n",
       "  'dropoff_datetime': '2019-01-01T02:37:34.000',\n",
       "  'pulocationid': '162',\n",
       "  'dolocationid': '1',\n",
       "  'sr_flag': '1'},\n",
       " {'dispatching_base_num': 'B02510',\n",
       "  'pickup_datetime': '2019-01-01T04:07:00.000',\n",
       "  'dropoff_datetime': '2019-01-01T04:42:46.000',\n",
       "  'pulocationid': '162',\n",
       "  'dolocationid': '1'},\n",
       " {'dispatching_base_num': 'B02510',\n",
       "  'pickup_datetime': '2019-01-01T04:01:07.000',\n",
       "  'dropoff_datetime': '2019-01-01T04:34:46.000',\n",
       "  'pulocationid': '162',\n",
       "  'dolocationid': '1',\n",
       "  'sr_flag': '1'}]"
      ]
     },
     "execution_count": 19,
     "metadata": {},
     "output_type": "execute_result"
    }
   ],
   "source": [
    "data[:3]"
   ]
  },
  {
   "cell_type": "markdown",
   "metadata": {},
   "source": [
    "Note that the returned request contains information reagrding pick up and drop off times, distance covered, fare amount, number of passengers etc. Essentially, it returns all info provided by TLC in any csv file."
   ]
  },
  {
   "cell_type": "markdown",
   "metadata": {},
   "source": [
    "Let's get travel time from first observation"
   ]
  },
  {
   "cell_type": "code",
   "execution_count": 21,
   "metadata": {},
   "outputs": [
    {
     "data": {
      "text/plain": [
       "datetime.timedelta(seconds=2775)"
      ]
     },
     "execution_count": 21,
     "metadata": {},
     "output_type": "execute_result"
    }
   ],
   "source": [
    "# travel time in seconds\n",
    "parser.parse(data[0]['dropoff_datetime']) - parser.parse(data[0]['pickup_datetime'])"
   ]
  },
  {
   "cell_type": "markdown",
   "metadata": {},
   "source": [
    "Note the travel time returned is around 40 minutes compared to around 28 minutes from driving time retrieved from HereMap API before. Also note time can vary based on the pick up times, the above time of 40 min correspond to pick up around 7pm."
   ]
  },
  {
   "cell_type": "markdown",
   "metadata": {},
   "source": [
    "\n",
    "\n",
    "#### get yellow taxi times for O-D pairs as before\n",
    "\n",
    "#### Note: taxi data can be full of absurd values in terms of travel times/fares/distances. So we need to filter out all noise while we extract. \n",
    "#### We'll make the same checks for filtering as we did in the taxi data lab\n",
    "\n",
    "1. Get rid of observations with travel time > 1 min and < 100 min\n",
    "2. Speed (distance/time) should be > 2mph and <80mph\n",
    "3. Fare should be < 300 USD and > 2.5 USD\n",
    "4. distance traveled < 100 and > 0.3"
   ]
  },
  {
   "cell_type": "code",
   "execution_count": 22,
   "metadata": {},
   "outputs": [],
   "source": [
    "def taxiTime(df):\n",
    "    \n",
    "    times = [] # list for storing travel times\n",
    "    \n",
    "    for index, row in df.iterrows(): # iterating through all rows of sample points\n",
    "        \n",
    "        # specify parameters for making request\n",
    "        parameters = {'pulocationid':int(row['LocationID']), 'dolocationid':int(row['LocationID2'])}\n",
    "        \n",
    "        url =  \"https://data.cityofnewyork.us/resource/t29m-gskq.json\"\n",
    "        r = requests.get(url = url, params=parameters)\n",
    "        data = r.json()\n",
    "        \n",
    "        travelTime = []\n",
    "        \n",
    "        for obs in data: # iterating through each returned observation for the returned data \n",
    "            \n",
    "            # making sanity checks and appending times to 'traveTime' list\n",
    "            try:\n",
    "                time = parser.parse(obs['tpep_dropoff_datetime']) - parser.parse(obs['tpep_pickup_datetime'])\n",
    "                time = time.total_seconds()\n",
    "                fare = float(obs['fare_amount'])\n",
    "                distance = float(obs['trip_distance'])\n",
    "                speed = distance/(time/3600)\n",
    "\n",
    "                if (time < 6000 and time > 60 and fare < 200  \n",
    "                    and fare > 2.5 and fare < 300 and speed < 80  and speed > 2 and distance > 0.3 and \n",
    "                    distance < 100):\n",
    "                    travelTime.append(time)\n",
    "                    \n",
    "            except: \n",
    "                pass\n",
    "            \n",
    "        # now appending the mean of travel times retrieved above to the 'times' list\n",
    "    \n",
    "        times.append(np.mean(travelTime))\n",
    "        \n",
    "        \n",
    "    return times"
   ]
  },
  {
   "cell_type": "code",
   "execution_count": 23,
   "metadata": {},
   "outputs": [
    {
     "name": "stderr",
     "output_type": "stream",
     "text": [
      "C:\\Users\\Shantanu\\anaconda3\\envs\\geo_env\\lib\\site-packages\\numpy\\core\\fromnumeric.py:3432: RuntimeWarning: Mean of empty slice.\n",
      "  return _methods._mean(a, axis=axis, dtype=dtype,\n",
      "C:\\Users\\Shantanu\\anaconda3\\envs\\geo_env\\lib\\site-packages\\numpy\\core\\_methods.py:190: RuntimeWarning: invalid value encountered in double_scalars\n",
      "  ret = ret.dtype.type(ret / rcount)\n"
     ]
    },
    {
     "data": {
      "text/html": [
       "<div>\n",
       "<style scoped>\n",
       "    .dataframe tbody tr th:only-of-type {\n",
       "        vertical-align: middle;\n",
       "    }\n",
       "\n",
       "    .dataframe tbody tr th {\n",
       "        vertical-align: top;\n",
       "    }\n",
       "\n",
       "    .dataframe thead th {\n",
       "        text-align: right;\n",
       "    }\n",
       "</style>\n",
       "<table border=\"1\" class=\"dataframe\">\n",
       "  <thead>\n",
       "    <tr style=\"text-align: right;\">\n",
       "      <th></th>\n",
       "      <th>LocationID</th>\n",
       "      <th>lon_pickup</th>\n",
       "      <th>lat_pickup</th>\n",
       "      <th>LocationID2</th>\n",
       "      <th>lon_dropoff</th>\n",
       "      <th>lat_dropoff</th>\n",
       "      <th>driving_time</th>\n",
       "      <th>TLC_avgtime</th>\n",
       "    </tr>\n",
       "  </thead>\n",
       "  <tbody>\n",
       "    <tr>\n",
       "      <th>0</th>\n",
       "      <td>110</td>\n",
       "      <td>-74.128342</td>\n",
       "      <td>40.545780</td>\n",
       "      <td>254</td>\n",
       "      <td>-73.858948</td>\n",
       "      <td>40.882157</td>\n",
       "      <td>4845</td>\n",
       "      <td>NaN</td>\n",
       "    </tr>\n",
       "    <tr>\n",
       "      <th>1</th>\n",
       "      <td>51</td>\n",
       "      <td>-73.828264</td>\n",
       "      <td>40.873973</td>\n",
       "      <td>92</td>\n",
       "      <td>-73.828859</td>\n",
       "      <td>40.761102</td>\n",
       "      <td>1438</td>\n",
       "      <td>1398.000000</td>\n",
       "    </tr>\n",
       "    <tr>\n",
       "      <th>2</th>\n",
       "      <td>166</td>\n",
       "      <td>-73.961764</td>\n",
       "      <td>40.809457</td>\n",
       "      <td>234</td>\n",
       "      <td>-73.990458</td>\n",
       "      <td>40.740337</td>\n",
       "      <td>1553</td>\n",
       "      <td>1834.531062</td>\n",
       "    </tr>\n",
       "    <tr>\n",
       "      <th>3</th>\n",
       "      <td>207</td>\n",
       "      <td>-73.899353</td>\n",
       "      <td>40.763986</td>\n",
       "      <td>248</td>\n",
       "      <td>-73.872289</td>\n",
       "      <td>40.834165</td>\n",
       "      <td>1275</td>\n",
       "      <td>NaN</td>\n",
       "    </tr>\n",
       "    <tr>\n",
       "      <th>4</th>\n",
       "      <td>195</td>\n",
       "      <td>-74.009178</td>\n",
       "      <td>40.675549</td>\n",
       "      <td>68</td>\n",
       "      <td>-73.999917</td>\n",
       "      <td>40.748428</td>\n",
       "      <td>1394</td>\n",
       "      <td>2149.000000</td>\n",
       "    </tr>\n",
       "    <tr>\n",
       "      <th>5</th>\n",
       "      <td>251</td>\n",
       "      <td>-74.125348</td>\n",
       "      <td>40.616880</td>\n",
       "      <td>114</td>\n",
       "      <td>-73.997380</td>\n",
       "      <td>40.728340</td>\n",
       "      <td>2450</td>\n",
       "      <td>NaN</td>\n",
       "    </tr>\n",
       "    <tr>\n",
       "      <th>6</th>\n",
       "      <td>71</td>\n",
       "      <td>-73.937966</td>\n",
       "      <td>40.644288</td>\n",
       "      <td>118</td>\n",
       "      <td>-74.132979</td>\n",
       "      <td>40.586555</td>\n",
       "      <td>2468</td>\n",
       "      <td>3126.000000</td>\n",
       "    </tr>\n",
       "    <tr>\n",
       "      <th>7</th>\n",
       "      <td>139</td>\n",
       "      <td>-73.744234</td>\n",
       "      <td>40.677098</td>\n",
       "      <td>202</td>\n",
       "      <td>-73.949952</td>\n",
       "      <td>40.761900</td>\n",
       "      <td>2787</td>\n",
       "      <td>NaN</td>\n",
       "    </tr>\n",
       "    <tr>\n",
       "      <th>8</th>\n",
       "      <td>76</td>\n",
       "      <td>-73.876821</td>\n",
       "      <td>40.660935</td>\n",
       "      <td>240</td>\n",
       "      <td>-73.881978</td>\n",
       "      <td>40.894599</td>\n",
       "      <td>3134</td>\n",
       "      <td>3203.666667</td>\n",
       "    </tr>\n",
       "    <tr>\n",
       "      <th>9</th>\n",
       "      <td>165</td>\n",
       "      <td>-73.956825</td>\n",
       "      <td>40.620924</td>\n",
       "      <td>258</td>\n",
       "      <td>-73.855767</td>\n",
       "      <td>40.688721</td>\n",
       "      <td>2187</td>\n",
       "      <td>2622.000000</td>\n",
       "    </tr>\n",
       "  </tbody>\n",
       "</table>\n",
       "</div>"
      ],
      "text/plain": [
       "   LocationID  lon_pickup  lat_pickup  LocationID2  lon_dropoff  lat_dropoff  \\\n",
       "0         110  -74.128342   40.545780          254   -73.858948    40.882157   \n",
       "1          51  -73.828264   40.873973           92   -73.828859    40.761102   \n",
       "2         166  -73.961764   40.809457          234   -73.990458    40.740337   \n",
       "3         207  -73.899353   40.763986          248   -73.872289    40.834165   \n",
       "4         195  -74.009178   40.675549           68   -73.999917    40.748428   \n",
       "5         251  -74.125348   40.616880          114   -73.997380    40.728340   \n",
       "6          71  -73.937966   40.644288          118   -74.132979    40.586555   \n",
       "7         139  -73.744234   40.677098          202   -73.949952    40.761900   \n",
       "8          76  -73.876821   40.660935          240   -73.881978    40.894599   \n",
       "9         165  -73.956825   40.620924          258   -73.855767    40.688721   \n",
       "\n",
       "   driving_time  TLC_avgtime  \n",
       "0          4845          NaN  \n",
       "1          1438  1398.000000  \n",
       "2          1553  1834.531062  \n",
       "3          1275          NaN  \n",
       "4          1394  2149.000000  \n",
       "5          2450          NaN  \n",
       "6          2468  3126.000000  \n",
       "7          2787          NaN  \n",
       "8          3134  3203.666667  \n",
       "9          2187  2622.000000  "
      ]
     },
     "execution_count": 23,
     "metadata": {},
     "output_type": "execute_result"
    }
   ],
   "source": [
    "sample['TLC_avgtime'] = taxiTime(sample)\n",
    "sample"
   ]
  },
  {
   "cell_type": "markdown",
   "metadata": {},
   "source": [
    "### Homework\n",
    "\n",
    "1. Extract 2018/2019 FHV and shared FHV data and compare with taxi times from TLC and driving times from HereMap API for 50 random O-D pairs.\n",
    "2. Extra credit: Using geocoding API from HereMAPs"
   ]
  },
  {
   "cell_type": "markdown",
   "metadata": {},
   "source": [
    "### Retrieving FHV and shared FHV data\n",
    "\n",
    "#### FHV (for hire vehicles) refers to cars belonging to privately owned companies and entities like Uber, Lyft etc. Shared for hire vehicles (SFHV) trips are where two or more people share the same trip (UberPool etc.)\n",
    "\n",
    "\n",
    "use API endpoint: https://data.cityofnewyork.us/resource/u6nh-b56h.json\n",
    "\n",
    "for shared FHV, use parameter 'SR_flag': 1 and 0 for non shared FHV"
   ]
  },
  {
   "cell_type": "markdown",
   "metadata": {},
   "source": [
    "### Task 1: get sample request for a single O-D pair for both FHV and shared FHV"
   ]
  },
  {
   "cell_type": "code",
   "execution_count": 24,
   "metadata": {},
   "outputs": [
    {
     "data": {
      "text/plain": [
       "[{'dispatching_base_num': 'B02835',\n",
       "  'pickup_datetime': '2019-01-01T01:51:19.000',\n",
       "  'dropoff_datetime': '2019-01-01T02:37:34.000',\n",
       "  'pulocationid': '162',\n",
       "  'dolocationid': '1',\n",
       "  'sr_flag': '1'},\n",
       " {'dispatching_base_num': 'B02510',\n",
       "  'pickup_datetime': '2019-01-01T04:07:00.000',\n",
       "  'dropoff_datetime': '2019-01-01T04:42:46.000',\n",
       "  'pulocationid': '162',\n",
       "  'dolocationid': '1'},\n",
       " {'dispatching_base_num': 'B02510',\n",
       "  'pickup_datetime': '2019-01-01T04:01:07.000',\n",
       "  'dropoff_datetime': '2019-01-01T04:34:46.000',\n",
       "  'pulocationid': '162',\n",
       "  'dolocationid': '1',\n",
       "  'sr_flag': '1'}]"
      ]
     },
     "execution_count": 24,
     "metadata": {},
     "output_type": "execute_result"
    }
   ],
   "source": [
    "# write parameters here for FHV\n",
    "parameter = {'pulocationid':162, 'dolocationid':1}\n",
    "\n",
    "url =  \"https://data.cityofnewyork.us/resource/u6nh-b56h.json\"\n",
    "r = requests.get(url = url, params=parameter)\n",
    "data_1819= r.json()\n",
    "data_1819[:3]"
   ]
  },
  {
   "cell_type": "code",
   "execution_count": 29,
   "metadata": {},
   "outputs": [
    {
     "data": {
      "text/plain": [
       "datetime.timedelta(seconds=2146)"
      ]
     },
     "execution_count": 29,
     "metadata": {},
     "output_type": "execute_result"
    }
   ],
   "source": [
    "# code here, get travel time from one observation for above O-D pair\n",
    "parser.parse(data_1819[1]['dropoff_datetime']) - parser.parse(data_1819[1]['pickup_datetime'])"
   ]
  },
  {
   "cell_type": "code",
   "execution_count": null,
   "metadata": {},
   "outputs": [],
   "source": []
  },
  {
   "cell_type": "code",
   "execution_count": 26,
   "metadata": {},
   "outputs": [],
   "source": [
    "# write parameters here for shared FHV\n",
    "parameter_sfhv  = {'pulocationid':162, 'dolocationid':1, 'sr_flag':1}"
   ]
  },
  {
   "cell_type": "code",
   "execution_count": 27,
   "metadata": {},
   "outputs": [
    {
     "data": {
      "text/plain": [
       "[{'dispatching_base_num': 'B02835',\n",
       "  'pickup_datetime': '2019-01-01T01:51:19.000',\n",
       "  'dropoff_datetime': '2019-01-01T02:37:34.000',\n",
       "  'pulocationid': '162',\n",
       "  'dolocationid': '1',\n",
       "  'sr_flag': '1'},\n",
       " {'dispatching_base_num': 'B02510',\n",
       "  'pickup_datetime': '2019-01-01T04:01:07.000',\n",
       "  'dropoff_datetime': '2019-01-01T04:34:46.000',\n",
       "  'pulocationid': '162',\n",
       "  'dolocationid': '1',\n",
       "  'sr_flag': '1'},\n",
       " {'dispatching_base_num': 'B02510',\n",
       "  'pickup_datetime': '2019-01-01T06:49:03.000',\n",
       "  'dropoff_datetime': '2019-01-01T07:18:55.000',\n",
       "  'pulocationid': '162',\n",
       "  'dolocationid': '1',\n",
       "  'sr_flag': '1'}]"
      ]
     },
     "execution_count": 27,
     "metadata": {},
     "output_type": "execute_result"
    }
   ],
   "source": [
    "# get shared FHV travel time from one observation for above O-D pair\n",
    "\n",
    "url =  \"https://data.cityofnewyork.us/resource/u6nh-b56h.json\"\n",
    "rs = requests.get(url = url, params=parameter_sfhv)\n",
    "data_1819S= rs.json()\n",
    "data_1819S[:3]"
   ]
  },
  {
   "cell_type": "code",
   "execution_count": 28,
   "metadata": {},
   "outputs": [
    {
     "data": {
      "text/plain": [
       "datetime.timedelta(seconds=2775)"
      ]
     },
     "execution_count": 28,
     "metadata": {},
     "output_type": "execute_result"
    }
   ],
   "source": [
    "parser.parse(data_1819S[0]['dropoff_datetime']) - parser.parse(data_1819S[0]['pickup_datetime'])"
   ]
  },
  {
   "cell_type": "markdown",
   "metadata": {},
   "source": [
    "### Task 2. Write the function for getting FHV and Shared FHV times for 50 sample O-D pairs. \n",
    "\n",
    "#### Hint: see above that the returned FHV/shared FHV data has column names 'pickup_datetime' and 'dropoff_datetime' instead of 'tpep_pickup_datetime' and 'tpep_dropoff_datetime' used in the functions above. So make sure to change these names when writing the code below\n",
    "\n",
    "\n",
    "Also make necessary filtering to remove outliers. Remember, in this data, just travel times are available, so we don't need any other variable outlier filtering."
   ]
  },
  {
   "cell_type": "code",
   "execution_count": 30,
   "metadata": {},
   "outputs": [
    {
     "data": {
      "text/html": [
       "<div>\n",
       "<style scoped>\n",
       "    .dataframe tbody tr th:only-of-type {\n",
       "        vertical-align: middle;\n",
       "    }\n",
       "\n",
       "    .dataframe tbody tr th {\n",
       "        vertical-align: top;\n",
       "    }\n",
       "\n",
       "    .dataframe thead th {\n",
       "        text-align: right;\n",
       "    }\n",
       "</style>\n",
       "<table border=\"1\" class=\"dataframe\">\n",
       "  <thead>\n",
       "    <tr style=\"text-align: right;\">\n",
       "      <th></th>\n",
       "      <th>LocationID</th>\n",
       "      <th>lon_pickup</th>\n",
       "      <th>lat_pickup</th>\n",
       "      <th>LocationID2</th>\n",
       "      <th>lon_dropoff</th>\n",
       "      <th>lat_dropoff</th>\n",
       "    </tr>\n",
       "  </thead>\n",
       "  <tbody>\n",
       "    <tr>\n",
       "      <th>109</th>\n",
       "      <td>110</td>\n",
       "      <td>-74.128342</td>\n",
       "      <td>40.545780</td>\n",
       "      <td>254</td>\n",
       "      <td>-73.858948</td>\n",
       "      <td>40.882157</td>\n",
       "    </tr>\n",
       "    <tr>\n",
       "      <th>50</th>\n",
       "      <td>51</td>\n",
       "      <td>-73.828264</td>\n",
       "      <td>40.873973</td>\n",
       "      <td>92</td>\n",
       "      <td>-73.828859</td>\n",
       "      <td>40.761102</td>\n",
       "    </tr>\n",
       "    <tr>\n",
       "      <th>165</th>\n",
       "      <td>166</td>\n",
       "      <td>-73.961764</td>\n",
       "      <td>40.809457</td>\n",
       "      <td>234</td>\n",
       "      <td>-73.990458</td>\n",
       "      <td>40.740337</td>\n",
       "    </tr>\n",
       "    <tr>\n",
       "      <th>206</th>\n",
       "      <td>207</td>\n",
       "      <td>-73.899353</td>\n",
       "      <td>40.763986</td>\n",
       "      <td>248</td>\n",
       "      <td>-73.872289</td>\n",
       "      <td>40.834165</td>\n",
       "    </tr>\n",
       "    <tr>\n",
       "      <th>194</th>\n",
       "      <td>195</td>\n",
       "      <td>-74.009178</td>\n",
       "      <td>40.675549</td>\n",
       "      <td>68</td>\n",
       "      <td>-73.999917</td>\n",
       "      <td>40.748428</td>\n",
       "    </tr>\n",
       "  </tbody>\n",
       "</table>\n",
       "</div>"
      ],
      "text/plain": [
       "     LocationID  lon_pickup  lat_pickup  LocationID2  lon_dropoff  lat_dropoff\n",
       "109         110  -74.128342   40.545780          254   -73.858948    40.882157\n",
       "50           51  -73.828264   40.873973           92   -73.828859    40.761102\n",
       "165         166  -73.961764   40.809457          234   -73.990458    40.740337\n",
       "206         207  -73.899353   40.763986          248   -73.872289    40.834165\n",
       "194         195  -74.009178   40.675549           68   -73.999917    40.748428"
      ]
     },
     "execution_count": 30,
     "metadata": {},
     "output_type": "execute_result"
    }
   ],
   "source": [
    "# sample points\n",
    "\n",
    "df = pd.read_csv('https://raw.githubusercontent.com/CUSP2022FallPUI/Labs/main/samplePoints.csv?token=GHSAT0AAAAAABYOYVW4RPCCDWTFHVRLU4OKYZQY2XA')\n",
    "sample = df.sample(50, random_state=2020)\n",
    "sample.head()"
   ]
  },
  {
   "cell_type": "code",
   "execution_count": 45,
   "metadata": {},
   "outputs": [],
   "source": [
    "# write function for getting average FHV and SFHV times\n",
    "#### hint: function will essentially be the same as for FHV except for the change in the request parameters and returning \n",
    "def FHV_times(df):\n",
    "    FHVtimes = [] # list for storing travel times\n",
    "    SFHVtimes = []\n",
    "    for index, row in df.iterrows(): # iterating through all rows of sample points\n",
    "        \n",
    "        # specify parameters for making request\n",
    "        parameters_FHV = {'pulocationid':int(row['LocationID']), 'dolocationid':int(row['LocationID2'])}\n",
    "        \n",
    "        url =  \"https://data.cityofnewyork.us/resource/u6nh-b56h.json\"\n",
    "        r_FHV = requests.get(url = url, params=parameters_FHV)\n",
    "        data_FHV = r_FHV.json()\n",
    "        \n",
    "        travelTime_FHV = []\n",
    "        \n",
    "        for obs in data_FHV :           \n",
    "            try:\n",
    "                time = parser.parse(obs['dropoff_datetime']) - parser.parse(obs['pickup_datetime'])\n",
    "                time = time.total_seconds()\n",
    "\n",
    "                if (time < 6000 and time > 60):\n",
    "                    travelTime_FHV.append(time)\n",
    "                    \n",
    "            except: \n",
    "                pass\n",
    "            \n",
    "        parameters_SFHV = {'pulocationid':int(row['LocationID']), 'dolocationid':int(row['LocationID2']),'sr_flag':1}\n",
    "        \n",
    "        url =  \"https://data.cityofnewyork.us/resource/u6nh-b56h.json\"\n",
    "        r_SFHV = requests.get(url = url, params=parameters_SFHV)\n",
    "        data_SFHV = r_SFHV.json()\n",
    "        \n",
    "        travelTime_SFHV = []\n",
    "        \n",
    "        for obs in data_SFHV:           \n",
    "            try:\n",
    "                time = parser.parse(obs['dropoff_datetime']) - parser.parse(obs['pickup_datetime'])\n",
    "                time = time.total_seconds()\n",
    "\n",
    "                if (time < 6000 and time > 60):\n",
    "                    travelTime_SFHV.append(time)\n",
    "                    \n",
    "            except: \n",
    "                pass   \n",
    "            \n",
    "            \n",
    "    \n",
    "        FHVtimes.append(np.mean(travelTime_FHV))\n",
    "        SFHVtimes.append(np.mean(travelTime_SFHV))\n",
    "    \n",
    "    return (FHVtimes,SFHVtimes)"
   ]
  },
  {
   "cell_type": "code",
   "execution_count": 46,
   "metadata": {},
   "outputs": [
    {
     "name": "stderr",
     "output_type": "stream",
     "text": [
      "C:\\Users\\Shantanu\\anaconda3\\envs\\geo_env\\lib\\site-packages\\numpy\\core\\fromnumeric.py:3432: RuntimeWarning: Mean of empty slice.\n",
      "  return _methods._mean(a, axis=axis, dtype=dtype,\n",
      "C:\\Users\\Shantanu\\anaconda3\\envs\\geo_env\\lib\\site-packages\\numpy\\core\\_methods.py:190: RuntimeWarning: invalid value encountered in double_scalars\n",
      "  ret = ret.dtype.type(ret / rcount)\n"
     ]
    }
   ],
   "source": [
    "## requests from API (call the above function)\n",
    "FHVtimes,SFHVtimes = FHV_times(sample)"
   ]
  },
  {
   "cell_type": "code",
   "execution_count": 47,
   "metadata": {},
   "outputs": [
    {
     "data": {
      "text/html": [
       "<div>\n",
       "<style scoped>\n",
       "    .dataframe tbody tr th:only-of-type {\n",
       "        vertical-align: middle;\n",
       "    }\n",
       "\n",
       "    .dataframe tbody tr th {\n",
       "        vertical-align: top;\n",
       "    }\n",
       "\n",
       "    .dataframe thead th {\n",
       "        text-align: right;\n",
       "    }\n",
       "</style>\n",
       "<table border=\"1\" class=\"dataframe\">\n",
       "  <thead>\n",
       "    <tr style=\"text-align: right;\">\n",
       "      <th></th>\n",
       "      <th>LocationID</th>\n",
       "      <th>lon_pickup</th>\n",
       "      <th>lat_pickup</th>\n",
       "      <th>LocationID2</th>\n",
       "      <th>lon_dropoff</th>\n",
       "      <th>lat_dropoff</th>\n",
       "      <th>FHV time</th>\n",
       "      <th>SFHV time</th>\n",
       "    </tr>\n",
       "  </thead>\n",
       "  <tbody>\n",
       "    <tr>\n",
       "      <th>109</th>\n",
       "      <td>110</td>\n",
       "      <td>-74.128342</td>\n",
       "      <td>40.545780</td>\n",
       "      <td>254</td>\n",
       "      <td>-73.858948</td>\n",
       "      <td>40.882157</td>\n",
       "      <td>NaN</td>\n",
       "      <td>NaN</td>\n",
       "    </tr>\n",
       "    <tr>\n",
       "      <th>50</th>\n",
       "      <td>51</td>\n",
       "      <td>-73.828264</td>\n",
       "      <td>40.873973</td>\n",
       "      <td>92</td>\n",
       "      <td>-73.828859</td>\n",
       "      <td>40.761102</td>\n",
       "      <td>1431.289157</td>\n",
       "      <td>1493.700000</td>\n",
       "    </tr>\n",
       "    <tr>\n",
       "      <th>165</th>\n",
       "      <td>166</td>\n",
       "      <td>-73.961764</td>\n",
       "      <td>40.809457</td>\n",
       "      <td>234</td>\n",
       "      <td>-73.990458</td>\n",
       "      <td>40.740337</td>\n",
       "      <td>1890.944193</td>\n",
       "      <td>2217.561224</td>\n",
       "    </tr>\n",
       "    <tr>\n",
       "      <th>206</th>\n",
       "      <td>207</td>\n",
       "      <td>-73.899353</td>\n",
       "      <td>40.763986</td>\n",
       "      <td>248</td>\n",
       "      <td>-73.872289</td>\n",
       "      <td>40.834165</td>\n",
       "      <td>1511.000000</td>\n",
       "      <td>NaN</td>\n",
       "    </tr>\n",
       "    <tr>\n",
       "      <th>194</th>\n",
       "      <td>195</td>\n",
       "      <td>-74.009178</td>\n",
       "      <td>40.675549</td>\n",
       "      <td>68</td>\n",
       "      <td>-73.999917</td>\n",
       "      <td>40.748428</td>\n",
       "      <td>1640.843750</td>\n",
       "      <td>1828.200000</td>\n",
       "    </tr>\n",
       "  </tbody>\n",
       "</table>\n",
       "</div>"
      ],
      "text/plain": [
       "     LocationID  lon_pickup  lat_pickup  LocationID2  lon_dropoff  \\\n",
       "109         110  -74.128342   40.545780          254   -73.858948   \n",
       "50           51  -73.828264   40.873973           92   -73.828859   \n",
       "165         166  -73.961764   40.809457          234   -73.990458   \n",
       "206         207  -73.899353   40.763986          248   -73.872289   \n",
       "194         195  -74.009178   40.675549           68   -73.999917   \n",
       "\n",
       "     lat_dropoff     FHV time    SFHV time  \n",
       "109    40.882157          NaN          NaN  \n",
       "50     40.761102  1431.289157  1493.700000  \n",
       "165    40.740337  1890.944193  2217.561224  \n",
       "206    40.834165  1511.000000          NaN  \n",
       "194    40.748428  1640.843750  1828.200000  "
      ]
     },
     "execution_count": 47,
     "metadata": {},
     "output_type": "execute_result"
    }
   ],
   "source": [
    "# create new columns in the above 'sample' dataframe named 'FHV time' and 'SFHV time' with above retrieved times\n",
    "sample['FHV time'],sample['SFHV time'] = FHVtimes,SFHVtimes\n",
    "sample.head()\n"
   ]
  },
  {
   "cell_type": "markdown",
   "metadata": {},
   "source": [
    "### Task 3: Comparison of times for FHV and shared FHV"
   ]
  },
  {
   "cell_type": "code",
   "execution_count": 51,
   "metadata": {},
   "outputs": [
    {
     "name": "stdout",
     "output_type": "stream",
     "text": [
      "(50, 8)\n"
     ]
    },
    {
     "data": {
      "text/plain": [
       "LocationID      0\n",
       "lon_pickup      0\n",
       "lat_pickup      0\n",
       "LocationID2     0\n",
       "lon_dropoff     0\n",
       "lat_dropoff     0\n",
       "FHV time        8\n",
       "SFHV time      20\n",
       "dtype: int64"
      ]
     },
     "execution_count": 51,
     "metadata": {},
     "output_type": "execute_result"
    }
   ],
   "source": [
    "## check number of 'Nan' values (if any) retrieved from travel times\n",
    "print(sample.shape)\n",
    "sample.isna().sum()"
   ]
  },
  {
   "cell_type": "code",
   "execution_count": 55,
   "metadata": {},
   "outputs": [
    {
     "name": "stdout",
     "output_type": "stream",
     "text": [
      "(30, 8)\n"
     ]
    }
   ],
   "source": [
    "# remove the rows if any of the retrieved FHV or shared FHV times has 'Nan'\n",
    "sample_1 = sample.dropna(subset = ['FHV time', 'SFHV time'])\n",
    "print(sample_1.shape)"
   ]
  },
  {
   "cell_type": "code",
   "execution_count": 37,
   "metadata": {},
   "outputs": [],
   "source": [
    "# make scatter plot comparing FHV times with shared FHV times for the 50 sample O-D pairs\n",
    "# add a FHV=SFHV baseline to see if most of the points are above (FHV time>SFHV time) or below (FHV time<SFHV time)\n",
    "\n",
    "# hint: use plt.plot(var1, var2, 'o') for scatter plots between two variables var1 and var2 of interest"
   ]
  },
  {
   "cell_type": "code",
   "execution_count": 81,
   "metadata": {},
   "outputs": [
    {
     "data": {
      "text/plain": [
       "Text(0, 0.5, 'SFHV time (seconds)')"
      ]
     },
     "execution_count": 81,
     "metadata": {},
     "output_type": "execute_result"
    },
    {
     "data": {
      "image/png": "[encoded data removed]",
      "text/plain": [
       "<Figure size 640x480 with 1 Axes>"
      ]
     },
     "metadata": {},
     "output_type": "display_data"
    }
   ],
   "source": [
    " \n",
    "from matplotlib import pyplot as plt\n",
    "%matplotlib inline\n",
    "plt.plot(sample_1['FHV time'],sample_1['SFHV time'], 'o')\n",
    "baseline= np.linspace(min(sample_1['FHV time']),max(sample_1['SFHV time']))\n",
    "\n",
    "plt.plot(baseline,baseline,color=\"red\",\n",
    "         #linestyle=\"dashed\",\n",
    "         linewidth=3.0)\n",
    "plt.xlabel('FHV time (seconds)')\n",
    "plt.ylabel('SFHV time (seconds)')"
   ]
  },
  {
   "cell_type": "markdown",
   "metadata": {},
   "source": [
    "## Extra credit task- Using one other API : geocoding\n",
    "Geocoding referes to converting textual addresses into lat-long. Useful in getting a precise location of a place"
   ]
  },
  {
   "cell_type": "markdown",
   "metadata": {},
   "source": [
    "we'll use HereAPI again for geocoding. Same API key as before will work. The endpoint for geocoding API is https://geocode.search.hereapi.com/v1/geocode \n",
    "Many other companies also provide geocoding API services (eg. Google)\n",
    "\n",
    "To specify an address, we use the 'q' parameter in the endpoint. For example, if we want to get lat-long for '5 Rue Daunou, 75000 Paris, France', we'll use the following endpoint:\n",
    "\n",
    "https://geocode.search.hereapi.com/v1/geocode?q=5+Rue+Daunou%2C+75000+Paris%2C+France&apiKey={}\n",
    "\n",
    "Essentially, we write the addresses as a query with spaces being replaced by '+' and commas being repalced by '%2C'"
   ]
  },
  {
   "cell_type": "code",
   "execution_count": 92,
   "metadata": {},
   "outputs": [
    {
     "data": {
      "text/plain": [
       "{'items': [{'title': '372 91st St, Brooklyn, NY 11209-5808, United States',\n",
       "   'id': 'here:af:streetsection:LMCuA7Zy2.vcHdXoMg7tIA:CgcIBCDx1uIjEAEaAzM3Mg',\n",
       "   'resultType': 'houseNumber',\n",
       "   'houseNumberType': 'PA',\n",
       "   'address': {'label': '372 91st St, Brooklyn, NY 11209-5808, United States',\n",
       "    'countryCode': 'USA',\n",
       "    'countryName': 'United States',\n",
       "    'stateCode': 'NY',\n",
       "    'state': 'New York',\n",
       "    'county': 'Kings',\n",
       "    'city': 'Brooklyn',\n",
       "    'district': 'Bay Ridge & Fort Hamilton',\n",
       "    'street': '91st St',\n",
       "    'postalCode': '11209-5808',\n",
       "    'houseNumber': '372'},\n",
       "   'position': {'lat': 40.61933, 'lng': -74.0304},\n",
       "   'access': [{'lat': 40.6194, 'lng': -74.03034}],\n",
       "   'mapView': {'west': -74.03158,\n",
       "    'south': 40.61843,\n",
       "    'east': -74.02922,\n",
       "    'north': 40.62023},\n",
       "   'scoring': {'queryScore': 0.72,\n",
       "    'fieldScore': {'city': 1.0, 'streets': [1.0], 'houseNumber': 1.0}}}]}"
      ]
     },
     "execution_count": 92,
     "metadata": {},
     "output_type": "execute_result"
    }
   ],
   "source": [
    "## try out a geocode request for a random address. Remember to be precise in specifying the address to remove any ambiguity\n",
    "\n",
    "# API key\n",
    "key = \"b3xPdBwHsbKdXIkKNws3wzn3IKY28PlZWI4O7I7hDYo \"\n",
    "\n",
    "address= \"372, 91st Street, Bayridge, Brooklyn\"\n",
    "address.replace('','+').replace(',','%2C')\n",
    "\n",
    "\n",
    "# API endpoint with query as your address\n",
    "url = ('https://geocode.search.hereapi.com/v1/geocode?q=372%2C+91st+Street%2C+Bayridge%2C+Brooklyn&apiKey={}')\n",
    "url= url.format(key)\n",
    "\n",
    "data = urllib.urlopen(url).read().decode('utf-8')\n",
    "data = json.loads(data)\n",
    "data"
   ]
  },
  {
   "cell_type": "code",
   "execution_count": 93,
   "metadata": {},
   "outputs": [
    {
     "data": {
      "text/plain": [
       "{'lat': 40.61933, 'lng': -74.0304}"
      ]
     },
     "execution_count": 93,
     "metadata": {},
     "output_type": "execute_result"
    }
   ],
   "source": [
    "## get latitude and longitude from returned json request\n",
    "\n",
    "data['items'][0]['position']"
   ]
  },
  {
   "cell_type": "code",
   "execution_count": null,
   "metadata": {},
   "outputs": [],
   "source": []
  }
 ],
 "metadata": {
  "kernelspec": {
   "display_name": "geo_env",
   "language": "python",
   "name": "geo_env"
  },
  "language_info": {
   "codemirror_mode": {
    "name": "ipython",
    "version": 3
   },
   "file_extension": ".py",
   "mimetype": "text/x-python",
   "name": "python",
   "nbconvert_exporter": "python",
   "pygments_lexer": "ipython3",
   "version": "3.10.6"
  }
 },
 "nbformat": 4,
 "nbformat_minor": 4
}
